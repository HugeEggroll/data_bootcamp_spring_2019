{
 "cells": [
  {
   "cell_type": "code",
   "execution_count": 138,
   "metadata": {},
   "outputs": [],
   "source": [
    "import pandas as pd             # data package\n",
    "import matplotlib.pyplot as plt # graphics \n",
    "import datetime as dt\n",
    "import numpy as np\n",
    "\n",
    "# these are new \n",
    "import requests, io             # internet and input tools  \n",
    "import zipfile as zf            # zip file tools \n",
    "import shutil                   # file management tools \n",
    "import os                       # operating system tools (check files)"
   ]
  },
  {
   "cell_type": "markdown",
   "metadata": {},
   "source": [
    "### Create a Map and...\n",
    "\n",
    "Generate trade exposure metrics for which we can project outcomes at the county/cmz level on changes in trade exposure and/or tariff exposure. The key resource that I am exploiting is the [Quarterly Census of Employment and Wages](https://www.bls.gov/cew/datatoc.htm). \n",
    "\n",
    "The process will work like this:\n",
    "\n",
    "- For 2017, read in the data and construct national level employment and wages by NAICS. Issue here is that we need to be consistent about how stuff is masked at different levels of aggregation. So I will start at county level then work up.\n",
    "\n",
    "- Merge the national level outcomes with the trade data (at the NAICS) level\n",
    "\n",
    "- Then we construct county level \"weights\". So something like a county's share of national employment by NAICS code, multiply this by total exports of that NAICS code, then sum across all NAICS codes, all for a county. This will aportion exports to a county based on their national level employment share. The sum is a summary measure of a county's exports.\n",
    "\n",
    "---\n",
    "\n",
    "#### Step 1: Read in and clean up the BLS, single file dataset."
   ]
  },
  {
   "cell_type": "code",
   "execution_count": 3,
   "metadata": {},
   "outputs": [],
   "source": [
    "url = \"https://data.bls.gov/cew/data/files/2017/csv/2017_annual_singlefile.zip\"\n",
    "# This will read in the annual, single file. It's big, but has all we want...\n",
    "\n",
    "r = requests.get(url) "
   ]
  },
  {
   "cell_type": "code",
   "execution_count": 4,
   "metadata": {},
   "outputs": [
    {
     "name": "stdout",
     "output_type": "stream",
     "text": [
      "Type of zipfile object: <class 'zipfile.ZipFile'>\n"
     ]
    }
   ],
   "source": [
    "# convert bytes to zip file  \n",
    "bls_sf = zf.ZipFile(io.BytesIO(r.content)) \n",
    "print('Type of zipfile object:', type(bls_sf))"
   ]
  },
  {
   "cell_type": "code",
   "execution_count": 5,
   "metadata": {},
   "outputs": [
    {
     "data": {
      "text/plain": [
       "['2017.annual.singlefile.csv']"
      ]
     },
     "execution_count": 5,
     "metadata": {},
     "output_type": "execute_result"
    }
   ],
   "source": [
    "bls_sf.namelist()"
   ]
  },
  {
   "cell_type": "code",
   "execution_count": 6,
   "metadata": {},
   "outputs": [],
   "source": [
    "clist = ['area_fips', 'own_code', 'industry_code', 'agglvl_code', 'size_code',\n",
    "       'year', 'disclosure_code', 'annual_avg_estabs',\n",
    "       'annual_avg_emplvl', 'total_annual_wages','avg_annual_pay']\n",
    "\n",
    "# These are the columns we care about and will grab"
   ]
  },
  {
   "cell_type": "markdown",
   "metadata": {},
   "source": [
    "[https://data.bls.gov/cew/doc/titles/area/area_titles.htm](https://data.bls.gov/cew/doc/titles/area/area_titles.htm)"
   ]
  },
  {
   "cell_type": "code",
   "execution_count": 218,
   "metadata": {},
   "outputs": [],
   "source": [
    "df = pd.read_csv(bls_sf.open(bls_sf.namelist()[0]), usecols= clist)"
   ]
  },
  {
   "cell_type": "code",
   "execution_count": 219,
   "metadata": {},
   "outputs": [
    {
     "data": {
      "text/html": [
       "<div>\n",
       "<style scoped>\n",
       "    .dataframe tbody tr th:only-of-type {\n",
       "        vertical-align: middle;\n",
       "    }\n",
       "\n",
       "    .dataframe tbody tr th {\n",
       "        vertical-align: top;\n",
       "    }\n",
       "\n",
       "    .dataframe thead th {\n",
       "        text-align: right;\n",
       "    }\n",
       "</style>\n",
       "<table border=\"1\" class=\"dataframe\">\n",
       "  <thead>\n",
       "    <tr style=\"text-align: right;\">\n",
       "      <th></th>\n",
       "      <th>area_fips</th>\n",
       "      <th>own_code</th>\n",
       "      <th>industry_code</th>\n",
       "      <th>agglvl_code</th>\n",
       "      <th>size_code</th>\n",
       "      <th>year</th>\n",
       "      <th>disclosure_code</th>\n",
       "      <th>annual_avg_estabs</th>\n",
       "      <th>annual_avg_emplvl</th>\n",
       "      <th>total_annual_wages</th>\n",
       "      <th>avg_annual_pay</th>\n",
       "    </tr>\n",
       "  </thead>\n",
       "  <tbody>\n",
       "    <tr>\n",
       "      <th>0</th>\n",
       "      <td>1000</td>\n",
       "      <td>0</td>\n",
       "      <td>10</td>\n",
       "      <td>50</td>\n",
       "      <td>0</td>\n",
       "      <td>2017</td>\n",
       "      <td>NaN</td>\n",
       "      <td>124881</td>\n",
       "      <td>1936819</td>\n",
       "      <td>89088710816</td>\n",
       "      <td>45997</td>\n",
       "    </tr>\n",
       "    <tr>\n",
       "      <th>1</th>\n",
       "      <td>1000</td>\n",
       "      <td>1</td>\n",
       "      <td>10</td>\n",
       "      <td>51</td>\n",
       "      <td>0</td>\n",
       "      <td>2017</td>\n",
       "      <td>NaN</td>\n",
       "      <td>1208</td>\n",
       "      <td>53131</td>\n",
       "      <td>4339038631</td>\n",
       "      <td>81668</td>\n",
       "    </tr>\n",
       "    <tr>\n",
       "      <th>2</th>\n",
       "      <td>1000</td>\n",
       "      <td>1</td>\n",
       "      <td>102</td>\n",
       "      <td>52</td>\n",
       "      <td>0</td>\n",
       "      <td>2017</td>\n",
       "      <td>NaN</td>\n",
       "      <td>1208</td>\n",
       "      <td>53131</td>\n",
       "      <td>4339038631</td>\n",
       "      <td>81668</td>\n",
       "    </tr>\n",
       "    <tr>\n",
       "      <th>3</th>\n",
       "      <td>1000</td>\n",
       "      <td>1</td>\n",
       "      <td>1021</td>\n",
       "      <td>53</td>\n",
       "      <td>0</td>\n",
       "      <td>2017</td>\n",
       "      <td>NaN</td>\n",
       "      <td>610</td>\n",
       "      <td>11173</td>\n",
       "      <td>716001109</td>\n",
       "      <td>64083</td>\n",
       "    </tr>\n",
       "    <tr>\n",
       "      <th>4</th>\n",
       "      <td>1000</td>\n",
       "      <td>1</td>\n",
       "      <td>1022</td>\n",
       "      <td>53</td>\n",
       "      <td>0</td>\n",
       "      <td>2017</td>\n",
       "      <td>NaN</td>\n",
       "      <td>2</td>\n",
       "      <td>12</td>\n",
       "      <td>369309</td>\n",
       "      <td>30354</td>\n",
       "    </tr>\n",
       "  </tbody>\n",
       "</table>\n",
       "</div>"
      ],
      "text/plain": [
       "  area_fips  own_code industry_code  agglvl_code  size_code  year  \\\n",
       "0      1000         0            10           50          0  2017   \n",
       "1      1000         1            10           51          0  2017   \n",
       "2      1000         1           102           52          0  2017   \n",
       "3      1000         1          1021           53          0  2017   \n",
       "4      1000         1          1022           53          0  2017   \n",
       "\n",
       "  disclosure_code  annual_avg_estabs  annual_avg_emplvl  total_annual_wages  \\\n",
       "0             NaN             124881            1936819         89088710816   \n",
       "1             NaN               1208              53131          4339038631   \n",
       "2             NaN               1208              53131          4339038631   \n",
       "3             NaN                610              11173           716001109   \n",
       "4             NaN                  2                 12              369309   \n",
       "\n",
       "   avg_annual_pay  \n",
       "0           45997  \n",
       "1           81668  \n",
       "2           81668  \n",
       "3           64083  \n",
       "4           30354  "
      ]
     },
     "execution_count": 219,
     "metadata": {},
     "output_type": "execute_result"
    }
   ],
   "source": [
    "df.head()"
   ]
  },
  {
   "cell_type": "code",
   "execution_count": 220,
   "metadata": {},
   "outputs": [
    {
     "data": {
      "text/plain": [
       "Index(['area_fips', 'own_code', 'industry_code', 'agglvl_code', 'size_code',\n",
       "       'year', 'disclosure_code', 'annual_avg_estabs', 'annual_avg_emplvl',\n",
       "       'total_annual_wages', 'avg_annual_pay'],\n",
       "      dtype='object')"
      ]
     },
     "execution_count": 220,
     "metadata": {},
     "output_type": "execute_result"
    }
   ],
   "source": [
    "df.columns"
   ]
  },
  {
   "cell_type": "markdown",
   "metadata": {},
   "source": [
    "#### Step 2: Create National Aggregates\n",
    "\n",
    "Now what we want to do is to create a national dataset for which we can merge on the county...."
   ]
  },
  {
   "cell_type": "code",
   "execution_count": 295,
   "metadata": {},
   "outputs": [],
   "source": [
    "NAICS_county_level = 76 \n",
    "\n",
    "df_county = df[df.agglvl_code == 76].copy()\n",
    "\n",
    "df_county = df_county[df_county.own_code == 5]\n",
    "\n",
    "df_county = df_county[(df_county.area_fips.str[0:2] != \"72\") & (df_county.area_fips.str[0:2] != \"78\")\n",
    "              & (df_county.area_fips.str[0:2] != \"02\") & (df_county.area_fips.str[0:2] != \"15\")]\n",
    "\n",
    "df_county[\"sup_ind\"] = df_county.industry_code.str[1].astype(int)\n",
    "\n",
    "df_county = df_county[df_county[\"sup_ind\"] > 0]"
   ]
  },
  {
   "cell_type": "code",
   "execution_count": 298,
   "metadata": {},
   "outputs": [],
   "source": [
    "df_national = df_county.groupby(\"industry_code\").agg({\"annual_avg_emplvl\": \"sum\"})"
   ]
  },
  {
   "cell_type": "code",
   "execution_count": 301,
   "metadata": {},
   "outputs": [],
   "source": [
    "df_national.reset_index(inplace = True)"
   ]
  },
  {
   "cell_type": "code",
   "execution_count": 302,
   "metadata": {},
   "outputs": [
    {
     "data": {
      "text/plain": [
       "(304, 2)"
      ]
     },
     "execution_count": 302,
     "metadata": {},
     "output_type": "execute_result"
    }
   ],
   "source": [
    "df_national.shape"
   ]
  },
  {
   "cell_type": "markdown",
   "metadata": {},
   "source": [
    "---\n",
    "\n",
    "#### Step 3. Merge national aggregates with trade data"
   ]
  },
  {
   "cell_type": "code",
   "execution_count": 16,
   "metadata": {},
   "outputs": [],
   "source": [
    "my_key = \"&key=34e40301bda77077e24c859c6c6c0b721ad73fc7\"\n",
    "\n",
    "end_use = \"naics?get=NAICS,CTY_CODE,ALL_VAL_MO,CTY_NAME\"\n",
    "\n",
    "url = \"https://api.census.gov/data/timeseries/intltrade/exports/\" + end_use + my_key + \"&time==from+2017-01\" + \"&COMM_LVL=NA4\"\n",
    "\n",
    "url = url + \"&CTY_CODE=5700\""
   ]
  },
  {
   "cell_type": "code",
   "execution_count": 17,
   "metadata": {},
   "outputs": [
    {
     "data": {
      "text/plain": [
       "<Response [200]>"
      ]
     },
     "execution_count": 17,
     "metadata": {},
     "output_type": "execute_result"
    }
   ],
   "source": [
    "r = requests.get(url) \n",
    "\n",
    "r"
   ]
  },
  {
   "cell_type": "code",
   "execution_count": 19,
   "metadata": {},
   "outputs": [
    {
     "data": {
      "text/html": [
       "<div>\n",
       "<style scoped>\n",
       "    .dataframe tbody tr th:only-of-type {\n",
       "        vertical-align: middle;\n",
       "    }\n",
       "\n",
       "    .dataframe tbody tr th {\n",
       "        vertical-align: top;\n",
       "    }\n",
       "\n",
       "    .dataframe thead th {\n",
       "        text-align: right;\n",
       "    }\n",
       "</style>\n",
       "<table border=\"1\" class=\"dataframe\">\n",
       "  <thead>\n",
       "    <tr style=\"text-align: right;\">\n",
       "      <th></th>\n",
       "      <th>NAICS</th>\n",
       "      <th>CTY_CODE</th>\n",
       "      <th>ALL_VAL_MO</th>\n",
       "      <th>CTY_NAME</th>\n",
       "      <th>time</th>\n",
       "      <th>COMM_LVL</th>\n",
       "      <th>CTY_CODE</th>\n",
       "    </tr>\n",
       "  </thead>\n",
       "  <tbody>\n",
       "    <tr>\n",
       "      <th>0</th>\n",
       "      <td>1111</td>\n",
       "      <td>5700</td>\n",
       "      <td>1.931313e+09</td>\n",
       "      <td>CHINA</td>\n",
       "      <td>2017-01-01</td>\n",
       "      <td>NA4</td>\n",
       "      <td>5700</td>\n",
       "    </tr>\n",
       "    <tr>\n",
       "      <th>1</th>\n",
       "      <td>1112</td>\n",
       "      <td>5700</td>\n",
       "      <td>1.071322e+06</td>\n",
       "      <td>CHINA</td>\n",
       "      <td>2017-01-01</td>\n",
       "      <td>NA4</td>\n",
       "      <td>5700</td>\n",
       "    </tr>\n",
       "    <tr>\n",
       "      <th>2</th>\n",
       "      <td>1113</td>\n",
       "      <td>5700</td>\n",
       "      <td>1.480522e+07</td>\n",
       "      <td>CHINA</td>\n",
       "      <td>2017-01-01</td>\n",
       "      <td>NA4</td>\n",
       "      <td>5700</td>\n",
       "    </tr>\n",
       "    <tr>\n",
       "      <th>3</th>\n",
       "      <td>1114</td>\n",
       "      <td>5700</td>\n",
       "      <td>1.512023e+06</td>\n",
       "      <td>CHINA</td>\n",
       "      <td>2017-01-01</td>\n",
       "      <td>NA4</td>\n",
       "      <td>5700</td>\n",
       "    </tr>\n",
       "    <tr>\n",
       "      <th>4</th>\n",
       "      <td>1119</td>\n",
       "      <td>5700</td>\n",
       "      <td>1.673608e+08</td>\n",
       "      <td>CHINA</td>\n",
       "      <td>2017-01-01</td>\n",
       "      <td>NA4</td>\n",
       "      <td>5700</td>\n",
       "    </tr>\n",
       "    <tr>\n",
       "      <th>5</th>\n",
       "      <td>1121</td>\n",
       "      <td>5700</td>\n",
       "      <td>1.172263e+06</td>\n",
       "      <td>CHINA</td>\n",
       "      <td>2017-01-01</td>\n",
       "      <td>NA4</td>\n",
       "      <td>5700</td>\n",
       "    </tr>\n",
       "    <tr>\n",
       "      <th>6</th>\n",
       "      <td>1122</td>\n",
       "      <td>5700</td>\n",
       "      <td>2.740000e+03</td>\n",
       "      <td>CHINA</td>\n",
       "      <td>2017-01-01</td>\n",
       "      <td>NA4</td>\n",
       "      <td>5700</td>\n",
       "    </tr>\n",
       "    <tr>\n",
       "      <th>7</th>\n",
       "      <td>1124</td>\n",
       "      <td>5700</td>\n",
       "      <td>3.917830e+05</td>\n",
       "      <td>CHINA</td>\n",
       "      <td>2017-01-01</td>\n",
       "      <td>NA4</td>\n",
       "      <td>5700</td>\n",
       "    </tr>\n",
       "    <tr>\n",
       "      <th>8</th>\n",
       "      <td>1125</td>\n",
       "      <td>5700</td>\n",
       "      <td>2.599500e+04</td>\n",
       "      <td>CHINA</td>\n",
       "      <td>2017-01-01</td>\n",
       "      <td>NA4</td>\n",
       "      <td>5700</td>\n",
       "    </tr>\n",
       "    <tr>\n",
       "      <th>9</th>\n",
       "      <td>1129</td>\n",
       "      <td>5700</td>\n",
       "      <td>1.046655e+06</td>\n",
       "      <td>CHINA</td>\n",
       "      <td>2017-01-01</td>\n",
       "      <td>NA4</td>\n",
       "      <td>5700</td>\n",
       "    </tr>\n",
       "  </tbody>\n",
       "</table>\n",
       "</div>"
      ],
      "text/plain": [
       "  NAICS CTY_CODE    ALL_VAL_MO CTY_NAME       time COMM_LVL CTY_CODE\n",
       "0  1111     5700  1.931313e+09    CHINA 2017-01-01      NA4     5700\n",
       "1  1112     5700  1.071322e+06    CHINA 2017-01-01      NA4     5700\n",
       "2  1113     5700  1.480522e+07    CHINA 2017-01-01      NA4     5700\n",
       "3  1114     5700  1.512023e+06    CHINA 2017-01-01      NA4     5700\n",
       "4  1119     5700  1.673608e+08    CHINA 2017-01-01      NA4     5700\n",
       "5  1121     5700  1.172263e+06    CHINA 2017-01-01      NA4     5700\n",
       "6  1122     5700  2.740000e+03    CHINA 2017-01-01      NA4     5700\n",
       "7  1124     5700  3.917830e+05    CHINA 2017-01-01      NA4     5700\n",
       "8  1125     5700  2.599500e+04    CHINA 2017-01-01      NA4     5700\n",
       "9  1129     5700  1.046655e+06    CHINA 2017-01-01      NA4     5700"
      ]
     },
     "execution_count": 19,
     "metadata": {},
     "output_type": "execute_result"
    }
   ],
   "source": [
    "dftrade = pd.DataFrame(r.json()[1:]) # This then converts it to a dataframe\n",
    "# Note that the first entry is the labels\n",
    "\n",
    "dftrade.columns = r.json()[0]\n",
    "\n",
    "dftrade.time = pd.to_datetime(dftrade.time, format=\"%Y-%m\")\n",
    "# This is so I can call this correctly...\n",
    "\n",
    "dftrade.ALL_VAL_MO = dftrade.ALL_VAL_MO.astype(float)\n",
    "\n",
    "dftrade.head(10)"
   ]
  },
  {
   "cell_type": "code",
   "execution_count": 20,
   "metadata": {},
   "outputs": [],
   "source": [
    "dftrade.set_index(\"time\", inplace = True)"
   ]
  },
  {
   "cell_type": "code",
   "execution_count": 21,
   "metadata": {},
   "outputs": [],
   "source": [
    "df17naics_trade = dftrade.loc[\"2017\"].groupby(\"NAICS\").agg({\"ALL_VAL_MO\":\"sum\"})\n",
    "# Alot going on here, grab 2017, groupby NAICS code, then compute the sum. \n",
    "# So for a given NAICS code, this will be summing accross all observations,\n",
    "# which in this case is across months. Thus this is annual exports."
   ]
  },
  {
   "cell_type": "code",
   "execution_count": 22,
   "metadata": {},
   "outputs": [
    {
     "data": {
      "text/html": [
       "<div>\n",
       "<style scoped>\n",
       "    .dataframe tbody tr th:only-of-type {\n",
       "        vertical-align: middle;\n",
       "    }\n",
       "\n",
       "    .dataframe tbody tr th {\n",
       "        vertical-align: top;\n",
       "    }\n",
       "\n",
       "    .dataframe thead th {\n",
       "        text-align: right;\n",
       "    }\n",
       "</style>\n",
       "<table border=\"1\" class=\"dataframe\">\n",
       "  <thead>\n",
       "    <tr style=\"text-align: right;\">\n",
       "      <th></th>\n",
       "      <th>ALL_VAL_MO</th>\n",
       "    </tr>\n",
       "    <tr>\n",
       "      <th>NAICS</th>\n",
       "      <th></th>\n",
       "    </tr>\n",
       "  </thead>\n",
       "  <tbody>\n",
       "    <tr>\n",
       "      <th>1111</th>\n",
       "      <td>1.362627e+10</td>\n",
       "    </tr>\n",
       "    <tr>\n",
       "      <th>1112</th>\n",
       "      <td>4.750172e+07</td>\n",
       "    </tr>\n",
       "    <tr>\n",
       "      <th>1113</th>\n",
       "      <td>4.519789e+08</td>\n",
       "    </tr>\n",
       "    <tr>\n",
       "      <th>1114</th>\n",
       "      <td>1.680611e+07</td>\n",
       "    </tr>\n",
       "    <tr>\n",
       "      <th>1119</th>\n",
       "      <td>1.665841e+09</td>\n",
       "    </tr>\n",
       "  </tbody>\n",
       "</table>\n",
       "</div>"
      ],
      "text/plain": [
       "         ALL_VAL_MO\n",
       "NAICS              \n",
       "1111   1.362627e+10\n",
       "1112   4.750172e+07\n",
       "1113   4.519789e+08\n",
       "1114   1.680611e+07\n",
       "1119   1.665841e+09"
      ]
     },
     "execution_count": 22,
     "metadata": {},
     "output_type": "execute_result"
    }
   ],
   "source": [
    "df17naics_trade.head()"
   ]
  },
  {
   "cell_type": "code",
   "execution_count": 166,
   "metadata": {},
   "outputs": [],
   "source": [
    "total_trade = df17naics_trade.ALL_VAL_MO.sum()"
   ]
  },
  {
   "cell_type": "markdown",
   "metadata": {},
   "source": [
    "Then merge it with the national level NAICS. Note the groupby operation above leaves the index as the naics code left is on the industry code. Default here is inner, need to think about if I want to carry around zeros."
   ]
  },
  {
   "cell_type": "code",
   "execution_count": 303,
   "metadata": {},
   "outputs": [],
   "source": [
    "df_nation_naics = df_national.merge(df17naics_trade, how = \"outer\", left_on = \"industry_code\", right_index = True)\n"
   ]
  },
  {
   "cell_type": "code",
   "execution_count": 304,
   "metadata": {},
   "outputs": [
    {
     "name": "stdout",
     "output_type": "stream",
     "text": [
      "number of NAICS codes with trade 307\n",
      "national employment 106302755.0\n",
      "Potential China Export Employment 106302755.0\n",
      "Share of Employment Potentially Exposed 67.725\n"
     ]
    }
   ],
   "source": [
    "print(\"number of NAICS codes with trade\", df_nation_naics.shape[0])\n",
    "print(\"national employment\", df_nation_naics.annual_avg_emplvl.sum())\n",
    "print(\"Potential China Export Employment\",df_nation_naics.annual_avg_emplvl.sum())\n",
    "print(\"Share of Employment Potentially Exposed\",round(df_nation_naics.annual_avg_emplvl.sum()/national_private_employment,3))"
   ]
  },
  {
   "cell_type": "code",
   "execution_count": 306,
   "metadata": {},
   "outputs": [
    {
     "data": {
      "text/html": [
       "<div>\n",
       "<style scoped>\n",
       "    .dataframe tbody tr th:only-of-type {\n",
       "        vertical-align: middle;\n",
       "    }\n",
       "\n",
       "    .dataframe tbody tr th {\n",
       "        vertical-align: top;\n",
       "    }\n",
       "\n",
       "    .dataframe thead th {\n",
       "        text-align: right;\n",
       "    }\n",
       "</style>\n",
       "<table border=\"1\" class=\"dataframe\">\n",
       "  <thead>\n",
       "    <tr style=\"text-align: right;\">\n",
       "      <th></th>\n",
       "      <th>industry_code</th>\n",
       "      <th>annual_avg_emplvl</th>\n",
       "      <th>ALL_VAL_MO</th>\n",
       "    </tr>\n",
       "  </thead>\n",
       "  <tbody>\n",
       "    <tr>\n",
       "      <th>0</th>\n",
       "      <td>1111</td>\n",
       "      <td>36678.0</td>\n",
       "      <td>1.362627e+10</td>\n",
       "    </tr>\n",
       "    <tr>\n",
       "      <th>1</th>\n",
       "      <td>1112</td>\n",
       "      <td>77610.0</td>\n",
       "      <td>4.750172e+07</td>\n",
       "    </tr>\n",
       "    <tr>\n",
       "      <th>2</th>\n",
       "      <td>1113</td>\n",
       "      <td>175961.0</td>\n",
       "      <td>4.519789e+08</td>\n",
       "    </tr>\n",
       "    <tr>\n",
       "      <th>3</th>\n",
       "      <td>1114</td>\n",
       "      <td>120249.0</td>\n",
       "      <td>1.680611e+07</td>\n",
       "    </tr>\n",
       "    <tr>\n",
       "      <th>4</th>\n",
       "      <td>1119</td>\n",
       "      <td>47202.0</td>\n",
       "      <td>1.665841e+09</td>\n",
       "    </tr>\n",
       "  </tbody>\n",
       "</table>\n",
       "</div>"
      ],
      "text/plain": [
       "  industry_code  annual_avg_emplvl    ALL_VAL_MO\n",
       "0          1111            36678.0  1.362627e+10\n",
       "1          1112            77610.0  4.750172e+07\n",
       "2          1113           175961.0  4.519789e+08\n",
       "3          1114           120249.0  1.680611e+07\n",
       "4          1119            47202.0  1.665841e+09"
      ]
     },
     "execution_count": 306,
     "metadata": {},
     "output_type": "execute_result"
    }
   ],
   "source": [
    "df_nation_naics.head()"
   ]
  },
  {
   "cell_type": "code",
   "execution_count": 307,
   "metadata": {},
   "outputs": [],
   "source": [
    "df_nation_naics.rename({\"annual_avg_emplvl\":\"nat_emplvl\",\n",
    "                        \"ALL_VAL_MO\": \"china_exports\"}, axis = 1, inplace = True)"
   ]
  },
  {
   "cell_type": "code",
   "execution_count": 313,
   "metadata": {},
   "outputs": [],
   "source": [
    "df_nation_naics.china_exports.replace(np.nan, 0, inplace = True)"
   ]
  },
  {
   "cell_type": "code",
   "execution_count": 314,
   "metadata": {},
   "outputs": [
    {
     "data": {
      "text/html": [
       "<div>\n",
       "<style scoped>\n",
       "    .dataframe tbody tr th:only-of-type {\n",
       "        vertical-align: middle;\n",
       "    }\n",
       "\n",
       "    .dataframe tbody tr th {\n",
       "        vertical-align: top;\n",
       "    }\n",
       "\n",
       "    .dataframe thead th {\n",
       "        text-align: right;\n",
       "    }\n",
       "</style>\n",
       "<table border=\"1\" class=\"dataframe\">\n",
       "  <thead>\n",
       "    <tr style=\"text-align: right;\">\n",
       "      <th></th>\n",
       "      <th>industry_code</th>\n",
       "      <th>nat_emplvl</th>\n",
       "      <th>china_exports</th>\n",
       "    </tr>\n",
       "  </thead>\n",
       "  <tbody>\n",
       "    <tr>\n",
       "      <th>0</th>\n",
       "      <td>1111</td>\n",
       "      <td>36678.0</td>\n",
       "      <td>1.362627e+10</td>\n",
       "    </tr>\n",
       "    <tr>\n",
       "      <th>1</th>\n",
       "      <td>1112</td>\n",
       "      <td>77610.0</td>\n",
       "      <td>4.750172e+07</td>\n",
       "    </tr>\n",
       "    <tr>\n",
       "      <th>2</th>\n",
       "      <td>1113</td>\n",
       "      <td>175961.0</td>\n",
       "      <td>4.519789e+08</td>\n",
       "    </tr>\n",
       "    <tr>\n",
       "      <th>3</th>\n",
       "      <td>1114</td>\n",
       "      <td>120249.0</td>\n",
       "      <td>1.680611e+07</td>\n",
       "    </tr>\n",
       "    <tr>\n",
       "      <th>4</th>\n",
       "      <td>1119</td>\n",
       "      <td>47202.0</td>\n",
       "      <td>1.665841e+09</td>\n",
       "    </tr>\n",
       "  </tbody>\n",
       "</table>\n",
       "</div>"
      ],
      "text/plain": [
       "  industry_code  nat_emplvl  china_exports\n",
       "0          1111     36678.0   1.362627e+10\n",
       "1          1112     77610.0   4.750172e+07\n",
       "2          1113    175961.0   4.519789e+08\n",
       "3          1114    120249.0   1.680611e+07\n",
       "4          1119     47202.0   1.665841e+09"
      ]
     },
     "execution_count": 314,
     "metadata": {},
     "output_type": "execute_result"
    }
   ],
   "source": [
    "df_nation_naics.head()"
   ]
  },
  {
   "cell_type": "markdown",
   "metadata": {},
   "source": [
    "#### Step 4: Clean county level data to line up with national aggregates\n",
    "\n",
    "What I want to do now is rename and probably drop a bunch of this stuff. Then merge it on the national df on the industry code. A think I need to figure out is to only have the county fips codes"
   ]
  },
  {
   "cell_type": "code",
   "execution_count": 310,
   "metadata": {},
   "outputs": [
    {
     "data": {
      "text/html": [
       "<div>\n",
       "<style scoped>\n",
       "    .dataframe tbody tr th:only-of-type {\n",
       "        vertical-align: middle;\n",
       "    }\n",
       "\n",
       "    .dataframe tbody tr th {\n",
       "        vertical-align: top;\n",
       "    }\n",
       "\n",
       "    .dataframe thead th {\n",
       "        text-align: right;\n",
       "    }\n",
       "</style>\n",
       "<table border=\"1\" class=\"dataframe\">\n",
       "  <thead>\n",
       "    <tr style=\"text-align: right;\">\n",
       "      <th></th>\n",
       "      <th>area_fips</th>\n",
       "      <th>own_code</th>\n",
       "      <th>industry_code</th>\n",
       "      <th>agglvl_code</th>\n",
       "      <th>size_code</th>\n",
       "      <th>year</th>\n",
       "      <th>disclosure_code</th>\n",
       "      <th>annual_avg_estabs</th>\n",
       "      <th>annual_avg_emplvl</th>\n",
       "      <th>total_annual_wages</th>\n",
       "      <th>avg_annual_pay</th>\n",
       "      <th>sup_ind</th>\n",
       "    </tr>\n",
       "  </thead>\n",
       "  <tbody>\n",
       "    <tr>\n",
       "      <th>3017</th>\n",
       "      <td>1001</td>\n",
       "      <td>5</td>\n",
       "      <td>1111</td>\n",
       "      <td>76</td>\n",
       "      <td>0</td>\n",
       "      <td>2017</td>\n",
       "      <td>N</td>\n",
       "      <td>1</td>\n",
       "      <td>0</td>\n",
       "      <td>0</td>\n",
       "      <td>0</td>\n",
       "      <td>1</td>\n",
       "    </tr>\n",
       "    <tr>\n",
       "      <th>3020</th>\n",
       "      <td>1001</td>\n",
       "      <td>5</td>\n",
       "      <td>1114</td>\n",
       "      <td>76</td>\n",
       "      <td>0</td>\n",
       "      <td>2017</td>\n",
       "      <td>N</td>\n",
       "      <td>1</td>\n",
       "      <td>0</td>\n",
       "      <td>0</td>\n",
       "      <td>0</td>\n",
       "      <td>1</td>\n",
       "    </tr>\n",
       "    <tr>\n",
       "      <th>3023</th>\n",
       "      <td>1001</td>\n",
       "      <td>5</td>\n",
       "      <td>1119</td>\n",
       "      <td>76</td>\n",
       "      <td>0</td>\n",
       "      <td>2017</td>\n",
       "      <td>N</td>\n",
       "      <td>2</td>\n",
       "      <td>0</td>\n",
       "      <td>0</td>\n",
       "      <td>0</td>\n",
       "      <td>1</td>\n",
       "    </tr>\n",
       "    <tr>\n",
       "      <th>3027</th>\n",
       "      <td>1001</td>\n",
       "      <td>5</td>\n",
       "      <td>1121</td>\n",
       "      <td>76</td>\n",
       "      <td>0</td>\n",
       "      <td>2017</td>\n",
       "      <td>N</td>\n",
       "      <td>2</td>\n",
       "      <td>0</td>\n",
       "      <td>0</td>\n",
       "      <td>0</td>\n",
       "      <td>1</td>\n",
       "    </tr>\n",
       "    <tr>\n",
       "      <th>3030</th>\n",
       "      <td>1001</td>\n",
       "      <td>5</td>\n",
       "      <td>1129</td>\n",
       "      <td>76</td>\n",
       "      <td>0</td>\n",
       "      <td>2017</td>\n",
       "      <td>N</td>\n",
       "      <td>1</td>\n",
       "      <td>0</td>\n",
       "      <td>0</td>\n",
       "      <td>0</td>\n",
       "      <td>1</td>\n",
       "    </tr>\n",
       "    <tr>\n",
       "      <th>3034</th>\n",
       "      <td>1001</td>\n",
       "      <td>5</td>\n",
       "      <td>1132</td>\n",
       "      <td>76</td>\n",
       "      <td>0</td>\n",
       "      <td>2017</td>\n",
       "      <td>N</td>\n",
       "      <td>2</td>\n",
       "      <td>0</td>\n",
       "      <td>0</td>\n",
       "      <td>0</td>\n",
       "      <td>1</td>\n",
       "    </tr>\n",
       "    <tr>\n",
       "      <th>3037</th>\n",
       "      <td>1001</td>\n",
       "      <td>5</td>\n",
       "      <td>1133</td>\n",
       "      <td>76</td>\n",
       "      <td>0</td>\n",
       "      <td>2017</td>\n",
       "      <td>N</td>\n",
       "      <td>2</td>\n",
       "      <td>0</td>\n",
       "      <td>0</td>\n",
       "      <td>0</td>\n",
       "      <td>1</td>\n",
       "    </tr>\n",
       "    <tr>\n",
       "      <th>3041</th>\n",
       "      <td>1001</td>\n",
       "      <td>5</td>\n",
       "      <td>1151</td>\n",
       "      <td>76</td>\n",
       "      <td>0</td>\n",
       "      <td>2017</td>\n",
       "      <td>N</td>\n",
       "      <td>2</td>\n",
       "      <td>0</td>\n",
       "      <td>0</td>\n",
       "      <td>0</td>\n",
       "      <td>1</td>\n",
       "    </tr>\n",
       "    <tr>\n",
       "      <th>3045</th>\n",
       "      <td>1001</td>\n",
       "      <td>5</td>\n",
       "      <td>1152</td>\n",
       "      <td>76</td>\n",
       "      <td>0</td>\n",
       "      <td>2017</td>\n",
       "      <td>N</td>\n",
       "      <td>1</td>\n",
       "      <td>0</td>\n",
       "      <td>0</td>\n",
       "      <td>0</td>\n",
       "      <td>1</td>\n",
       "    </tr>\n",
       "    <tr>\n",
       "      <th>3048</th>\n",
       "      <td>1001</td>\n",
       "      <td>5</td>\n",
       "      <td>1153</td>\n",
       "      <td>76</td>\n",
       "      <td>0</td>\n",
       "      <td>2017</td>\n",
       "      <td>NaN</td>\n",
       "      <td>6</td>\n",
       "      <td>22</td>\n",
       "      <td>1793086</td>\n",
       "      <td>81196</td>\n",
       "      <td>1</td>\n",
       "    </tr>\n",
       "  </tbody>\n",
       "</table>\n",
       "</div>"
      ],
      "text/plain": [
       "     area_fips  own_code industry_code  agglvl_code  size_code  year  \\\n",
       "3017      1001         5          1111           76          0  2017   \n",
       "3020      1001         5          1114           76          0  2017   \n",
       "3023      1001         5          1119           76          0  2017   \n",
       "3027      1001         5          1121           76          0  2017   \n",
       "3030      1001         5          1129           76          0  2017   \n",
       "3034      1001         5          1132           76          0  2017   \n",
       "3037      1001         5          1133           76          0  2017   \n",
       "3041      1001         5          1151           76          0  2017   \n",
       "3045      1001         5          1152           76          0  2017   \n",
       "3048      1001         5          1153           76          0  2017   \n",
       "\n",
       "     disclosure_code  annual_avg_estabs  annual_avg_emplvl  \\\n",
       "3017               N                  1                  0   \n",
       "3020               N                  1                  0   \n",
       "3023               N                  2                  0   \n",
       "3027               N                  2                  0   \n",
       "3030               N                  1                  0   \n",
       "3034               N                  2                  0   \n",
       "3037               N                  2                  0   \n",
       "3041               N                  2                  0   \n",
       "3045               N                  1                  0   \n",
       "3048             NaN                  6                 22   \n",
       "\n",
       "      total_annual_wages  avg_annual_pay  sup_ind  \n",
       "3017                   0               0        1  \n",
       "3020                   0               0        1  \n",
       "3023                   0               0        1  \n",
       "3027                   0               0        1  \n",
       "3030                   0               0        1  \n",
       "3034                   0               0        1  \n",
       "3037                   0               0        1  \n",
       "3041                   0               0        1  \n",
       "3045                   0               0        1  \n",
       "3048             1793086           81196        1  "
      ]
     },
     "execution_count": 310,
     "metadata": {},
     "output_type": "execute_result"
    }
   ],
   "source": [
    "df_county.head(10)"
   ]
  },
  {
   "cell_type": "markdown",
   "metadata": {},
   "source": [
    "Below this is just exploring some issues with this. One thing that jumps out is not all NAICS codes are represented within a County. At somepoint need to explore why"
   ]
  },
  {
   "cell_type": "code",
   "execution_count": 323,
   "metadata": {},
   "outputs": [
    {
     "data": {
      "text/plain": [
       "106302755"
      ]
     },
     "execution_count": 323,
     "metadata": {},
     "output_type": "execute_result"
    }
   ],
   "source": [
    "df_county.annual_avg_emplvl.sum()"
   ]
  },
  {
   "cell_type": "code",
   "execution_count": 324,
   "metadata": {},
   "outputs": [
    {
     "data": {
      "text/plain": [
       "106302755.0"
      ]
     },
     "execution_count": 324,
     "metadata": {},
     "output_type": "execute_result"
    }
   ],
   "source": [
    "df_nation_naics.nat_emplvl.sum()"
   ]
  },
  {
   "cell_type": "code",
   "execution_count": 315,
   "metadata": {},
   "outputs": [],
   "source": [
    "grp = df_county.groupby(\"area_fips\")"
   ]
  },
  {
   "cell_type": "code",
   "execution_count": 316,
   "metadata": {},
   "outputs": [
    {
     "data": {
      "text/html": [
       "<div>\n",
       "<style scoped>\n",
       "    .dataframe tbody tr th:only-of-type {\n",
       "        vertical-align: middle;\n",
       "    }\n",
       "\n",
       "    .dataframe tbody tr th {\n",
       "        vertical-align: top;\n",
       "    }\n",
       "\n",
       "    .dataframe thead th {\n",
       "        text-align: right;\n",
       "    }\n",
       "</style>\n",
       "<table border=\"1\" class=\"dataframe\">\n",
       "  <thead>\n",
       "    <tr style=\"text-align: right;\">\n",
       "      <th></th>\n",
       "      <th>area_fips</th>\n",
       "      <th>own_code</th>\n",
       "      <th>industry_code</th>\n",
       "      <th>agglvl_code</th>\n",
       "      <th>size_code</th>\n",
       "      <th>year</th>\n",
       "      <th>disclosure_code</th>\n",
       "      <th>annual_avg_estabs</th>\n",
       "      <th>annual_avg_emplvl</th>\n",
       "      <th>total_annual_wages</th>\n",
       "      <th>avg_annual_pay</th>\n",
       "      <th>sup_ind</th>\n",
       "    </tr>\n",
       "  </thead>\n",
       "  <tbody>\n",
       "    <tr>\n",
       "      <th>332500</th>\n",
       "      <td>10003</td>\n",
       "      <td>5</td>\n",
       "      <td>1111</td>\n",
       "      <td>76</td>\n",
       "      <td>0</td>\n",
       "      <td>2017</td>\n",
       "      <td>N</td>\n",
       "      <td>6</td>\n",
       "      <td>0</td>\n",
       "      <td>0</td>\n",
       "      <td>0</td>\n",
       "      <td>1</td>\n",
       "    </tr>\n",
       "    <tr>\n",
       "      <th>332511</th>\n",
       "      <td>10003</td>\n",
       "      <td>5</td>\n",
       "      <td>1112</td>\n",
       "      <td>76</td>\n",
       "      <td>0</td>\n",
       "      <td>2017</td>\n",
       "      <td>N</td>\n",
       "      <td>1</td>\n",
       "      <td>0</td>\n",
       "      <td>0</td>\n",
       "      <td>0</td>\n",
       "      <td>1</td>\n",
       "    </tr>\n",
       "    <tr>\n",
       "      <th>332514</th>\n",
       "      <td>10003</td>\n",
       "      <td>5</td>\n",
       "      <td>1114</td>\n",
       "      <td>76</td>\n",
       "      <td>0</td>\n",
       "      <td>2017</td>\n",
       "      <td>NaN</td>\n",
       "      <td>11</td>\n",
       "      <td>125</td>\n",
       "      <td>4337571</td>\n",
       "      <td>34677</td>\n",
       "      <td>1</td>\n",
       "    </tr>\n",
       "    <tr>\n",
       "      <th>332522</th>\n",
       "      <td>10003</td>\n",
       "      <td>5</td>\n",
       "      <td>1121</td>\n",
       "      <td>76</td>\n",
       "      <td>0</td>\n",
       "      <td>2017</td>\n",
       "      <td>N</td>\n",
       "      <td>1</td>\n",
       "      <td>0</td>\n",
       "      <td>0</td>\n",
       "      <td>0</td>\n",
       "      <td>1</td>\n",
       "    </tr>\n",
       "    <tr>\n",
       "      <th>332525</th>\n",
       "      <td>10003</td>\n",
       "      <td>5</td>\n",
       "      <td>1123</td>\n",
       "      <td>76</td>\n",
       "      <td>0</td>\n",
       "      <td>2017</td>\n",
       "      <td>N</td>\n",
       "      <td>1</td>\n",
       "      <td>0</td>\n",
       "      <td>0</td>\n",
       "      <td>0</td>\n",
       "      <td>1</td>\n",
       "    </tr>\n",
       "  </tbody>\n",
       "</table>\n",
       "</div>"
      ],
      "text/plain": [
       "       area_fips  own_code industry_code  agglvl_code  size_code  year  \\\n",
       "332500     10003         5          1111           76          0  2017   \n",
       "332511     10003         5          1112           76          0  2017   \n",
       "332514     10003         5          1114           76          0  2017   \n",
       "332522     10003         5          1121           76          0  2017   \n",
       "332525     10003         5          1123           76          0  2017   \n",
       "\n",
       "       disclosure_code  annual_avg_estabs  annual_avg_emplvl  \\\n",
       "332500               N                  6                  0   \n",
       "332511               N                  1                  0   \n",
       "332514             NaN                 11                125   \n",
       "332522               N                  1                  0   \n",
       "332525               N                  1                  0   \n",
       "\n",
       "        total_annual_wages  avg_annual_pay  sup_ind  \n",
       "332500                   0               0        1  \n",
       "332511                   0               0        1  \n",
       "332514             4337571           34677        1  \n",
       "332522                   0               0        1  \n",
       "332525                   0               0        1  "
      ]
     },
     "execution_count": 316,
     "metadata": {},
     "output_type": "execute_result"
    }
   ],
   "source": [
    "grp.get_group(\"10003\").head()"
   ]
  },
  {
   "cell_type": "code",
   "execution_count": 370,
   "metadata": {},
   "outputs": [],
   "source": [
    "def create_trade_exposure(df):\n",
    "\n",
    "    new_df = df.merge(df_nation_naics, how = \"outer\", left_on = \"industry_code\", right_on = \"industry_code\")\n",
    "    \n",
    "    naics_codes = df_nation_naics.shape[0]\n",
    "    \n",
    "    county_share = (new_df.annual_avg_emplvl/new_df.nat_emplvl)*(new_df.china_exports)\n",
    "    \n",
    "    trd_exp = county_share\n",
    "    \n",
    "    trd_exp = trd_exp.sum()\n",
    "    \n",
    "    return trd_exp\n",
    "    "
   ]
  },
  {
   "cell_type": "code",
   "execution_count": 371,
   "metadata": {},
   "outputs": [],
   "source": [
    "test = create_trade_exposure(grp.get_group(\"10001\"))"
   ]
  },
  {
   "cell_type": "code",
   "execution_count": 372,
   "metadata": {},
   "outputs": [
    {
     "data": {
      "text/plain": [
       "20923280.974977553"
      ]
     },
     "execution_count": 372,
     "metadata": {},
     "output_type": "execute_result"
    }
   ],
   "source": [
    "test"
   ]
  },
  {
   "cell_type": "code",
   "execution_count": 373,
   "metadata": {},
   "outputs": [],
   "source": [
    "test =  grp.apply(create_trade_exposure)"
   ]
  },
  {
   "cell_type": "code",
   "execution_count": 374,
   "metadata": {},
   "outputs": [
    {
     "data": {
      "text/plain": [
       "122254681615.0"
      ]
     },
     "execution_count": 374,
     "metadata": {},
     "output_type": "execute_result"
    }
   ],
   "source": [
    "test.sum()"
   ]
  },
  {
   "cell_type": "code",
   "execution_count": 376,
   "metadata": {},
   "outputs": [
    {
     "data": {
      "text/plain": [
       "1221.9211695501212"
      ]
     },
     "execution_count": 376,
     "metadata": {},
     "output_type": "execute_result"
    }
   ],
   "source": [
    "df_nation_naics.china_exports.sum()/df_nation_naics.nat_emplvl.sum()"
   ]
  },
  {
   "cell_type": "code",
   "execution_count": null,
   "metadata": {},
   "outputs": [],
   "source": []
  }
 ],
 "metadata": {
  "hide_input": false,
  "kernelspec": {
   "display_name": "Python 3",
   "language": "python",
   "name": "python3"
  },
  "language_info": {
   "codemirror_mode": {
    "name": "ipython",
    "version": 3
   },
   "file_extension": ".py",
   "mimetype": "text/x-python",
   "name": "python",
   "nbconvert_exporter": "python",
   "pygments_lexer": "ipython3",
   "version": "3.6.7"
  }
 },
 "nbformat": 4,
 "nbformat_minor": 2
}
