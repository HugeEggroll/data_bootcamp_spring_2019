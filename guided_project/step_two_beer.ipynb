{
 "cells": [
  {
   "cell_type": "markdown",
   "metadata": {},
   "source": [
    "### Overall Strategy\n",
    "\n",
    "What is the **want** we want to plot the price of a product (brand/format) over the year, for one year. What we have done so far is identified the UPCs for a particular product (brand/format), now we just need to connect it with the scanner data set and work towards our want. \n",
    "\n",
    "Let me first discuss the overall strategy here. \n",
    "\n",
    "- Zero, just lets look at the scanner data set. \n",
    "\n",
    "\n",
    "- First, we will work with only one brand. Lets do \"MILLER LITE\". So we will want to use your function from `step_one` to generate the UPCs for this one brand.\n",
    "\n",
    "\n",
    "- Second, we will read in the scanner data set and make some observations about how we need to do a couple of things to the UPCs that we grabed from `step_one`.\n",
    "\n",
    "\n",
    "- Third we use a `.isin` operation to grab the transactions.\n",
    "\n",
    "\n",
    "- Fourth step is to use a `.groupby` to group transactions by week and then plot prices across time. \n",
    "\n",
    "\n",
    "- Final step---scale it up. So we want to create a function that will grab the transactions for the UPCs that we want. Then with our Use our function from `step_one` and grab all the UPCs for all brands that we care about, apply the function created to get the transactions. Then we `.groupby` on brand and week. Then we are ready plot the price by brand over time. "
   ]
  },
  {
   "cell_type": "markdown",
   "metadata": {},
   "source": [
    "### Read in and look at the scanner data set. \n",
    "\n",
    "Read in the 2007 grocery scanner data set, this `beer_groc_1427_1478`\n",
    "\n",
    "- How do I do this? What format is it? I sorted this out for you, turns out this is ``fixed width format`` and pandas has [this ability to do so](https://pandas.pydata.org/pandas-docs/stable/reference/api/pandas.read_fwf.html). \n",
    "\n",
    "**Important** This will take some time. On my laptop, it takes about **5 minutes to read it in** so go grab a cup of copy and make sure your laptop is plugged in.  \n",
    "\n",
    "**Basic data exploration**\n",
    "\n",
    "- Explore the shape? How big is it. \n",
    "\n",
    "- Look at the head."
   ]
  },
  {
   "cell_type": "markdown",
   "metadata": {},
   "source": [
    "Let me tell you what each column is \n",
    "\n",
    "- The IRI_KEY is a value that matches the sales with the store. We won't do anything with this now, but if we want to understand how market share or prices varies across different geographies (think NYC vs LA) this is the variable we could use. \n",
    "\n",
    "\n",
    "- WEEK is the week of the transactions. This is one of the variables we will want to group on. Eventually we will want to convert it into a proper python date and time. \n",
    "\n",
    "\n",
    "- **Important** Now the SY,GE, VEND, ITEM, combined all equall to the The 12 digit UPC code (that we figured out in `step_one` above). What we will want todo is line up these codes with our UPC codes that we have. \n",
    "\n",
    "\n",
    "- Units and Dollars are listed. A \"unit price\" can then be constructed by dividing UNITS / DOLLARS\n",
    "\n",
    "\n",
    "- Finlay there are some other codes. These are their to inform us if there were marketing promotions, etc. associated with the store,product, week. This data is used by companies to figure out if their marketing promotions or sales were effective or not."
   ]
  },
  {
   "cell_type": "markdown",
   "metadata": {},
   "source": [
    "### Get UPCs and adjust them to match up with scanner data set\n",
    "\n",
    "So we need to go back to our function from Step \\#1 and edit it given the observations above about the scanner data set. Essentially we need to extract the SY,GE, VEND, ITEM, values from the product file. This should only be a one line fix.\n",
    "\n",
    "A. In you function (or my function) from step \\#1 edit it so that it returns the following: the brand, the UPC, then the [SY,GE, VEND, ITEM] codes.\n",
    "\n",
    "\n",
    "B. From A. all the function to \"MILLER LITE\" and create a new dataframe (call it `upcs`). "
   ]
  },
  {
   "cell_type": "markdown",
   "metadata": {},
   "source": [
    "### Grab the transactions from the Scanner data set\n",
    "\n",
    "C. Use `.isin` on the scanner dataset to extract and create a new dataframe that has only transactions that have the same VEND and ITEM number associated with \"MILLER LITE\". **HINT** the `.isin` operation can take as an input a dataframe, so you can pass it `upcs.VEND`\n",
    "\n",
    "D. Add a new column to your new dataframe that has the brand name. In this case \"MILLER LITE\"\n",
    "\n",
    "E. Use the operations above to write a function that will take the scanner dataframe and the `upcs` dataframe and returns a new dataframe with the transactions and a new column with the brand name. "
   ]
  },
  {
   "cell_type": "markdown",
   "metadata": {},
   "source": [
    "### Group by Week and Plot\n",
    "\n",
    "F. Given your new dataframe, perform a `groupby` operation on `WEEK`\n",
    "\n",
    "G. Given the grouped object, aggregate (so use the `.agg` command) this so we sum across units and sales. **Note** the result should be dataframe with week (as the index), brand, units, sales.\n",
    "\n",
    "H. Create a new column that equals SALES/UNITS (call this the price). \n",
    "\n",
    "I. Create a (good) figure that plots the price of MILLER LITE across weeks. Does this make sense? Do the same with units. When does MILLER LITE sell more/less?\n"
   ]
  },
  {
   "cell_type": "markdown",
   "metadata": {},
   "source": [
    "### Scale it up...\n",
    "\n",
    "J. Take the following\n",
    "\n",
    "```product_list = [\"BUD LIGHT\", \"MILLER LITE\", \"COORS LIGHT\", \"CORONA EXTRA\", \"HEINEKEN\"]```\n",
    "\n",
    "and write a for-loop that (i) takes the brand (ii) generates the UPCS (as from step one) (iii) generates the transationcs (using your new function above) (iv) and then `.append` this to the dataframe.\n",
    "\n",
    "The end result will be a dataframe of the transactions for these products only.\n",
    "\n",
    "K. Like in step .F use `.groupby` but this time group on brand and week and then aggregate units and sales by sum. So the grouped dataframe object has brand, week units and sales. Finally create a column that is price which is sales divided by units.\n",
    "\n",
    "L. Creat a side by side plot. One the left are the domestic light brands. Hint: the resulting grouped dataframe `.loc` on the brand should get you each beer. One the right are the imported brands (Corona and Heineken). Label it nicely!\n",
    "\n",
    "Congrats! We are almost all done!"
   ]
  },
  {
   "cell_type": "code",
   "execution_count": null,
   "metadata": {},
   "outputs": [],
   "source": []
  }
 ],
 "metadata": {
  "hide_input": false,
  "kernelspec": {
   "display_name": "Python 3",
   "language": "python",
   "name": "python3"
  },
  "language_info": {
   "codemirror_mode": {
    "name": "ipython",
    "version": 3
   },
   "file_extension": ".py",
   "mimetype": "text/x-python",
   "name": "python",
   "nbconvert_exporter": "python",
   "pygments_lexer": "ipython3",
   "version": "3.7.1"
  }
 },
 "nbformat": 4,
 "nbformat_minor": 2
}
