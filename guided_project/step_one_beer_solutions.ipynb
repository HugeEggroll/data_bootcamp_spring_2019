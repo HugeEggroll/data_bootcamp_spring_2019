{
 "cells": [
  {
   "cell_type": "markdown",
   "metadata": {},
   "source": [
    "## Overview of the Data.\n",
    "\n",
    "IRI dataset is a scanner level data set encompasing about 12 years, 93 markets in the United States. Scanner means the level of observation is at the upc-barcode scanner level. \n",
    "\n",
    "There are several layers to the dataset:\n",
    "\n",
    "- First there the \"product_files\" with product descriptions. These provide UPC codes, some description of the product, e.g. \"Bud  Light, Long Neck Bottles, 6 pack, total fluid ounces\" and information about the producer, vendor (in this case Anheuser Busch).\n",
    "\n",
    "- Next there is by year, the store level dataset. This is broken down by type of store (grocery vs drug store) and some supplementary datasets for the panel dimension. This is also known as the \"scanner\" dataset and the main files here are labeled like this ``beer_groc_XXXX_YYYY`` where XXX and YYY match up with the weeks in each year.\n",
    "\n",
    "- One key step is to get the UPC codes for the products that we care about, then match the store level information with the scanner data set. This will allow us to construct prices fir "
   ]
  },
  {
   "cell_type": "markdown",
   "metadata": {},
   "source": [
    "### Understanding the product file\n",
    "\n",
    "The goal is to learn a bit about the products and eventually get the UPC's to use in the scanner price dataset.\n",
    "\n",
    "A. For the year 2007, read in the ``prod_beer.xlsx`` file\n",
    "\n",
    "### Companies\n",
    "\n",
    "B. Can you find in the documentation (Hint look at Page 35 in ``Academic data set file and field description 2_3.pdf``) what column has the company name associated with each product. \n",
    "\n",
    "C. Find and display the top twenty companies by numbers of products. Hint: `value_counts` works well here. \n",
    "\n",
    "D. Do the same exercise, but using the product file for 2008-2011. Anything happen? How do the companies at the very top in 2007 compare to those in the subsequent product file. What is going on?"
   ]
  },
  {
   "cell_type": "code",
   "execution_count": 21,
   "metadata": {},
   "outputs": [],
   "source": [
    "import pandas as pd\n",
    "import pyarrow as pa\n",
    "import pyarrow.parquet as pq"
   ]
  },
  {
   "cell_type": "code",
   "execution_count": 9,
   "metadata": {},
   "outputs": [],
   "source": [
    "import pandas as pd\n",
    "\n",
    "url = \"D:\\\\BEER_DATA\\\\BEER_DATA\\\\product_files_2007\\\\prod_beer.xlsx\"\n",
    "\n",
    "beer = pd.read_excel(url)"
   ]
  },
  {
   "cell_type": "code",
   "execution_count": 3,
   "metadata": {},
   "outputs": [
    {
     "data": {
      "text/plain": [
       "ANHEUSER-BUSCH INC               1935\n",
       "SABMILLER                        1061\n",
       "S & P COMPANY                     571\n",
       "MOLSON COORS BREWING COMPANY      562\n",
       "DIAGEO                            344\n",
       "HEINEKEN USA INC                  253\n",
       "BOSTON BEER CO                    230\n",
       "MARK ANTHONY BRANDS INC           193\n",
       "LABATT USA                        182\n",
       "CONSTELLATION BRANDS INC          180\n",
       "HIGH FALLS BREWING                180\n",
       "STAR BRAND IMPORTS                162\n",
       "MATT BREWING COMPANY              121\n",
       "THE GAMBRINUS COMPANY             115\n",
       "MERCHANT DU VIN CORP              100\n",
       "UNITED STATES BEVERAGE L.L.C.      98\n",
       "PANORAMA BREWING                   89\n",
       "PYRAMID BREWERIES INC              89\n",
       "DISTINGUISHED BRANDS               88\n",
       "BELUKUS MARKETING                  80\n",
       "GREEN MOUNTAIN BEVERAGE            77\n",
       "Name: L3, dtype: int64"
      ]
     },
     "execution_count": 3,
     "metadata": {},
     "output_type": "execute_result"
    }
   ],
   "source": [
    "beer[\"L3\"].value_counts()[0:21]"
   ]
  },
  {
   "cell_type": "code",
   "execution_count": 6,
   "metadata": {},
   "outputs": [],
   "source": [
    "url = \"D:\\\\BEER_DATA\\\\BEER_DATA\\\\product_files_2008_2011\\\\prod11_beer.xlsx\"\n",
    "\n",
    "beer = pd.read_excel(url)"
   ]
  },
  {
   "cell_type": "code",
   "execution_count": 7,
   "metadata": {},
   "outputs": [
    {
     "data": {
      "text/plain": [
       "ANHEUSER-BUSCH INBEV           2167\n",
       "SABMILLER                      1807\n",
       "S & P COMPANY                   535\n",
       "KPS PARTNERS                    504\n",
       "DIAGEO                          443\n",
       "MARK ANTHONY BRANDS INC         350\n",
       "HEINEKEN USA INC                331\n",
       "BOSTON BEER CO                  274\n",
       "CONSTELLATION BRANDS INC        232\n",
       "PAULANER HP USA                 166\n",
       "SHIPYARD BREWING CO.            161\n",
       "MERCHANT DU VIN CORP            153\n",
       "LONG TRAIL BREWING CO.          152\n",
       "CRAFT BREWERS ALLIANCE INC      150\n",
       "WINERY EXCHANGE                 145\n",
       "DOGFISH HEAD CRAFT BREWERY      143\n",
       "THE GAMBRINUS COMPANY           127\n",
       "BELLS BREWERY INC               127\n",
       "NEW BELGIUM BREWING COMPANY     123\n",
       "TOTAL BEVERAGE SOLUTIONS        115\n",
       "MATT BREWING COMPANY            109\n",
       "Name: L3, dtype: int64"
      ]
     },
     "execution_count": 7,
     "metadata": {},
     "output_type": "execute_result"
    }
   ],
   "source": [
    "beer[\"L3\"].value_counts()[0:21]"
   ]
  },
  {
   "cell_type": "markdown",
   "metadata": {},
   "source": [
    "### Products\n",
    "\n",
    "For these questions **RETURN TO THE 2007 PRODUCT FILE**\n",
    "\n",
    "B. Can you find in the documentation what column has the \"brand\" name associated with each product. \n",
    "\n",
    "C. Find and display the top ten brands by numbers of products."
   ]
  },
  {
   "cell_type": "code",
   "execution_count": 10,
   "metadata": {},
   "outputs": [
    {
     "data": {
      "text/plain": [
       "BUDWEISER               207\n",
       "BUD LIGHT               196\n",
       "MILLER LITE             148\n",
       "COORS LIGHT             136\n",
       "MILLER HIGH LIFE         89\n",
       "MILLER GENUINE DRAFT     84\n",
       "HEINEKEN                 75\n",
       "MICHELOB LIGHT           69\n",
       "BUSCH                    67\n",
       "SMIRNOFF TWISTED V       67\n",
       "COORS                    65\n",
       "Name: L5, dtype: int64"
      ]
     },
     "execution_count": 10,
     "metadata": {},
     "output_type": "execute_result"
    }
   ],
   "source": [
    "beer[\"L5\"].value_counts()[0:11]"
   ]
  },
  {
   "cell_type": "markdown",
   "metadata": {},
   "source": [
    "### UPCs and Product Descriptions\n",
    "\n",
    "The want is this...we want to grab the UPC codes for several products. The products we are after will be for:\n",
    "- Bud Light\n",
    "- Miller Lite\n",
    "- Coors Light\n",
    "- Corona Extra\n",
    "- Heiniken\n",
    "\n",
    "All in the 12 packs and let's go for glass bottles. Now the issue is how to find these products in the product file. \n",
    "\n",
    "Here are two problems that we face:\n",
    "\n",
    "(1) We need to figure out the size\n",
    "\n",
    "(2) We need to figure out the format\n",
    "\n",
    "And then select the appropriate UPCs."
   ]
  },
  {
   "cell_type": "markdown",
   "metadata": {},
   "source": [
    "#### Determining the Size of the Product.\n",
    "\n",
    "Let's first do this for Miller Lite.\n",
    "\n",
    "D. Create a new dataframe that only has the Miller Lite Brand. \n",
    "\n",
    "E. The column L9 is the UPC Description (which is a string). Can you use string methods on the dataframe (from the Chipoltle) lecture to grab the column and split the strings into a list. So each row is a list, with each item in the list being the seperate item. Can you see where the size (total number of OZs) of the product is showing up?\n",
    "\n",
    "F. Again using string methods (hint to slice the list you do `.str(position)`) to create a new series which is only the size.\n",
    "\n",
    "G. Use the series above to slice the dataframe so that only 144 0Z products are selected. Note 12 times 12 equals 144, hence an educated guess is that this is delivering the 12 packs we are looking for. \n",
    "\n",
    "#### Determining the Format of the Product.\n",
    "\n",
    "H. Same deal as F. When looking at the description notice how you see things like \"CNIBX\" or \"LNBTL\" which correspond with the description of the format (first one is can in box, the other is long necks in box). As in F. use string methods to create a new series which details this description.\n",
    "\n",
    "I. Slice the dataframe so that only \"LNBBX\", \"GLBBX\", \"LNBTL\", and \"LNBCN\" are selected. \n",
    "\n",
    "**HINT** Note the issue is we want to grab several different values. You could just to a bunch of Boolean operations. Or be smarter, so create a list of formats. Then use the [the ``.isin`` operation](https://pandas.pydata.org/pandas-docs/stable/reference/api/pandas.DataFrame.isin.html).\n",
    "\n",
    "**Note, the issue here is that there are multiple formats which are very similar. Our strategy will be to grab them all and treat them the same. In fact, the UPCs work in the way that anytime the packaging is changed (think holiday boxes), its a new UPC***\n"
   ]
  },
  {
   "cell_type": "markdown",
   "metadata": {},
   "source": [
    "### Scale it up...\n",
    "\n",
    "J. Write a function that will take in the product file dataframe and the brand name (e.g. Miller Lite) and perform the operations described above (grab only 144 OZ products, grab only glass bottels) and return a new dataframe with the brands and the UPCs. \n",
    "\n",
    "K. Apply this function on the brands that we need. \n",
    "\n",
    "- BUD LIGHT\n",
    "- MILLER LITE\n",
    "- COORS LIGHT\n",
    "- CORONA EXTRA\n",
    "- HEINEKEN"
   ]
  },
  {
   "cell_type": "code",
   "execution_count": 11,
   "metadata": {},
   "outputs": [],
   "source": [
    "miller_lite = beer[beer[\"L5\"] == \"MILLER LITE\"]"
   ]
  },
  {
   "cell_type": "markdown",
   "metadata": {},
   "source": [
    "Here is the hardes part of the assignment. There are several ways to do this. Below I create two series, one is the size and the other is the format."
   ]
  },
  {
   "cell_type": "code",
   "execution_count": 12,
   "metadata": {},
   "outputs": [],
   "source": [
    "miller_size = miller_lite.L9.str.split().str[-1] \n",
    "# This is creating a size series. So just the size, it's only one column so it is a series not a dataframe\n",
    "\n",
    "miller_format = miller_lite.L9.str.split().str[-2]\n",
    "# Same deal this is creating a series of only the format..."
   ]
  },
  {
   "cell_type": "markdown",
   "metadata": {},
   "source": [
    "Then we want to select only the size and format that we want. This is where a ``boolean`` operation comes into play. The only issue is that we need to check for several formats. This is where the ``.isin`` comes in handy. It checks to see if any value in the passed (dataframe, series, list) is in the argument list. Lets see this"
   ]
  },
  {
   "cell_type": "code",
   "execution_count": 13,
   "metadata": {},
   "outputs": [
    {
     "data": {
      "text/html": [
       "<div>\n",
       "<style scoped>\n",
       "    .dataframe tbody tr th:only-of-type {\n",
       "        vertical-align: middle;\n",
       "    }\n",
       "\n",
       "    .dataframe tbody tr th {\n",
       "        vertical-align: top;\n",
       "    }\n",
       "\n",
       "    .dataframe thead th {\n",
       "        text-align: right;\n",
       "    }\n",
       "</style>\n",
       "<table border=\"1\" class=\"dataframe\">\n",
       "  <thead>\n",
       "    <tr style=\"text-align: right;\">\n",
       "      <th></th>\n",
       "      <th>L1</th>\n",
       "      <th>L2</th>\n",
       "      <th>L3</th>\n",
       "      <th>L4</th>\n",
       "      <th>L5</th>\n",
       "      <th>L9</th>\n",
       "      <th>Level</th>\n",
       "      <th>UPC</th>\n",
       "      <th>SY</th>\n",
       "      <th>GE</th>\n",
       "      <th>...</th>\n",
       "      <th>ITEM</th>\n",
       "      <th>*STUBSPEC 1416IS                                                         00004</th>\n",
       "      <th>VOL_EQ</th>\n",
       "      <th>PRODUCT TYPE</th>\n",
       "      <th>TYPE OF BEER/ALE</th>\n",
       "      <th>PACKAGE</th>\n",
       "      <th>FLAVOR/SCENT</th>\n",
       "      <th>SIZE</th>\n",
       "      <th>CALORIE LEVEL</th>\n",
       "      <th>COLOR</th>\n",
       "    </tr>\n",
       "  </thead>\n",
       "  <tbody>\n",
       "    <tr>\n",
       "      <th>6850</th>\n",
       "      <td>CATEGORY - BEER/ALE/ALCOHOLIC CID</td>\n",
       "      <td>DOMESTIC BEER/ALE (INC NON-ALCOH</td>\n",
       "      <td>SABMILLER</td>\n",
       "      <td>MILLER BREWING COMPANY</td>\n",
       "      <td>MILLER LITE</td>\n",
       "      <td>+MLRLT PLSNR BEER GLBBX 144OZ</td>\n",
       "      <td>9</td>\n",
       "      <td>00-01-34100-57528</td>\n",
       "      <td>0</td>\n",
       "      <td>1</td>\n",
       "      <td>...</td>\n",
       "      <td>57528</td>\n",
       "      <td>+MLRLT PLSNR BEER GLBBX    144OZ 0 1 3...</td>\n",
       "      <td>0.5</td>\n",
       "      <td>BEER</td>\n",
       "      <td>PILSNER</td>\n",
       "      <td>GLASS BOTTLE IN BOX</td>\n",
       "      <td>MISSING</td>\n",
       "      <td>MISSING</td>\n",
       "      <td>LIGHT</td>\n",
       "      <td>MISSING</td>\n",
       "    </tr>\n",
       "    <tr>\n",
       "      <th>6919</th>\n",
       "      <td>CATEGORY - BEER/ALE/ALCOHOLIC CID</td>\n",
       "      <td>DOMESTIC BEER/ALE (INC NON-ALCOH</td>\n",
       "      <td>SABMILLER</td>\n",
       "      <td>MILLER BREWING COMPANY</td>\n",
       "      <td>MILLER LITE</td>\n",
       "      <td>+MLRLT PLSNR BEER LNBBX 144OZ</td>\n",
       "      <td>9</td>\n",
       "      <td>00-01-00001-61295</td>\n",
       "      <td>0</td>\n",
       "      <td>1</td>\n",
       "      <td>...</td>\n",
       "      <td>61295</td>\n",
       "      <td>+MLRLT PLSNR BEER LNBBX    144OZ 0 1  ...</td>\n",
       "      <td>0.5</td>\n",
       "      <td>BEER</td>\n",
       "      <td>PILSNER</td>\n",
       "      <td>LONG NECK BTL IN BOX</td>\n",
       "      <td>MISSING</td>\n",
       "      <td>MISSING</td>\n",
       "      <td>LITE</td>\n",
       "      <td>MISSING</td>\n",
       "    </tr>\n",
       "  </tbody>\n",
       "</table>\n",
       "<p>2 rows × 21 columns</p>\n",
       "</div>"
      ],
      "text/plain": [
       "                                     L1                                L2  \\\n",
       "6850  CATEGORY - BEER/ALE/ALCOHOLIC CID  DOMESTIC BEER/ALE (INC NON-ALCOH   \n",
       "6919  CATEGORY - BEER/ALE/ALCOHOLIC CID  DOMESTIC BEER/ALE (INC NON-ALCOH   \n",
       "\n",
       "             L3                      L4           L5  \\\n",
       "6850  SABMILLER  MILLER BREWING COMPANY  MILLER LITE   \n",
       "6919  SABMILLER  MILLER BREWING COMPANY  MILLER LITE   \n",
       "\n",
       "                                 L9  Level                UPC  SY  GE  \\\n",
       "6850  +MLRLT PLSNR BEER GLBBX 144OZ      9  00-01-34100-57528   0   1   \n",
       "6919  +MLRLT PLSNR BEER LNBBX 144OZ      9  00-01-00001-61295   0   1   \n",
       "\n",
       "       ...      ITEM  \\\n",
       "6850   ...     57528   \n",
       "6919   ...     61295   \n",
       "\n",
       "      *STUBSPEC 1416IS                                                         00004    \\\n",
       "6850          +MLRLT PLSNR BEER GLBBX    144OZ 0 1 3...                                  \n",
       "6919          +MLRLT PLSNR BEER LNBBX    144OZ 0 1  ...                                  \n",
       "\n",
       "     VOL_EQ  PRODUCT TYPE TYPE OF BEER/ALE               PACKAGE FLAVOR/SCENT  \\\n",
       "6850    0.5          BEER          PILSNER   GLASS BOTTLE IN BOX      MISSING   \n",
       "6919    0.5          BEER          PILSNER  LONG NECK BTL IN BOX      MISSING   \n",
       "\n",
       "         SIZE CALORIE LEVEL    COLOR  \n",
       "6850  MISSING         LIGHT  MISSING  \n",
       "6919  MISSING          LITE  MISSING  \n",
       "\n",
       "[2 rows x 21 columns]"
      ]
     },
     "execution_count": 13,
     "metadata": {},
     "output_type": "execute_result"
    }
   ],
   "source": [
    "miller_lite[miller_size.isin([\"144OZ\"]) & miller_format.isin([\"LNBBX\", \"GLBBX\"])]\n",
    "\n",
    "# First is the dataframe then the brackets. So within the brackets we will select stuff.\n",
    "\n",
    "# miller_size.isin([\"144OZ\"]) this argument checks if each value in the series above (miller_size) is the same as\n",
    "# \"144OZ\". Just run this command on it's own and you will see that it returns a boolean. So a bunch of true and falses\n",
    "# \n",
    "\n",
    "# The next command miller_format.isin([\"LNBBX\", \"GLBBX\"]) checks if each value in the format series\n",
    "# is either [\"LNBBX\", \"GLBBX\"]. So its asking is the value in the list [\"LNBBX\", \"GLBBX\"]. Again\n",
    "# it is returning a true or false vale.\n",
    "\n",
    "# Then we pass both miller_size.isin([\"144OZ\"]) & miller_format.isin([\"LNBBX\", \"GLBBX\"]) \n",
    "# Again this is just passing a bunch of true and false series into the dataframe. The \\& is asking\n",
    "# when are BOTH true. Which is what we want: when is it 144OZ and a bottle format.\n",
    "\n",
    "# What does it return only 1440Z size and the correct format.\n"
   ]
  },
  {
   "cell_type": "code",
   "execution_count": 16,
   "metadata": {},
   "outputs": [],
   "source": [
    "def twelve_pack_bottles(df,brand):\n",
    "    \n",
    "    num_oz = \"144OZ\" # A variable we can change if we want\n",
    "    \n",
    "    beer_format = [\"LNBBX\", \"GLBBX\", \"LNBTL\", \"LNBCN\"]\n",
    "    # The format that we care about\n",
    "    \n",
    "    df_brand = df[df[\"L5\"] == brand]\n",
    "    # The brand\n",
    "    \n",
    "    brand_size = df_brand.L9.str.split().str[-1]\n",
    "    # This is the stuff we did above\n",
    "\n",
    "    brand_format = df_brand.L9.str.split().str[-2]\n",
    "    # This is the stuff that we did above\n",
    "    \n",
    "    return df_brand[[\"L5\", \"UPC\"]][brand_size.isin([num_oz]) & brand_format.isin(beer_format)]\n",
    "    # This then returns the dataframe that we care about...\n",
    "\n",
    "    "
   ]
  },
  {
   "cell_type": "code",
   "execution_count": 17,
   "metadata": {},
   "outputs": [
    {
     "data": {
      "text/html": [
       "<div>\n",
       "<style scoped>\n",
       "    .dataframe tbody tr th:only-of-type {\n",
       "        vertical-align: middle;\n",
       "    }\n",
       "\n",
       "    .dataframe tbody tr th {\n",
       "        vertical-align: top;\n",
       "    }\n",
       "\n",
       "    .dataframe thead th {\n",
       "        text-align: right;\n",
       "    }\n",
       "</style>\n",
       "<table border=\"1\" class=\"dataframe\">\n",
       "  <thead>\n",
       "    <tr style=\"text-align: right;\">\n",
       "      <th></th>\n",
       "      <th>L5</th>\n",
       "      <th>UPC</th>\n",
       "    </tr>\n",
       "  </thead>\n",
       "  <tbody>\n",
       "    <tr>\n",
       "      <th>448</th>\n",
       "      <td>BUD LIGHT</td>\n",
       "      <td>00-01-18200-00877</td>\n",
       "    </tr>\n",
       "    <tr>\n",
       "      <th>480</th>\n",
       "      <td>BUD LIGHT</td>\n",
       "      <td>00-04-01820-00076</td>\n",
       "    </tr>\n",
       "    <tr>\n",
       "      <th>481</th>\n",
       "      <td>BUD LIGHT</td>\n",
       "      <td>00-01-01820-00076</td>\n",
       "    </tr>\n",
       "    <tr>\n",
       "      <th>482</th>\n",
       "      <td>BUD LIGHT</td>\n",
       "      <td>00-01-18200-00769</td>\n",
       "    </tr>\n",
       "    <tr>\n",
       "      <th>483</th>\n",
       "      <td>BUD LIGHT</td>\n",
       "      <td>00-01-18200-00796</td>\n",
       "    </tr>\n",
       "    <tr>\n",
       "      <th>549</th>\n",
       "      <td>BUD LIGHT</td>\n",
       "      <td>00-01-18200-08991</td>\n",
       "    </tr>\n",
       "    <tr>\n",
       "      <th>550</th>\n",
       "      <td>BUD LIGHT</td>\n",
       "      <td>01-02-82000-07699</td>\n",
       "    </tr>\n",
       "    <tr>\n",
       "      <th>551</th>\n",
       "      <td>BUD LIGHT</td>\n",
       "      <td>01-01-82000-07699</td>\n",
       "    </tr>\n",
       "  </tbody>\n",
       "</table>\n",
       "</div>"
      ],
      "text/plain": [
       "            L5                UPC\n",
       "448  BUD LIGHT  00-01-18200-00877\n",
       "480  BUD LIGHT  00-04-01820-00076\n",
       "481  BUD LIGHT  00-01-01820-00076\n",
       "482  BUD LIGHT  00-01-18200-00769\n",
       "483  BUD LIGHT  00-01-18200-00796\n",
       "549  BUD LIGHT  00-01-18200-08991\n",
       "550  BUD LIGHT  01-02-82000-07699\n",
       "551  BUD LIGHT  01-01-82000-07699"
      ]
     },
     "execution_count": 17,
     "metadata": {},
     "output_type": "execute_result"
    }
   ],
   "source": [
    "twelve_pack_bottles(beer,\"BUD LIGHT\")"
   ]
  }
 ],
 "metadata": {
  "hide_input": false,
  "kernelspec": {
   "display_name": "Python 3",
   "language": "python",
   "name": "python3"
  },
  "language_info": {
   "codemirror_mode": {
    "name": "ipython",
    "version": 3
   },
   "file_extension": ".py",
   "mimetype": "text/x-python",
   "name": "python",
   "nbconvert_exporter": "python",
   "pygments_lexer": "ipython3",
   "version": "3.7.1"
  }
 },
 "nbformat": 4,
 "nbformat_minor": 2
}
