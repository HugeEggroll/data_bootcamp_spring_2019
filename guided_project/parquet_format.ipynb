{
 "cells": [
  {
   "cell_type": "markdown",
   "metadata": {},
   "source": [
    "## Parquet File Format\n",
    "\n",
    "Ok, so with the scanner dataset we may want to reformat the datafile so it can be read into a dataframe quicker and take up less memory on the USB or your computer relative to the current format (or others, e.g. .csv). As we will see below just reading in the dataset will take about 5 minutes (on my laptop, 2.5 minutes on desktop). Its ok, the issue is that we will have to do this multiple times as we read in different files across years, so a faster format will prove useful. \n",
    "\n",
    "The format we will explore is [`parquet`](https://parquet.apache.org/) which appears to be in growing use within the data science community. \n",
    "\n",
    "So what are the advantages, this is what is described...\n",
    "\n",
    "- \"Apache Parquet is column-oriented and designed to bring efficient columnar storage of data compared to row based files like CSV. Apache Parquet is built from the ground up with complex nested data structures in mind. Apache Parquet is built to support very efficient compression and encoding schemes\"\n",
    "\n",
    "This sounds like it is well designed for our purposes lets try it out...\n",
    "\n",
    "---\n",
    "\n",
    "### Step \\#1\n",
    "\n",
    "First you need to have the ``pyarrow`` package installed. To do so use, ``conda install pyarrow`` in the command prompt to install the package(s). Side note: one one of my computers I had some issues installing this. If this is the case, then remove the package and install it via pip, so ``pip install pyarrow``\n",
    "\n",
    "Then what we do is import these packages in the following way"
   ]
  },
  {
   "cell_type": "code",
   "execution_count": 2,
   "metadata": {},
   "outputs": [],
   "source": [
    "import pandas as pd\n",
    "import time\n",
    "\n",
    "import pyarrow as pa\n",
    "import pyarrow.parquet as pq"
   ]
  },
  {
   "cell_type": "markdown",
   "metadata": {},
   "source": [
    "Now lets read in **one year** of the scanner dataset. Note, I did some of the work here for you guys by figuring out that the dataset is in a \"fixed width format\". Pandas can still handel it, but the point of this notebook is that we can do better."
   ]
  },
  {
   "cell_type": "code",
   "execution_count": 3,
   "metadata": {},
   "outputs": [],
   "source": [
    "file_path = \"F://BEER_DATA//BEER_DATA//year_2007//beer\"\n",
    "\n",
    "beer_file = \"//beer_groc_1427_1478\"\n",
    "\n",
    "file_path = file_path + beer_file"
   ]
  },
  {
   "cell_type": "code",
   "execution_count": 4,
   "metadata": {},
   "outputs": [
    {
     "data": {
      "text/plain": [
       "'F://BEER_DATA//BEER_DATA//year_2007//beer//beer_groc_1427_1478'"
      ]
     },
     "execution_count": 4,
     "metadata": {},
     "output_type": "execute_result"
    }
   ],
   "source": [
    "file_path"
   ]
  },
  {
   "cell_type": "markdown",
   "metadata": {},
   "source": [
    "Below we will read it in. I will also measure the time how long this process takes..."
   ]
  },
  {
   "cell_type": "code",
   "execution_count": 5,
   "metadata": {},
   "outputs": [
    {
     "name": "stdout",
     "output_type": "stream",
     "text": [
      "Read in the Beer Data Set:\n",
      "162.7815866470337\n"
     ]
    }
   ],
   "source": [
    "start = time.time()\n",
    "\n",
    "print('Read in the Beer Data Set:')\n",
    "scan_beer = pd.read_fwf(file_path)\n",
    "\n",
    "end = time.time()\n",
    "print(end - start)"
   ]
  },
  {
   "cell_type": "markdown",
   "metadata": {},
   "source": [
    "Ok, so this took about two and a half minutes to import. Can we do better?"
   ]
  },
  {
   "cell_type": "code",
   "execution_count": 6,
   "metadata": {},
   "outputs": [
    {
     "data": {
      "text/html": [
       "<div>\n",
       "<style scoped>\n",
       "    .dataframe tbody tr th:only-of-type {\n",
       "        vertical-align: middle;\n",
       "    }\n",
       "\n",
       "    .dataframe tbody tr th {\n",
       "        vertical-align: top;\n",
       "    }\n",
       "\n",
       "    .dataframe thead th {\n",
       "        text-align: right;\n",
       "    }\n",
       "</style>\n",
       "<table border=\"1\" class=\"dataframe\">\n",
       "  <thead>\n",
       "    <tr style=\"text-align: right;\">\n",
       "      <th></th>\n",
       "      <th>IRI_KEY</th>\n",
       "      <th>WEEK</th>\n",
       "      <th>SY</th>\n",
       "      <th>GE</th>\n",
       "      <th>VEND</th>\n",
       "      <th>ITEM</th>\n",
       "      <th>UNITS</th>\n",
       "      <th>DOLLARS</th>\n",
       "      <th>F</th>\n",
       "      <th>D</th>\n",
       "      <th>PR</th>\n",
       "    </tr>\n",
       "  </thead>\n",
       "  <tbody>\n",
       "    <tr>\n",
       "      <th>0</th>\n",
       "      <td>234212</td>\n",
       "      <td>1427</td>\n",
       "      <td>0</td>\n",
       "      <td>1</td>\n",
       "      <td>72783</td>\n",
       "      <td>200</td>\n",
       "      <td>2</td>\n",
       "      <td>17.98</td>\n",
       "      <td>NONE</td>\n",
       "      <td>0</td>\n",
       "      <td>0</td>\n",
       "    </tr>\n",
       "    <tr>\n",
       "      <th>1</th>\n",
       "      <td>234212</td>\n",
       "      <td>1427</td>\n",
       "      <td>0</td>\n",
       "      <td>1</td>\n",
       "      <td>18200</td>\n",
       "      <td>10985</td>\n",
       "      <td>1</td>\n",
       "      <td>6.49</td>\n",
       "      <td>NONE</td>\n",
       "      <td>0</td>\n",
       "      <td>0</td>\n",
       "    </tr>\n",
       "    <tr>\n",
       "      <th>2</th>\n",
       "      <td>234212</td>\n",
       "      <td>1427</td>\n",
       "      <td>0</td>\n",
       "      <td>1</td>\n",
       "      <td>18200</td>\n",
       "      <td>11981</td>\n",
       "      <td>2</td>\n",
       "      <td>12.98</td>\n",
       "      <td>NONE</td>\n",
       "      <td>0</td>\n",
       "      <td>0</td>\n",
       "    </tr>\n",
       "    <tr>\n",
       "      <th>3</th>\n",
       "      <td>234212</td>\n",
       "      <td>1427</td>\n",
       "      <td>0</td>\n",
       "      <td>1</td>\n",
       "      <td>18200</td>\n",
       "      <td>6992</td>\n",
       "      <td>1</td>\n",
       "      <td>6.99</td>\n",
       "      <td>NONE</td>\n",
       "      <td>0</td>\n",
       "      <td>0</td>\n",
       "    </tr>\n",
       "    <tr>\n",
       "      <th>4</th>\n",
       "      <td>234212</td>\n",
       "      <td>1427</td>\n",
       "      <td>0</td>\n",
       "      <td>1</td>\n",
       "      <td>18200</td>\n",
       "      <td>468</td>\n",
       "      <td>18</td>\n",
       "      <td>26.82</td>\n",
       "      <td>NONE</td>\n",
       "      <td>0</td>\n",
       "      <td>0</td>\n",
       "    </tr>\n",
       "  </tbody>\n",
       "</table>\n",
       "</div>"
      ],
      "text/plain": [
       "   IRI_KEY  WEEK  SY  GE   VEND   ITEM  UNITS  DOLLARS     F  D  PR\n",
       "0   234212  1427   0   1  72783    200      2    17.98  NONE  0   0\n",
       "1   234212  1427   0   1  18200  10985      1     6.49  NONE  0   0\n",
       "2   234212  1427   0   1  18200  11981      2    12.98  NONE  0   0\n",
       "3   234212  1427   0   1  18200   6992      1     6.99  NONE  0   0\n",
       "4   234212  1427   0   1  18200    468     18    26.82  NONE  0   0"
      ]
     },
     "execution_count": 6,
     "metadata": {},
     "output_type": "execute_result"
    }
   ],
   "source": [
    "scan_beer.head()"
   ]
  },
  {
   "cell_type": "markdown",
   "metadata": {},
   "source": [
    "Now we will write the dataframe as a parquet file, below is a way to to it"
   ]
  },
  {
   "cell_type": "code",
   "execution_count": 7,
   "metadata": {},
   "outputs": [],
   "source": [
    "new_path = file_path + '.parquet'\n",
    "\n",
    "pq.write_table(pa.Table.from_pandas(scan_beer), new_path)\n",
    "\n",
    "# The inside part creates teh parquet table, then the outside part writes the table to where we want it.\n",
    "# It is then saved to file_path with the extension being .parquet"
   ]
  },
  {
   "cell_type": "code",
   "execution_count": 8,
   "metadata": {},
   "outputs": [
    {
     "data": {
      "text/plain": [
       "'F://BEER_DATA//BEER_DATA//year_2007//beer//beer_groc_1427_1478.parquet'"
      ]
     },
     "execution_count": 8,
     "metadata": {},
     "output_type": "execute_result"
    }
   ],
   "source": [
    "new_path"
   ]
  },
  {
   "cell_type": "markdown",
   "metadata": {},
   "source": [
    "Now this is where the file is, same place but now with the ``.parquet`` extension. "
   ]
  },
  {
   "cell_type": "markdown",
   "metadata": {},
   "source": [
    "Now we will will delete the orginal dataframe and read it in the ``.parquet`` to see how fast it is"
   ]
  },
  {
   "cell_type": "code",
   "execution_count": 9,
   "metadata": {},
   "outputs": [],
   "source": [
    "del scan_beer\n"
   ]
  },
  {
   "cell_type": "code",
   "execution_count": 10,
   "metadata": {},
   "outputs": [
    {
     "name": "stdout",
     "output_type": "stream",
     "text": [
      "1.3810555934906006\n"
     ]
    }
   ],
   "source": [
    "start = time.time()\n",
    "\n",
    "df = pq.read_table(new_path).to_pandas()\n",
    "# This reads it in as a parquet table, # then converts it to a dataframe\n",
    "\n",
    "end = time.time()\n",
    "print(end - start)"
   ]
  },
  {
   "cell_type": "markdown",
   "metadata": {},
   "source": [
    "**So this is very awesome.** What took about 160 seconds to read in, now is taking less than 2 seconds to read in. 2 orders of magnitude smaller! Another thing to notice is that the size of the .parquet file is only 50mb, not 500mb. So it compressed the data in a very efficient way."
   ]
  },
  {
   "cell_type": "code",
   "execution_count": 11,
   "metadata": {},
   "outputs": [
    {
     "data": {
      "text/html": [
       "<div>\n",
       "<style scoped>\n",
       "    .dataframe tbody tr th:only-of-type {\n",
       "        vertical-align: middle;\n",
       "    }\n",
       "\n",
       "    .dataframe tbody tr th {\n",
       "        vertical-align: top;\n",
       "    }\n",
       "\n",
       "    .dataframe thead th {\n",
       "        text-align: right;\n",
       "    }\n",
       "</style>\n",
       "<table border=\"1\" class=\"dataframe\">\n",
       "  <thead>\n",
       "    <tr style=\"text-align: right;\">\n",
       "      <th></th>\n",
       "      <th>IRI_KEY</th>\n",
       "      <th>WEEK</th>\n",
       "      <th>SY</th>\n",
       "      <th>GE</th>\n",
       "      <th>VEND</th>\n",
       "      <th>ITEM</th>\n",
       "      <th>UNITS</th>\n",
       "      <th>DOLLARS</th>\n",
       "      <th>F</th>\n",
       "      <th>D</th>\n",
       "      <th>PR</th>\n",
       "    </tr>\n",
       "  </thead>\n",
       "  <tbody>\n",
       "    <tr>\n",
       "      <th>0</th>\n",
       "      <td>234212</td>\n",
       "      <td>1427</td>\n",
       "      <td>0</td>\n",
       "      <td>1</td>\n",
       "      <td>72783</td>\n",
       "      <td>200</td>\n",
       "      <td>2</td>\n",
       "      <td>17.98</td>\n",
       "      <td>NONE</td>\n",
       "      <td>0</td>\n",
       "      <td>0</td>\n",
       "    </tr>\n",
       "    <tr>\n",
       "      <th>1</th>\n",
       "      <td>234212</td>\n",
       "      <td>1427</td>\n",
       "      <td>0</td>\n",
       "      <td>1</td>\n",
       "      <td>18200</td>\n",
       "      <td>10985</td>\n",
       "      <td>1</td>\n",
       "      <td>6.49</td>\n",
       "      <td>NONE</td>\n",
       "      <td>0</td>\n",
       "      <td>0</td>\n",
       "    </tr>\n",
       "    <tr>\n",
       "      <th>2</th>\n",
       "      <td>234212</td>\n",
       "      <td>1427</td>\n",
       "      <td>0</td>\n",
       "      <td>1</td>\n",
       "      <td>18200</td>\n",
       "      <td>11981</td>\n",
       "      <td>2</td>\n",
       "      <td>12.98</td>\n",
       "      <td>NONE</td>\n",
       "      <td>0</td>\n",
       "      <td>0</td>\n",
       "    </tr>\n",
       "    <tr>\n",
       "      <th>3</th>\n",
       "      <td>234212</td>\n",
       "      <td>1427</td>\n",
       "      <td>0</td>\n",
       "      <td>1</td>\n",
       "      <td>18200</td>\n",
       "      <td>6992</td>\n",
       "      <td>1</td>\n",
       "      <td>6.99</td>\n",
       "      <td>NONE</td>\n",
       "      <td>0</td>\n",
       "      <td>0</td>\n",
       "    </tr>\n",
       "    <tr>\n",
       "      <th>4</th>\n",
       "      <td>234212</td>\n",
       "      <td>1427</td>\n",
       "      <td>0</td>\n",
       "      <td>1</td>\n",
       "      <td>18200</td>\n",
       "      <td>468</td>\n",
       "      <td>18</td>\n",
       "      <td>26.82</td>\n",
       "      <td>NONE</td>\n",
       "      <td>0</td>\n",
       "      <td>0</td>\n",
       "    </tr>\n",
       "  </tbody>\n",
       "</table>\n",
       "</div>"
      ],
      "text/plain": [
       "   IRI_KEY  WEEK  SY  GE   VEND   ITEM  UNITS  DOLLARS     F  D  PR\n",
       "0   234212  1427   0   1  72783    200      2    17.98  NONE  0   0\n",
       "1   234212  1427   0   1  18200  10985      1     6.49  NONE  0   0\n",
       "2   234212  1427   0   1  18200  11981      2    12.98  NONE  0   0\n",
       "3   234212  1427   0   1  18200   6992      1     6.99  NONE  0   0\n",
       "4   234212  1427   0   1  18200    468     18    26.82  NONE  0   0"
      ]
     },
     "execution_count": 11,
     "metadata": {},
     "output_type": "execute_result"
    }
   ],
   "source": [
    "df.head()"
   ]
  },
  {
   "cell_type": "code",
   "execution_count": null,
   "metadata": {},
   "outputs": [],
   "source": []
  }
 ],
 "metadata": {
  "hide_input": false,
  "kernelspec": {
   "display_name": "Python 3",
   "language": "python",
   "name": "python3"
  },
  "language_info": {
   "codemirror_mode": {
    "name": "ipython",
    "version": 3
   },
   "file_extension": ".py",
   "mimetype": "text/x-python",
   "name": "python",
   "nbconvert_exporter": "python",
   "pygments_lexer": "ipython3",
   "version": "3.7.1"
  }
 },
 "nbformat": 4,
 "nbformat_minor": 2
}
