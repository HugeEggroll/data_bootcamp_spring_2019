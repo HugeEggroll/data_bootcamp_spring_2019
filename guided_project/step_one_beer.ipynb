{
 "cells": [
  {
   "cell_type": "markdown",
   "metadata": {},
   "source": [
    "## Overview of the Data.  \n",
    "### DUE APRIL 12th\n",
    "\n",
    "IRI dataset is a scanner level data set encompasing about 12 years, 93 markets in the United States. Scanner means the level of observation is at the upc-barcode scanner level. \n",
    "\n",
    "There are several layers to the dataset:\n",
    "\n",
    "- First there the \"product_files\" with product descriptions. These provide UPC codes, some description of the product, e.g. \"Bud  Light, Long Neck Bottles, 6 pack, total fluid ounces\" and information about the producer, vendor (in this case Anheuser Busch).\n",
    "\n",
    "- Next there is by year, the store level dataset. This is broken down by type of store (grocery vs drug store) and some supplementary datasets for the panel dimension. This is also known as the \"scanner\" dataset and the main files here are labeled like this ``beer_groc_XXXX_YYYY`` where XXX and YYY match up with the weeks in each year.\n",
    "\n",
    "- One key step is to get the UPC codes for the products that we care about, then match the product level information with the scanner data set. This will allow us to construct prices, by brand, across time (and markets). \n",
    "\n",
    "The key step we need to accomplish is to understand the product file. And work towards being able to find and grab the UPCs for specific brands and formats. Below we walk through these steps."
   ]
  },
  {
   "cell_type": "markdown",
   "metadata": {},
   "source": [
    "### Understanding the product file\n",
    "\n",
    "The goal is to learn a bit about the products and eventually get the UPC's to use in the scanner price dataset.\n",
    "\n",
    "A. For the year 2007, read in the ``prod_beer.xlsx`` file\n",
    "\n",
    "### Companies\n",
    "\n",
    "B. Can you find in the documentation (Hint look at Page 35 in ``Academic data set file and field description 2_3.pdf``) what column has the company name associated with each product. \n",
    "\n",
    "C. Find and display the top twenty companies by numbers of products. Hint: `value_counts` works well here. \n",
    "\n",
    "D. Do the same exercise, but using the product file for 2008-2011. Anything happen? How do the companies at the very top in 2007 compare to those in the subsequent product file. What is going on? "
   ]
  },
  {
   "cell_type": "markdown",
   "metadata": {},
   "source": [
    "### Products\n",
    "\n",
    "For these questions **RETURN TO THE 2007 PRODUCT FILE**\n",
    "\n",
    "B. Can you find in the documentation what column has the \"brand\" name associated with each product. \n",
    "\n",
    "C. Find and display the top ten brands by numbers of products."
   ]
  },
  {
   "cell_type": "markdown",
   "metadata": {},
   "source": [
    "### UPCs and Product Descriptions\n",
    "\n",
    "The want is this...we want to grab the UPC codes for several products. The products we are after will be for:\n",
    "- Bud Light\n",
    "- Miller Lite\n",
    "- Coors Light\n",
    "- Corona Extra\n",
    "- Heiniken\n",
    "\n",
    "All in the 12 packs and let's go for glass bottles. Now the issue is how to find these products in the product file. \n",
    "\n",
    "Here are two problems that we face:\n",
    "\n",
    "(1) We need to figure out the size\n",
    "\n",
    "(2) We need to figure out the format\n",
    "\n",
    "And then select the appropriate UPCs."
   ]
  },
  {
   "cell_type": "markdown",
   "metadata": {},
   "source": [
    "#### Determining the Size of the Product.\n",
    "\n",
    "Let's first do this for Miller Lite.\n",
    "\n",
    "D. Create a new dataframe that only has the Miller Lite Brand. \n",
    "\n",
    "E. The column L9 is the UPC Description (which is a string). Can you use string methods on the dataframe (from the Chipoltle) lecture to grab the column and split the strings into a list. So each row is a list, with each item in the list being the seperate item. Can you see where the size (total number of OZs) of the product is showing up?\n",
    "\n",
    "F. Again using string methods (hint to slice the list you do `.str[position]`) to create a new series which is only the size.\n",
    "\n",
    "G. Use the series above to slice the dataframe so that only 144 0Z products are selected. Note 12 times 12 equals 144, hence an educated guess is that this is delivering the 12 packs we are looking for. \n",
    "\n",
    "#### Determining the Format of the Product.\n",
    "\n",
    "H. Same deal as F. When looking at the description notice how you see things like \"CNIBX\" or \"LNBTL\" which correspond with the description of the format (first one is can in box, the other is long necks in box). As in F. use string methods to create a new series which details this description.\n",
    "\n",
    "I. Slice the dataframe so that only \"LNBBX\", \"GLBBX\", \"LNBTL\", and \"LNBCN\" are selected. \n",
    "\n",
    "**HINT** Note the issue is we want to grab several different values. You could just to a bunch of Boolean operations. Or be smarter, so create a list of formats. Then use the [the ``.isin`` operation](https://pandas.pydata.org/pandas-docs/stable/reference/api/pandas.DataFrame.isin.html).\n",
    "\n",
    "**Note, the issue here is that there are multiple formats which are very similar. Our strategy will be to grab them all and treat them the same. In fact, the UPCs work in the way that anytime the packaging is changed (think holiday boxes), its a new UPC***\n"
   ]
  },
  {
   "cell_type": "markdown",
   "metadata": {},
   "source": [
    "### Scale it up...\n",
    "\n",
    "J. Write a function that will take in the product file dataframe and the brand name (e.g. Miller Lite) and perform the operations described above (grab only 144 OZ products, grab only glass bottels) and return a new dataframe with the brands and the UPCs. \n",
    "\n",
    "K. Apply this function on the brands that we need. \n",
    "\n",
    "- BUD LIGHT\n",
    "- MILLER LITE\n",
    "- COORS LIGHT\n",
    "- CORONA EXTRA\n",
    "- HEINEKEN"
   ]
  },
  {
   "cell_type": "code",
   "execution_count": null,
   "metadata": {},
   "outputs": [],
   "source": []
  }
 ],
 "metadata": {
  "hide_input": false,
  "kernelspec": {
   "display_name": "Python 3",
   "language": "python",
   "name": "python3"
  },
  "language_info": {
   "codemirror_mode": {
    "name": "ipython",
    "version": 3
   },
   "file_extension": ".py",
   "mimetype": "text/x-python",
   "name": "python",
   "nbconvert_exporter": "python",
   "pygments_lexer": "ipython3",
   "version": "3.7.1"
  }
 },
 "nbformat": 4,
 "nbformat_minor": 2
}
