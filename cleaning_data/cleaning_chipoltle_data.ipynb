{
 "cells": [
  {
   "cell_type": "markdown",
   "metadata": {},
   "source": [
    "### Preface \n",
    "\n",
    "In class I talked a bit about  mapping out steps to executing projects. This would look like this: identify question and dataset(s) that may answer the question; import data; manipulate data; and then try and answer the question. The question part is hard, but this is more conceptual, not coding. The manipulation part is where coding skills are helpful. Specifically, cleaning, merging, shaping the data to that the data set is usable to answer the question at hand. \n",
    "\n",
    "### Cleaning and String Methods on Dataframes\n",
    "\n",
    "This notebook works through some cleaning examples that will probably help you in your project. Here we describe features of Pandas that allow us to clean data that, for reasons beyond our control, comes in a form that's not immediately amendable to analysis. This is the first of several such notebooks.\n",
    "\n",
    "#### The Question (or want)...\n",
    "\n",
    "We need to know what we're trying to do---what we want the data to look like. To borrow a phrase from our friend Tom Sargent, we say that we apply the want operator. Some problems we've run across that ask to be solved:\n",
    "\n",
    "- We have too much data, would prefer to choose a subset.\n",
    "- Row and column labels are contaminated.\n",
    "- Numerical data is contaminated by commas (marking thousands); dollar signs; other non-numerical values, etc.\n",
    "- Missing values are marked erratically.\n",
    "\n",
    "What we want in each case is the opposite of what we have: we want nicely formatted numbers, clean row and column labels, and so on."
   ]
  },
  {
   "cell_type": "code",
   "execution_count": 1,
   "metadata": {},
   "outputs": [],
   "source": [
    "import pandas as pd                    # data package\n",
    "import matplotlib.pyplot as plt        # graphics module  \n",
    "import datetime as dt                  # date and time module\n",
    "import numpy as np                     # foundation for pandas "
   ]
  },
  {
   "cell_type": "markdown",
   "metadata": {},
   "source": [
    "### Example: Chipotle data\n",
    "\n",
    "This data comes from a New York Times story about the number of calories in a typical order at Chipotle. The topic doesn't particularly excite us, but the data raises a number of issues that come up repeatedly. We adapt some code written by Daniel Forsyth."
   ]
  },
  {
   "cell_type": "code",
   "execution_count": 2,
   "metadata": {},
   "outputs": [
    {
     "name": "stdout",
     "output_type": "stream",
     "text": [
      "Variable dtypes:\n",
      "order store id 1        object\n",
      "quantity 2               int64\n",
      "item name 3             object\n",
      "choice description 4    object\n",
      "item price 5            object\n",
      "dtype: object\n"
     ]
    },
    {
     "data": {
      "text/html": [
       "<div>\n",
       "<style scoped>\n",
       "    .dataframe tbody tr th:only-of-type {\n",
       "        vertical-align: middle;\n",
       "    }\n",
       "\n",
       "    .dataframe tbody tr th {\n",
       "        vertical-align: top;\n",
       "    }\n",
       "\n",
       "    .dataframe thead th {\n",
       "        text-align: right;\n",
       "    }\n",
       "</style>\n",
       "<table border=\"1\" class=\"dataframe\">\n",
       "  <thead>\n",
       "    <tr style=\"text-align: right;\">\n",
       "      <th></th>\n",
       "      <th>order store id 1</th>\n",
       "      <th>quantity 2</th>\n",
       "      <th>item name 3</th>\n",
       "      <th>choice description 4</th>\n",
       "      <th>item price 5</th>\n",
       "    </tr>\n",
       "  </thead>\n",
       "  <tbody>\n",
       "    <tr>\n",
       "      <th>0</th>\n",
       "      <td>1 Bucks County</td>\n",
       "      <td>1</td>\n",
       "      <td>Chips and Fresh Tomato Salsa</td>\n",
       "      <td>NaN</td>\n",
       "      <td>$2.39</td>\n",
       "    </tr>\n",
       "    <tr>\n",
       "      <th>1</th>\n",
       "      <td>1 Bucks County</td>\n",
       "      <td>1</td>\n",
       "      <td>Izze</td>\n",
       "      <td>[Clementine]</td>\n",
       "      <td>$3.39</td>\n",
       "    </tr>\n",
       "    <tr>\n",
       "      <th>2</th>\n",
       "      <td>1 Bucks County</td>\n",
       "      <td>1</td>\n",
       "      <td>Nantucket Nectar</td>\n",
       "      <td>[Apple]</td>\n",
       "      <td>$3.39</td>\n",
       "    </tr>\n",
       "    <tr>\n",
       "      <th>3</th>\n",
       "      <td>1 Bucks County</td>\n",
       "      <td>1</td>\n",
       "      <td>Chips and Tomatillo-Green Chili Salsa</td>\n",
       "      <td>NaN</td>\n",
       "      <td>$2.39</td>\n",
       "    </tr>\n",
       "    <tr>\n",
       "      <th>4</th>\n",
       "      <td>2 Bucks County</td>\n",
       "      <td>2</td>\n",
       "      <td>Chicken Bowl</td>\n",
       "      <td>[Tomatillo-Red Chili Salsa (Hot), [Black Beans...</td>\n",
       "      <td>$16.98</td>\n",
       "    </tr>\n",
       "  </tbody>\n",
       "</table>\n",
       "</div>"
      ],
      "text/plain": [
       "  order store id 1  quantity 2                            item name 3  \\\n",
       "0   1 Bucks County           1          Chips and Fresh Tomato Salsa    \n",
       "1   1 Bucks County           1                                   Izze   \n",
       "2   1 Bucks County           1                       Nantucket Nectar   \n",
       "3   1 Bucks County           1  Chips and Tomatillo-Green Chili Salsa   \n",
       "4   2 Bucks County           2                           Chicken Bowl   \n",
       "\n",
       "                                choice description 4 item price 5  \n",
       "0                                                NaN       $2.39   \n",
       "1                                       [Clementine]       $3.39   \n",
       "2                                            [Apple]       $3.39   \n",
       "3                                                NaN       $2.39   \n",
       "4  [Tomatillo-Red Chili Salsa (Hot), [Black Beans...      $16.98   "
      ]
     },
     "execution_count": 2,
     "metadata": {},
     "output_type": "execute_result"
    }
   ],
   "source": [
    "url = \"https://raw.githubusercontent.com/mwaugh0328/Data_Bootcamp_Fall_2017/master/data_bootcamp_1106/orders_dirty.csv\"\n",
    "#path = \"C://data_bootcamp//Data_Bootcamp_Fall_2017//data_bootcamp_1106//orders_dirty.csv\"\n",
    "# Double forward slashes for windows machines.\n",
    "\n",
    "chp = pd.read_csv(url)  \n",
    "\n",
    "print(\"Variable dtypes:\\n\", chp.dtypes, sep='')\n",
    "# Lets checkout the datatypes that we have... are they what you expect?\n",
    "\n",
    "chp.head()\n",
    "#chp.tail()\n",
    "#chp.shape"
   ]
  },
  {
   "cell_type": "code",
   "execution_count": 3,
   "metadata": {},
   "outputs": [
    {
     "data": {
      "text/html": [
       "<div>\n",
       "<style scoped>\n",
       "    .dataframe tbody tr th:only-of-type {\n",
       "        vertical-align: middle;\n",
       "    }\n",
       "\n",
       "    .dataframe tbody tr th {\n",
       "        vertical-align: top;\n",
       "    }\n",
       "\n",
       "    .dataframe thead th {\n",
       "        text-align: right;\n",
       "    }\n",
       "</style>\n",
       "<table border=\"1\" class=\"dataframe\">\n",
       "  <thead>\n",
       "    <tr style=\"text-align: right;\">\n",
       "      <th></th>\n",
       "      <th>order store id 1</th>\n",
       "      <th>quantity 2</th>\n",
       "      <th>item name 3</th>\n",
       "      <th>choice description 4</th>\n",
       "      <th>item price 5</th>\n",
       "    </tr>\n",
       "  </thead>\n",
       "  <tbody>\n",
       "    <tr>\n",
       "      <th>4617</th>\n",
       "      <td>1833 Bucks County</td>\n",
       "      <td>1</td>\n",
       "      <td>Steak Burrito</td>\n",
       "      <td>[Fresh Tomato Salsa, [Rice, Black Beans, Sour ...</td>\n",
       "      <td>$11.75</td>\n",
       "    </tr>\n",
       "    <tr>\n",
       "      <th>4618</th>\n",
       "      <td>1833 Bucks County</td>\n",
       "      <td>1</td>\n",
       "      <td>Steak Burrito</td>\n",
       "      <td>[Fresh Tomato Salsa, [Rice, Sour Cream, Cheese...</td>\n",
       "      <td>$11.75</td>\n",
       "    </tr>\n",
       "    <tr>\n",
       "      <th>4619</th>\n",
       "      <td>1834 Bucks County</td>\n",
       "      <td>1</td>\n",
       "      <td>Chicken Salad Bowl</td>\n",
       "      <td>[Fresh Tomato Salsa, [Fajita Vegetables, Pinto...</td>\n",
       "      <td>$11.25</td>\n",
       "    </tr>\n",
       "    <tr>\n",
       "      <th>4620</th>\n",
       "      <td>1834 Bucks County</td>\n",
       "      <td>1</td>\n",
       "      <td>Chicken Salad Bowl</td>\n",
       "      <td>[Fresh Tomato Salsa, [Fajita Vegetables, Lettu...</td>\n",
       "      <td>$8.75</td>\n",
       "    </tr>\n",
       "    <tr>\n",
       "      <th>4621</th>\n",
       "      <td>1834 Bucks County</td>\n",
       "      <td>1</td>\n",
       "      <td>Chicken Salad Bowl</td>\n",
       "      <td>[Fresh Tomato Salsa, [Fajita Vegetables, Pinto...</td>\n",
       "      <td>$8.75</td>\n",
       "    </tr>\n",
       "  </tbody>\n",
       "</table>\n",
       "</div>"
      ],
      "text/plain": [
       "       order store id 1  quantity 2         item name 3  \\\n",
       "4617  1833 Bucks County           1       Steak Burrito   \n",
       "4618  1833 Bucks County           1       Steak Burrito   \n",
       "4619  1834 Bucks County           1  Chicken Salad Bowl   \n",
       "4620  1834 Bucks County           1  Chicken Salad Bowl   \n",
       "4621  1834 Bucks County           1  Chicken Salad Bowl   \n",
       "\n",
       "                                   choice description 4 item price 5  \n",
       "4617  [Fresh Tomato Salsa, [Rice, Black Beans, Sour ...      $11.75   \n",
       "4618  [Fresh Tomato Salsa, [Rice, Sour Cream, Cheese...      $11.75   \n",
       "4619  [Fresh Tomato Salsa, [Fajita Vegetables, Pinto...      $11.25   \n",
       "4620  [Fresh Tomato Salsa, [Fajita Vegetables, Lettu...       $8.75   \n",
       "4621  [Fresh Tomato Salsa, [Fajita Vegetables, Pinto...       $8.75   "
      ]
     },
     "execution_count": 3,
     "metadata": {},
     "output_type": "execute_result"
    }
   ],
   "source": [
    "chp.tail()"
   ]
  },
  {
   "cell_type": "markdown",
   "metadata": {},
   "source": [
    "### Issue #1: We have too much data, want to work with a subset.\n",
    "\n",
    "Ok, so this is not really an issue here. This is about 5000 rows, width is small too. Not huge. But lets imagine that it was huge and we don't want deal with continually manipulating a big data set. We already know how to do this...we just use the `nrows` command when we read in the dataset."
   ]
  },
  {
   "cell_type": "code",
   "execution_count": 4,
   "metadata": {},
   "outputs": [
    {
     "name": "stdout",
     "output_type": "stream",
     "text": [
      "Variable dtypes:\n",
      "order store id 1        object\n",
      "quantity 2               int64\n",
      "item name 3             object\n",
      "choice description 4    object\n",
      "item price 5            object\n",
      "dtype: object\n"
     ]
    },
    {
     "data": {
      "text/plain": [
       "(500, 5)"
      ]
     },
     "execution_count": 4,
     "metadata": {},
     "output_type": "execute_result"
    }
   ],
   "source": [
    "chp = pd.read_csv(url, nrows = 500)   \n",
    "\n",
    "print(\"Variable dtypes:\\n\", chp.dtypes, sep='')\n",
    "# Lets checkout the datatypes that we have... are they what you expect?\n",
    "\n",
    "chp.head()\n",
    "\n",
    "chp.tail()\n",
    "\n",
    "chp.shape"
   ]
  },
  {
   "cell_type": "markdown",
   "metadata": {},
   "source": [
    "Now the shape indicates that we only have 500 rows. Just as we specified. This was easy. \n",
    "\n",
    "One strategy is to write and test your code on only a subset of the data. Again the upside is that the code may run faster, its easier too look at and analyze. Then once you have everything sorted out, you simply change the code above and scale it up.\n",
    "\n",
    "**Here is the issue to be mindful of: the subset may not be \"representative\" of the entire data set.** For example, there may be issues in say row 1458 (e.g. missing values, different data types), that will only arise when the full data set is imported. Moreover, your results (graphic, statistics, etc.) may not be the same one the entire data set is read in. This is just something to be mindful of when pursuing this approach.\n",
    "\n",
    "---"
   ]
  },
  {
   "cell_type": "markdown",
   "metadata": {},
   "source": [
    "### Issue #2: Row and column labels are contaminated.\n",
    "\n",
    "Return to the head and the `dyypes` and look at the variable names..."
   ]
  },
  {
   "cell_type": "code",
   "execution_count": 5,
   "metadata": {},
   "outputs": [
    {
     "name": "stdout",
     "output_type": "stream",
     "text": [
      "Variable dtypes:\n",
      "order store id 1        object\n",
      "quantity 2               int64\n",
      "item name 3             object\n",
      "choice description 4    object\n",
      "item price 5            object\n",
      "dtype: object\n"
     ]
    },
    {
     "data": {
      "text/html": [
       "<div>\n",
       "<style scoped>\n",
       "    .dataframe tbody tr th:only-of-type {\n",
       "        vertical-align: middle;\n",
       "    }\n",
       "\n",
       "    .dataframe tbody tr th {\n",
       "        vertical-align: top;\n",
       "    }\n",
       "\n",
       "    .dataframe thead th {\n",
       "        text-align: right;\n",
       "    }\n",
       "</style>\n",
       "<table border=\"1\" class=\"dataframe\">\n",
       "  <thead>\n",
       "    <tr style=\"text-align: right;\">\n",
       "      <th></th>\n",
       "      <th>order store id 1</th>\n",
       "      <th>quantity 2</th>\n",
       "      <th>item name 3</th>\n",
       "      <th>choice description 4</th>\n",
       "      <th>item price 5</th>\n",
       "    </tr>\n",
       "  </thead>\n",
       "  <tbody>\n",
       "    <tr>\n",
       "      <th>0</th>\n",
       "      <td>1 Bucks County</td>\n",
       "      <td>1</td>\n",
       "      <td>Chips and Fresh Tomato Salsa</td>\n",
       "      <td>NaN</td>\n",
       "      <td>$2.39</td>\n",
       "    </tr>\n",
       "    <tr>\n",
       "      <th>1</th>\n",
       "      <td>1 Bucks County</td>\n",
       "      <td>1</td>\n",
       "      <td>Izze</td>\n",
       "      <td>[Clementine]</td>\n",
       "      <td>$3.39</td>\n",
       "    </tr>\n",
       "    <tr>\n",
       "      <th>2</th>\n",
       "      <td>1 Bucks County</td>\n",
       "      <td>1</td>\n",
       "      <td>Nantucket Nectar</td>\n",
       "      <td>[Apple]</td>\n",
       "      <td>$3.39</td>\n",
       "    </tr>\n",
       "    <tr>\n",
       "      <th>3</th>\n",
       "      <td>1 Bucks County</td>\n",
       "      <td>1</td>\n",
       "      <td>Chips and Tomatillo-Green Chili Salsa</td>\n",
       "      <td>NaN</td>\n",
       "      <td>$2.39</td>\n",
       "    </tr>\n",
       "    <tr>\n",
       "      <th>4</th>\n",
       "      <td>2 Bucks County</td>\n",
       "      <td>2</td>\n",
       "      <td>Chicken Bowl</td>\n",
       "      <td>[Tomatillo-Red Chili Salsa (Hot), [Black Beans...</td>\n",
       "      <td>$16.98</td>\n",
       "    </tr>\n",
       "  </tbody>\n",
       "</table>\n",
       "</div>"
      ],
      "text/plain": [
       "  order store id 1  quantity 2                            item name 3  \\\n",
       "0   1 Bucks County           1          Chips and Fresh Tomato Salsa    \n",
       "1   1 Bucks County           1                                   Izze   \n",
       "2   1 Bucks County           1                       Nantucket Nectar   \n",
       "3   1 Bucks County           1  Chips and Tomatillo-Green Chili Salsa   \n",
       "4   2 Bucks County           2                           Chicken Bowl   \n",
       "\n",
       "                                choice description 4 item price 5  \n",
       "0                                                NaN       $2.39   \n",
       "1                                       [Clementine]       $3.39   \n",
       "2                                            [Apple]       $3.39   \n",
       "3                                                NaN       $2.39   \n",
       "4  [Tomatillo-Red Chili Salsa (Hot), [Black Beans...      $16.98   "
      ]
     },
     "execution_count": 5,
     "metadata": {},
     "output_type": "execute_result"
    }
   ],
   "source": [
    "chp = pd.read_csv(url, nrows = 500)  \n",
    "\n",
    "print(\"Variable dtypes:\\n\", chp.dtypes, sep='')\n",
    "# Lets checkout the datatypes that we have... are they what you expect?\n",
    "\n",
    "chp.head()\n",
    "\n",
    "#chp[\"order store id 1\"].unique()"
   ]
  },
  {
   "cell_type": "markdown",
   "metadata": {},
   "source": [
    "Here we see several issues that may slow us down, if fixed could help things.\n",
    "\n",
    "- Notice how the variable names are separated and then they have these numerical values in them (as if the person constructing the data wanted to help us by telling us the column number). We could simply slice the data set accordingly, or we could change the column names in a simpler way. Lets follow the later approach.\n",
    "\n",
    "- Second, notice that the \"order store id 1\" value gives us a order number (note how one order has several entries) and then store id. This is could be cumbersome for many reasons, lets explore this series using `unique()` and `value_counts()`. The code is below..."
   ]
  },
  {
   "cell_type": "code",
   "execution_count": 13,
   "metadata": {},
   "outputs": [],
   "source": [
    "unique_values = pd.DataFrame(chp[\"order store id 1\"].unique())\n",
    "# This will grabe the unique values and create a new dataframe out of it..."
   ]
  },
  {
   "cell_type": "code",
   "execution_count": 16,
   "metadata": {},
   "outputs": [
    {
     "data": {
      "text/plain": [
       "(209, 1)"
      ]
     },
     "execution_count": 16,
     "metadata": {},
     "output_type": "execute_result"
    }
   ],
   "source": [
    "unique_values.shape"
   ]
  },
  {
   "cell_type": "markdown",
   "metadata": {},
   "source": [
    "Now here is an important observations...there are 500 rows, but only 209 unique store, so what this is saying is for each order, there are multiple entries. Now here is another way to see what is going on with this by checking the value counts associated with each uniqie value. "
   ]
  },
  {
   "cell_type": "code",
   "execution_count": 19,
   "metadata": {},
   "outputs": [
    {
     "data": {
      "text/plain": [
       "205 Bucks County    12\n",
       "195 Bucks County     8\n",
       "149 Bucks County     6\n",
       "103 Bucks County     5\n",
       "184 Bucks County     5\n",
       "Name: order store id 1, dtype: int64"
      ]
     },
     "execution_count": 19,
     "metadata": {},
     "output_type": "execute_result"
    }
   ],
   "source": [
    "chp[\"order store id 1\"].value_counts().head()"
   ]
  },
  {
   "cell_type": "markdown",
   "metadata": {},
   "source": [
    "Lets now see what is up with order 205..."
   ]
  },
  {
   "cell_type": "code",
   "execution_count": 21,
   "metadata": {},
   "outputs": [
    {
     "data": {
      "text/html": [
       "<div>\n",
       "<style scoped>\n",
       "    .dataframe tbody tr th:only-of-type {\n",
       "        vertical-align: middle;\n",
       "    }\n",
       "\n",
       "    .dataframe tbody tr th {\n",
       "        vertical-align: top;\n",
       "    }\n",
       "\n",
       "    .dataframe thead th {\n",
       "        text-align: right;\n",
       "    }\n",
       "</style>\n",
       "<table border=\"1\" class=\"dataframe\">\n",
       "  <thead>\n",
       "    <tr style=\"text-align: right;\">\n",
       "      <th></th>\n",
       "      <th>order store id 1</th>\n",
       "      <th>quantity 2</th>\n",
       "      <th>item name 3</th>\n",
       "      <th>choice description 4</th>\n",
       "      <th>item price 5</th>\n",
       "    </tr>\n",
       "  </thead>\n",
       "  <tbody>\n",
       "    <tr>\n",
       "      <th>478</th>\n",
       "      <td>205 Bucks County</td>\n",
       "      <td>1</td>\n",
       "      <td>Carnitas Burrito</td>\n",
       "      <td>[Fresh Tomato Salsa, [Fajita Vegetables, Rice,...</td>\n",
       "      <td>$9.25</td>\n",
       "    </tr>\n",
       "    <tr>\n",
       "      <th>479</th>\n",
       "      <td>205 Bucks County</td>\n",
       "      <td>1</td>\n",
       "      <td>Veggie Burrito</td>\n",
       "      <td>[Roasted Chili Corn Salsa, [Fajita Vegetables,...</td>\n",
       "      <td>$11.25</td>\n",
       "    </tr>\n",
       "    <tr>\n",
       "      <th>480</th>\n",
       "      <td>205 Bucks County</td>\n",
       "      <td>1</td>\n",
       "      <td>Chicken Bowl</td>\n",
       "      <td>[Fresh Tomato Salsa, [Fajita Vegetables, Rice,...</td>\n",
       "      <td>$8.75</td>\n",
       "    </tr>\n",
       "    <tr>\n",
       "      <th>481</th>\n",
       "      <td>205 Bucks County</td>\n",
       "      <td>1</td>\n",
       "      <td>Steak Burrito</td>\n",
       "      <td>[Tomatillo Red Chili Salsa, [Rice, Black Beans...</td>\n",
       "      <td>$9.25</td>\n",
       "    </tr>\n",
       "    <tr>\n",
       "      <th>482</th>\n",
       "      <td>205 Bucks County</td>\n",
       "      <td>1</td>\n",
       "      <td>Chicken Burrito</td>\n",
       "      <td>[Fresh Tomato Salsa, [Rice, Black Beans, Chees...</td>\n",
       "      <td>$11.25</td>\n",
       "    </tr>\n",
       "    <tr>\n",
       "      <th>483</th>\n",
       "      <td>205 Bucks County</td>\n",
       "      <td>1</td>\n",
       "      <td>Chicken Bowl</td>\n",
       "      <td>[Fresh Tomato Salsa, [Rice, Black Beans, Chees...</td>\n",
       "      <td>$11.25</td>\n",
       "    </tr>\n",
       "    <tr>\n",
       "      <th>484</th>\n",
       "      <td>205 Bucks County</td>\n",
       "      <td>1</td>\n",
       "      <td>Chicken Bowl</td>\n",
       "      <td>[Fresh Tomato Salsa, [Fajita Vegetables, Rice,...</td>\n",
       "      <td>$8.75</td>\n",
       "    </tr>\n",
       "    <tr>\n",
       "      <th>485</th>\n",
       "      <td>205 Bucks County</td>\n",
       "      <td>1</td>\n",
       "      <td>Barbacoa Crispy Tacos</td>\n",
       "      <td>[Fresh Tomato Salsa, Guacamole]</td>\n",
       "      <td>$11.75</td>\n",
       "    </tr>\n",
       "    <tr>\n",
       "      <th>486</th>\n",
       "      <td>205 Bucks County</td>\n",
       "      <td>1</td>\n",
       "      <td>Chicken Burrito</td>\n",
       "      <td>[Fresh Tomato Salsa, Cheese]</td>\n",
       "      <td>$8.75</td>\n",
       "    </tr>\n",
       "    <tr>\n",
       "      <th>487</th>\n",
       "      <td>205 Bucks County</td>\n",
       "      <td>1</td>\n",
       "      <td>Chicken Burrito</td>\n",
       "      <td>[Fresh Tomato Salsa, [Rice, Cheese, Lettuce]]</td>\n",
       "      <td>$8.75</td>\n",
       "    </tr>\n",
       "    <tr>\n",
       "      <th>488</th>\n",
       "      <td>205 Bucks County</td>\n",
       "      <td>1</td>\n",
       "      <td>Chicken Bowl</td>\n",
       "      <td>[Fresh Tomato Salsa, [Rice, Black Beans, Chees...</td>\n",
       "      <td>$8.75</td>\n",
       "    </tr>\n",
       "    <tr>\n",
       "      <th>489</th>\n",
       "      <td>205 Bucks County</td>\n",
       "      <td>1</td>\n",
       "      <td>Chips</td>\n",
       "      <td>NaN</td>\n",
       "      <td>$2.15</td>\n",
       "    </tr>\n",
       "  </tbody>\n",
       "</table>\n",
       "</div>"
      ],
      "text/plain": [
       "     order store id 1  quantity 2            item name 3  \\\n",
       "478  205 Bucks County           1       Carnitas Burrito   \n",
       "479  205 Bucks County           1         Veggie Burrito   \n",
       "480  205 Bucks County           1           Chicken Bowl   \n",
       "481  205 Bucks County           1          Steak Burrito   \n",
       "482  205 Bucks County           1        Chicken Burrito   \n",
       "483  205 Bucks County           1           Chicken Bowl   \n",
       "484  205 Bucks County           1           Chicken Bowl   \n",
       "485  205 Bucks County           1  Barbacoa Crispy Tacos   \n",
       "486  205 Bucks County           1        Chicken Burrito   \n",
       "487  205 Bucks County           1        Chicken Burrito   \n",
       "488  205 Bucks County           1           Chicken Bowl   \n",
       "489  205 Bucks County           1                  Chips   \n",
       "\n",
       "                                  choice description 4 item price 5  \n",
       "478  [Fresh Tomato Salsa, [Fajita Vegetables, Rice,...       $9.25   \n",
       "479  [Roasted Chili Corn Salsa, [Fajita Vegetables,...      $11.25   \n",
       "480  [Fresh Tomato Salsa, [Fajita Vegetables, Rice,...       $8.75   \n",
       "481  [Tomatillo Red Chili Salsa, [Rice, Black Beans...       $9.25   \n",
       "482  [Fresh Tomato Salsa, [Rice, Black Beans, Chees...      $11.25   \n",
       "483  [Fresh Tomato Salsa, [Rice, Black Beans, Chees...      $11.25   \n",
       "484  [Fresh Tomato Salsa, [Fajita Vegetables, Rice,...       $8.75   \n",
       "485                    [Fresh Tomato Salsa, Guacamole]      $11.75   \n",
       "486                       [Fresh Tomato Salsa, Cheese]       $8.75   \n",
       "487      [Fresh Tomato Salsa, [Rice, Cheese, Lettuce]]       $8.75   \n",
       "488  [Fresh Tomato Salsa, [Rice, Black Beans, Chees...       $8.75   \n",
       "489                                                NaN       $2.15   "
      ]
     },
     "execution_count": 21,
     "metadata": {},
     "output_type": "execute_result"
    }
   ],
   "source": [
    "chp[chp[\"order store id 1\"]== \"205 Bucks County\"]"
   ]
  },
  {
   "cell_type": "markdown",
   "metadata": {},
   "source": [
    "What we learned is that this is for the same country (Bucks County). Thus is provides no information at all. Lets also change the entries in that column and remove it. "
   ]
  },
  {
   "cell_type": "markdown",
   "metadata": {},
   "source": [
    "**First step: Fix the column names.**"
   ]
  },
  {
   "cell_type": "code",
   "execution_count": 22,
   "metadata": {},
   "outputs": [],
   "source": [
    "# One way to fix the names is just to rename them by hand like this...\n",
    "\n",
    "#new_name_list = [\"order_id\", \"quantity\", \"item_name\", \"choice_desc\", \"item_price\"]\n",
    "\n",
    "#chp.columns = new_name_list"
   ]
  },
  {
   "cell_type": "code",
   "execution_count": 31,
   "metadata": {},
   "outputs": [
    {
     "data": {
      "text/plain": [
       "'order_store_id'"
      ]
     },
     "execution_count": 31,
     "metadata": {},
     "output_type": "execute_result"
    }
   ],
   "source": [
    "# Another way is to use string methods on the column names and create something more usable.\n",
    "# Here is a test run, what does this do?\n",
    "\n",
    "test = \"order store id 1\"\n",
    "\n",
    "test.rsplit(maxsplit=1)[0].replace(\" \",\"_\")\n",
    "\n",
    "# So this splits the string into a list. The max split doess...\n",
    "# Then the bracket says, take the first entry.\n",
    "# Then the next part says replace the space with an underscore,\n",
    "# this will help us call a column name more easily.\n",
    "\n",
    "# What if we did not have max split?\n"
   ]
  },
  {
   "cell_type": "code",
   "execution_count": 24,
   "metadata": {},
   "outputs": [
    {
     "data": {
      "text/html": [
       "<div>\n",
       "<style scoped>\n",
       "    .dataframe tbody tr th:only-of-type {\n",
       "        vertical-align: middle;\n",
       "    }\n",
       "\n",
       "    .dataframe tbody tr th {\n",
       "        vertical-align: top;\n",
       "    }\n",
       "\n",
       "    .dataframe thead th {\n",
       "        text-align: right;\n",
       "    }\n",
       "</style>\n",
       "<table border=\"1\" class=\"dataframe\">\n",
       "  <thead>\n",
       "    <tr style=\"text-align: right;\">\n",
       "      <th></th>\n",
       "      <th>order_store_id</th>\n",
       "      <th>quantity</th>\n",
       "      <th>item_name</th>\n",
       "      <th>choice_description</th>\n",
       "      <th>item_price</th>\n",
       "    </tr>\n",
       "  </thead>\n",
       "  <tbody>\n",
       "    <tr>\n",
       "      <th>0</th>\n",
       "      <td>1 Bucks County</td>\n",
       "      <td>1</td>\n",
       "      <td>Chips and Fresh Tomato Salsa</td>\n",
       "      <td>NaN</td>\n",
       "      <td>$2.39</td>\n",
       "    </tr>\n",
       "    <tr>\n",
       "      <th>1</th>\n",
       "      <td>1 Bucks County</td>\n",
       "      <td>1</td>\n",
       "      <td>Izze</td>\n",
       "      <td>[Clementine]</td>\n",
       "      <td>$3.39</td>\n",
       "    </tr>\n",
       "    <tr>\n",
       "      <th>2</th>\n",
       "      <td>1 Bucks County</td>\n",
       "      <td>1</td>\n",
       "      <td>Nantucket Nectar</td>\n",
       "      <td>[Apple]</td>\n",
       "      <td>$3.39</td>\n",
       "    </tr>\n",
       "    <tr>\n",
       "      <th>3</th>\n",
       "      <td>1 Bucks County</td>\n",
       "      <td>1</td>\n",
       "      <td>Chips and Tomatillo-Green Chili Salsa</td>\n",
       "      <td>NaN</td>\n",
       "      <td>$2.39</td>\n",
       "    </tr>\n",
       "    <tr>\n",
       "      <th>4</th>\n",
       "      <td>2 Bucks County</td>\n",
       "      <td>2</td>\n",
       "      <td>Chicken Bowl</td>\n",
       "      <td>[Tomatillo-Red Chili Salsa (Hot), [Black Beans...</td>\n",
       "      <td>$16.98</td>\n",
       "    </tr>\n",
       "  </tbody>\n",
       "</table>\n",
       "</div>"
      ],
      "text/plain": [
       "   order_store_id  quantity                              item_name  \\\n",
       "0  1 Bucks County         1          Chips and Fresh Tomato Salsa    \n",
       "1  1 Bucks County         1                                   Izze   \n",
       "2  1 Bucks County         1                       Nantucket Nectar   \n",
       "3  1 Bucks County         1  Chips and Tomatillo-Green Chili Salsa   \n",
       "4  2 Bucks County         2                           Chicken Bowl   \n",
       "\n",
       "                                  choice_description item_price  \n",
       "0                                                NaN     $2.39   \n",
       "1                                       [Clementine]     $3.39   \n",
       "2                                            [Apple]     $3.39   \n",
       "3                                                NaN     $2.39   \n",
       "4  [Tomatillo-Red Chili Salsa (Hot), [Black Beans...    $16.98   "
      ]
     },
     "execution_count": 24,
     "metadata": {},
     "output_type": "execute_result"
    }
   ],
   "source": [
    "# Now lets fix this all up for the data from\n",
    "new_name_list = []\n",
    "\n",
    "for var in chp.columns:\n",
    "    new_name_list.append(var.rsplit(maxsplit=1)[0].replace(\" \",\"_\"))\n",
    "    \n",
    "# How would you do this in list comprehension format...\n",
    "    \n",
    "# Then rename everything...\n",
    "\n",
    "chp.columns = new_name_list\n",
    "\n",
    "chp.head()    "
   ]
  },
  {
   "cell_type": "markdown",
   "metadata": {},
   "source": [
    "Great work!\n",
    "\n",
    "**Second step: Change the individual column entries.**\n",
    "\n",
    "So this fixed some issues with the columns, lets use the same idea to fix the issue with the order store id, so get the \"Bucks County\" out of there."
   ]
  },
  {
   "cell_type": "code",
   "execution_count": 35,
   "metadata": {},
   "outputs": [
    {
     "name": "stdout",
     "output_type": "stream",
     "text": [
      "1\n",
      "<class 'str'>\n"
     ]
    }
   ],
   "source": [
    "# Again, lets test this out...\n",
    "\n",
    "# Step one, pull off the number...\n",
    "\n",
    "test = \"1 Bucks County\"\n",
    "test2 = test.rsplit()[0] # same idea, don't use the max split option....\n",
    "\n",
    "print(test2)\n",
    "print(type(test2)) # I want this numerical, but its not...\n",
    "\n",
    "# Step two, convert to floating point...\n",
    "\n",
    "#test2 = float(test2)\n",
    "#print(type(test2))"
   ]
  },
  {
   "cell_type": "markdown",
   "metadata": {},
   "source": [
    "This gives a general idea to fixing the the order numbers. Here is the problem: We need to perform this operation on every single entry of a particular column. This is different than just editing the column names. To perform this operation, we need to use **Pandas string methods.** \n",
    "\n",
    "We can do the same thing to all the observations of a variable with so-called string methods. We append `.str` to a variable in a DataFrame and then apply the string method of our choice. If this is part of converting a number-like entry that has mistakenly been given `dtype` object, we then convert its `dtype` with the `astype` method.\n",
    "\n",
    "**Aside** Below we will see several examples of string methods on the dataframe. Below is a link to a resournce with a more comprehensive treatment of string methods in pandas:\n",
    "\n",
    "[Strings in Pandas](https://github.com/jakevdp/PythonDataScienceHandbook/blob/master/notebooks/03.10-Working-With-Strings.ipynb)"
   ]
  },
  {
   "cell_type": "code",
   "execution_count": 36,
   "metadata": {},
   "outputs": [],
   "source": [
    "chp.head()\n",
    "chp.columns\n",
    "chp.order_store_id.head()\n",
    "\n",
    "# Just to verify we are doing what we think we are...\n",
    "\n",
    "chp.order_store_id = chp.order_store_id.str.rsplit().str[0].astype(int)\n",
    "\n",
    "# Note that we need two str's here: one to do the split, the other to extract the first element.\n",
    "# Then the last part of the code `astype` converts it to a string...\n",
    "# note nothing changes unless we reassign everything. "
   ]
  },
  {
   "cell_type": "code",
   "execution_count": 37,
   "metadata": {},
   "outputs": [
    {
     "data": {
      "text/html": [
       "<div>\n",
       "<style scoped>\n",
       "    .dataframe tbody tr th:only-of-type {\n",
       "        vertical-align: middle;\n",
       "    }\n",
       "\n",
       "    .dataframe tbody tr th {\n",
       "        vertical-align: top;\n",
       "    }\n",
       "\n",
       "    .dataframe thead th {\n",
       "        text-align: right;\n",
       "    }\n",
       "</style>\n",
       "<table border=\"1\" class=\"dataframe\">\n",
       "  <thead>\n",
       "    <tr style=\"text-align: right;\">\n",
       "      <th></th>\n",
       "      <th>order_store_id</th>\n",
       "      <th>quantity</th>\n",
       "      <th>item_name</th>\n",
       "      <th>choice_description</th>\n",
       "      <th>item_price</th>\n",
       "    </tr>\n",
       "  </thead>\n",
       "  <tbody>\n",
       "    <tr>\n",
       "      <th>0</th>\n",
       "      <td>1</td>\n",
       "      <td>1</td>\n",
       "      <td>Chips and Fresh Tomato Salsa</td>\n",
       "      <td>NaN</td>\n",
       "      <td>$2.39</td>\n",
       "    </tr>\n",
       "    <tr>\n",
       "      <th>1</th>\n",
       "      <td>1</td>\n",
       "      <td>1</td>\n",
       "      <td>Izze</td>\n",
       "      <td>[Clementine]</td>\n",
       "      <td>$3.39</td>\n",
       "    </tr>\n",
       "    <tr>\n",
       "      <th>2</th>\n",
       "      <td>1</td>\n",
       "      <td>1</td>\n",
       "      <td>Nantucket Nectar</td>\n",
       "      <td>[Apple]</td>\n",
       "      <td>$3.39</td>\n",
       "    </tr>\n",
       "    <tr>\n",
       "      <th>3</th>\n",
       "      <td>1</td>\n",
       "      <td>1</td>\n",
       "      <td>Chips and Tomatillo-Green Chili Salsa</td>\n",
       "      <td>NaN</td>\n",
       "      <td>$2.39</td>\n",
       "    </tr>\n",
       "    <tr>\n",
       "      <th>4</th>\n",
       "      <td>2</td>\n",
       "      <td>2</td>\n",
       "      <td>Chicken Bowl</td>\n",
       "      <td>[Tomatillo-Red Chili Salsa (Hot), [Black Beans...</td>\n",
       "      <td>$16.98</td>\n",
       "    </tr>\n",
       "    <tr>\n",
       "      <th>5</th>\n",
       "      <td>3</td>\n",
       "      <td>1</td>\n",
       "      <td>Chicken Bowl</td>\n",
       "      <td>[Fresh Tomato Salsa (Mild), [Rice, Cheese, Sou...</td>\n",
       "      <td>$10.98</td>\n",
       "    </tr>\n",
       "    <tr>\n",
       "      <th>6</th>\n",
       "      <td>3</td>\n",
       "      <td>1</td>\n",
       "      <td>Side of Chips</td>\n",
       "      <td>NaN</td>\n",
       "      <td>$1.69</td>\n",
       "    </tr>\n",
       "    <tr>\n",
       "      <th>7</th>\n",
       "      <td>4</td>\n",
       "      <td>1</td>\n",
       "      <td>Steak Burrito</td>\n",
       "      <td>[Tomatillo Red Chili Salsa, [Fajita Vegetables...</td>\n",
       "      <td>$11.75</td>\n",
       "    </tr>\n",
       "    <tr>\n",
       "      <th>8</th>\n",
       "      <td>4</td>\n",
       "      <td>1</td>\n",
       "      <td>Steak Soft Tacos</td>\n",
       "      <td>[Tomatillo Green Chili Salsa, [Pinto Beans, Ch...</td>\n",
       "      <td>$9.25</td>\n",
       "    </tr>\n",
       "    <tr>\n",
       "      <th>9</th>\n",
       "      <td>5</td>\n",
       "      <td>1</td>\n",
       "      <td>Steak Burrito</td>\n",
       "      <td>[Fresh Tomato Salsa, [Rice, Black Beans, Pinto...</td>\n",
       "      <td>$9.25</td>\n",
       "    </tr>\n",
       "    <tr>\n",
       "      <th>10</th>\n",
       "      <td>5</td>\n",
       "      <td>1</td>\n",
       "      <td>Chips and Guacamole</td>\n",
       "      <td>NaN</td>\n",
       "      <td>$4.45</td>\n",
       "    </tr>\n",
       "    <tr>\n",
       "      <th>11</th>\n",
       "      <td>6</td>\n",
       "      <td>1</td>\n",
       "      <td>Chicken Crispy Tacos</td>\n",
       "      <td>[Roasted Chili Corn Salsa, [Fajita Vegetables,...</td>\n",
       "      <td>$8.75</td>\n",
       "    </tr>\n",
       "    <tr>\n",
       "      <th>12</th>\n",
       "      <td>6</td>\n",
       "      <td>1</td>\n",
       "      <td>Chicken Soft Tacos</td>\n",
       "      <td>[Roasted Chili Corn Salsa, [Rice, Black Beans,...</td>\n",
       "      <td>$8.75</td>\n",
       "    </tr>\n",
       "    <tr>\n",
       "      <th>13</th>\n",
       "      <td>7</td>\n",
       "      <td>1</td>\n",
       "      <td>Chicken Bowl</td>\n",
       "      <td>[Fresh Tomato Salsa, [Fajita Vegetables, Rice,...</td>\n",
       "      <td>$11.25</td>\n",
       "    </tr>\n",
       "    <tr>\n",
       "      <th>14</th>\n",
       "      <td>7</td>\n",
       "      <td>1</td>\n",
       "      <td>Chips and Guacamole</td>\n",
       "      <td>NaN</td>\n",
       "      <td>$4.45</td>\n",
       "    </tr>\n",
       "    <tr>\n",
       "      <th>15</th>\n",
       "      <td>8</td>\n",
       "      <td>1</td>\n",
       "      <td>Chips and Tomatillo-Green Chili Salsa</td>\n",
       "      <td>NaN</td>\n",
       "      <td>$2.39</td>\n",
       "    </tr>\n",
       "    <tr>\n",
       "      <th>16</th>\n",
       "      <td>8</td>\n",
       "      <td>1</td>\n",
       "      <td>Chicken Burrito</td>\n",
       "      <td>[Tomatillo-Green Chili Salsa (Medium), [Pinto ...</td>\n",
       "      <td>$8.49</td>\n",
       "    </tr>\n",
       "    <tr>\n",
       "      <th>17</th>\n",
       "      <td>9</td>\n",
       "      <td>1</td>\n",
       "      <td>Chicken Burrito</td>\n",
       "      <td>[Fresh Tomato Salsa (Mild), [Black Beans, Rice...</td>\n",
       "      <td>$8.49</td>\n",
       "    </tr>\n",
       "    <tr>\n",
       "      <th>18</th>\n",
       "      <td>9</td>\n",
       "      <td>2</td>\n",
       "      <td>Canned Soda</td>\n",
       "      <td>[Sprite]</td>\n",
       "      <td>$2.18</td>\n",
       "    </tr>\n",
       "    <tr>\n",
       "      <th>19</th>\n",
       "      <td>10</td>\n",
       "      <td>1</td>\n",
       "      <td>Chicken Bowl</td>\n",
       "      <td>[Tomatillo Red Chili Salsa, [Fajita Vegetables...</td>\n",
       "      <td>$8.75</td>\n",
       "    </tr>\n",
       "  </tbody>\n",
       "</table>\n",
       "</div>"
      ],
      "text/plain": [
       "    order_store_id  quantity                              item_name  \\\n",
       "0                1         1          Chips and Fresh Tomato Salsa    \n",
       "1                1         1                                   Izze   \n",
       "2                1         1                       Nantucket Nectar   \n",
       "3                1         1  Chips and Tomatillo-Green Chili Salsa   \n",
       "4                2         2                           Chicken Bowl   \n",
       "5                3         1                           Chicken Bowl   \n",
       "6                3         1                          Side of Chips   \n",
       "7                4         1                          Steak Burrito   \n",
       "8                4         1                       Steak Soft Tacos   \n",
       "9                5         1                          Steak Burrito   \n",
       "10               5         1                    Chips and Guacamole   \n",
       "11               6         1                   Chicken Crispy Tacos   \n",
       "12               6         1                     Chicken Soft Tacos   \n",
       "13               7         1                           Chicken Bowl   \n",
       "14               7         1                    Chips and Guacamole   \n",
       "15               8         1  Chips and Tomatillo-Green Chili Salsa   \n",
       "16               8         1                        Chicken Burrito   \n",
       "17               9         1                        Chicken Burrito   \n",
       "18               9         2                            Canned Soda   \n",
       "19              10         1                           Chicken Bowl   \n",
       "\n",
       "                                   choice_description item_price  \n",
       "0                                                 NaN     $2.39   \n",
       "1                                        [Clementine]     $3.39   \n",
       "2                                             [Apple]     $3.39   \n",
       "3                                                 NaN     $2.39   \n",
       "4   [Tomatillo-Red Chili Salsa (Hot), [Black Beans...    $16.98   \n",
       "5   [Fresh Tomato Salsa (Mild), [Rice, Cheese, Sou...    $10.98   \n",
       "6                                                 NaN     $1.69   \n",
       "7   [Tomatillo Red Chili Salsa, [Fajita Vegetables...    $11.75   \n",
       "8   [Tomatillo Green Chili Salsa, [Pinto Beans, Ch...     $9.25   \n",
       "9   [Fresh Tomato Salsa, [Rice, Black Beans, Pinto...     $9.25   \n",
       "10                                                NaN     $4.45   \n",
       "11  [Roasted Chili Corn Salsa, [Fajita Vegetables,...     $8.75   \n",
       "12  [Roasted Chili Corn Salsa, [Rice, Black Beans,...     $8.75   \n",
       "13  [Fresh Tomato Salsa, [Fajita Vegetables, Rice,...    $11.25   \n",
       "14                                                NaN     $4.45   \n",
       "15                                                NaN     $2.39   \n",
       "16  [Tomatillo-Green Chili Salsa (Medium), [Pinto ...     $8.49   \n",
       "17  [Fresh Tomato Salsa (Mild), [Black Beans, Rice...     $8.49   \n",
       "18                                           [Sprite]     $2.18   \n",
       "19  [Tomatillo Red Chili Salsa, [Fajita Vegetables...     $8.75   "
      ]
     },
     "execution_count": 37,
     "metadata": {},
     "output_type": "execute_result"
    }
   ],
   "source": [
    "chp.head(20)"
   ]
  },
  {
   "cell_type": "code",
   "execution_count": 38,
   "metadata": {},
   "outputs": [
    {
     "name": "stdout",
     "output_type": "stream",
     "text": [
      "Variable dtypes:\n",
      "order_store_id         int32\n",
      "quantity               int64\n",
      "item_name             object\n",
      "choice_description    object\n",
      "item_price            object\n",
      "dtype: object\n"
     ]
    }
   ],
   "source": [
    "print(\"Variable dtypes:\\n\", chp.dtypes, sep='')"
   ]
  },
  {
   "cell_type": "markdown",
   "metadata": {},
   "source": [
    "Great work. We now have a numerical value for each order number. Key lesson from this was using `.str` on the dataframe to used string methods on individual entries.\n",
    "\n",
    "---"
   ]
  },
  {
   "cell_type": "markdown",
   "metadata": {},
   "source": [
    "### Issue #3: Numerical data is contaminated by commas (marking thousands); dollar signs; other non-numerical values, etc.\n",
    "\n",
    "We sorted out issue with labels on the rows and columns. We still have the following issue that the item price is not a numerical value. Check above, the type of `item_price` is an object, not a float. If we want to do some kind of numerical calculation on this, then we need to convert it.\n",
    "\n",
    "**Why is `item_price` not a numerical value?** ITs those damm dollar signs. Someone put them their thinking they were being helpful, but it is giving us a headache. **How do we fix it?** Dude, in a very similar way above.\n",
    "\n",
    "#### Exercise: Can you use the methods above to...\n",
    " \n",
    " - Remove the dollar sign\n",
    " \n",
    " - Check the type\n",
    " \n",
    " - Convert the type to a float. Note: if its not working, you are proabably doing it right. Can you figure out what the issue is?\n",
    "\n",
    "---\n"
   ]
  },
  {
   "cell_type": "markdown",
   "metadata": {},
   "source": [
    "#### Replacing corrupted entries with missing values\n",
    "\n",
    "The issue that we faced in the exercise above is that while we did replace the dollar sign, we could not convert the column to a floating point number because there were some entries in the column that are not numbers (e.g. the gift card values). So Python/Pandas kicks back an error. How do we do this? The natural way to do this is to replace all these entries with a `NaN` value. \n",
    "\n",
    "Below is another method to replace whole entries and assign them an missing value. (This will set us up for the next issue. "
   ]
  },
  {
   "cell_type": "code",
   "execution_count": 47,
   "metadata": {
    "collapsed": true
   },
   "outputs": [],
   "source": [
    "chp.item_price.replace(to_replace=[\"gift card\"], value=[np.nan], inplace = True)\n",
    "# So lets walk through what this does, it takes the column, then uses the replace \n",
    "# comand, to_replace = [\"what we want to replace\"], then the value\n",
    "# that we want to replace it with. We are goning to use the numpy NaN value\n",
    "# which the dataframe will proplerly recognice as not a number.\n",
    "\n",
    "# Note this could be a huge pain if there were differing random \n",
    "# strings floating around.\n",
    "\n",
    "chp.item_price.unique() # simmilar, but just reports the unqiue occurances\n",
    "chp.item_price.astype?"
   ]
  },
  {
   "cell_type": "code",
   "execution_count": 49,
   "metadata": {},
   "outputs": [
    {
     "name": "stdout",
     "output_type": "stream",
     "text": [
      "Variable dtypes:\n",
      "order_store_id          int32\n",
      "quantity                int64\n",
      "item_name              object\n",
      "choice_description     object\n",
      "item_price            float64\n",
      "dtype: object\n"
     ]
    }
   ],
   "source": [
    "chp.item_price = chp.item_price.astype(float)\n",
    "# Now convert it to a floating point number.\n",
    "\n",
    "print(\"Variable dtypes:\\n\", chp.dtypes, sep='')"
   ]
  },
  {
   "cell_type": "markdown",
   "metadata": {},
   "source": [
    "### Important Comment\n",
    "\n",
    "Unlike the string methods we described earlier, this use of replace affects **complete entries**, not **elements of string entries**. For example, suppose we tried to use replace to get rid of the dollar signs. If would not work because `replace` is looking for an entry that only has a `$` to replace it. \n",
    "\n",
    "---"
   ]
  },
  {
   "cell_type": "markdown",
   "metadata": {},
   "source": [
    "### Issue #4: Missing values are marked erratically.\n",
    "\n",
    "It's important to label missing values, so that Pandas doesn't interpret entries as strings. Pandas is also smart enough to ignore things labeled missing when it does calculations or graphs. If we compute, for example, the mean of a variable, the default is to ignore missing values.\n",
    "\n",
    "We've seen that we can label certain entries as missing values in read statements:  read_csv, read_excel, and so on. Moreover, in the operations above, we showed how to take entries that were hard to make sense of and called them missing values using the `replace` command and `np.nan`.\n",
    "\n",
    "**Working with missing values** Here are some operations we can do..."
   ]
  },
  {
   "cell_type": "code",
   "execution_count": 48,
   "metadata": {},
   "outputs": [
    {
     "data": {
      "text/plain": [
       "448    195\n",
       "449    195\n",
       "450    195\n",
       "451    195\n",
       "452    195\n",
       "453    195\n",
       "454    195\n",
       "455    195\n",
       "Name: order_store_id, dtype: int32"
      ]
     },
     "execution_count": 48,
     "metadata": {},
     "output_type": "execute_result"
    }
   ],
   "source": [
    "chp.order_store_id[chp.item_price.isnull()]\n",
    "# These are the order numbers with null values"
   ]
  },
  {
   "cell_type": "markdown",
   "metadata": {},
   "source": [
    "The next command of use is `.dropna` The one thing to note is that Pandas (when it computes things or plots) automatically drops stuff. So here is an example, the mean with the NaNs there and the mean without. They are the same."
   ]
  },
  {
   "cell_type": "code",
   "execution_count": 17,
   "metadata": {},
   "outputs": [
    {
     "name": "stdout",
     "output_type": "stream",
     "text": [
      "7.454735772357705\n",
      "7.454735772357705\n"
     ]
    }
   ],
   "source": [
    "print(chp.item_price.dropna().mean())\n",
    "print(chp.item_price.mean())"
   ]
  },
  {
   "cell_type": "markdown",
   "metadata": {},
   "source": [
    "-----\n",
    "\n",
    "### Some Analysis\n",
    "\n",
    "Now that we have our data set clean, lets just do a couple of things to check it out. \n",
    "\n",
    "- "
   ]
  },
  {
   "cell_type": "code",
   "execution_count": 37,
   "metadata": {},
   "outputs": [
    {
     "data": {
      "text/plain": [
       "['[Tomatillo-Green Chili Salsa (Medium), [Pinto Beans, Cheese, Sour Cream]]']"
      ]
     },
     "execution_count": 37,
     "metadata": {},
     "output_type": "execute_result"
    }
   ],
   "source": [
    "has_guac = chp[chp.item_name == \"Chicken Burrito\"].choice_description\n",
    "\n",
    "has_guac = pd.DataFrame(has_guac)\n",
    "\n",
    "list(has_guac.loc[16])\n",
    "\n",
    "#chp[chp.item_name == \"Chicken Burrito\"][has_guac].item_price.mean() "
   ]
  },
  {
   "cell_type": "markdown",
   "metadata": {},
   "source": [
    "### Summary\n",
    "We've learned the following. we learned how to clean data dealing with several key issues: (i) Too much data (ii) rows, columns, or specific entries have contaminated data (iii) numerical values are contaminated and (iv) missing values. Then we quickly analyzed the Chipoltle data and practice the `gropuby` command and `contains` string method. Great work!\n",
    "\n",
    "- **For practice:** What if you did the same analysis on the whole data set? Is this as easy as simply changing `nrows = 500` and running it again? Why or why not?"
   ]
  },
  {
   "cell_type": "code",
   "execution_count": null,
   "metadata": {
    "collapsed": true
   },
   "outputs": [],
   "source": []
  }
 ],
 "metadata": {
  "anaconda-cloud": {},
  "hide_input": false,
  "kernelspec": {
   "display_name": "Python 3",
   "language": "python",
   "name": "python3"
  },
  "language_info": {
   "codemirror_mode": {
    "name": "ipython",
    "version": 3
   },
   "file_extension": ".py",
   "mimetype": "text/x-python",
   "name": "python",
   "nbconvert_exporter": "python",
   "pygments_lexer": "ipython3",
   "version": "3.7.1"
  }
 },
 "nbformat": 4,
 "nbformat_minor": 2
}
