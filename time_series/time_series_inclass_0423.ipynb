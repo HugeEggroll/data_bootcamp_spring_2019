{
 "cells": [
  {
   "cell_type": "code",
   "execution_count": 1,
   "metadata": {},
   "outputs": [],
   "source": [
    "import pandas as pd\n",
    "import matplotlib.pyplot as plt\n",
    "\n",
    "import datetime as dt"
   ]
  },
  {
   "cell_type": "code",
   "execution_count": 2,
   "metadata": {},
   "outputs": [],
   "source": [
    "time1 = dt.datetime(1776,7,4)"
   ]
  },
  {
   "cell_type": "code",
   "execution_count": 8,
   "metadata": {},
   "outputs": [
    {
     "data": {
      "text/plain": [
       "7"
      ]
     },
     "execution_count": 8,
     "metadata": {},
     "output_type": "execute_result"
    }
   ],
   "source": [
    "time1.month"
   ]
  },
  {
   "cell_type": "code",
   "execution_count": 21,
   "metadata": {},
   "outputs": [
    {
     "data": {
      "text/plain": [
       "'July 04 1776'"
      ]
     },
     "execution_count": 21,
     "metadata": {},
     "output_type": "execute_result"
    }
   ],
   "source": [
    "time1.strftime(\"%B %d %Y\")"
   ]
  },
  {
   "cell_type": "code",
   "execution_count": 11,
   "metadata": {},
   "outputs": [],
   "source": [
    "string_date = \"1776/7/4\""
   ]
  },
  {
   "cell_type": "code",
   "execution_count": 17,
   "metadata": {},
   "outputs": [],
   "source": [
    "time2 = dt.datetime.strptime(string_date, \"%Y/%m/%d\")"
   ]
  },
  {
   "cell_type": "code",
   "execution_count": 19,
   "metadata": {},
   "outputs": [
    {
     "data": {
      "text/plain": [
       "1776"
      ]
     },
     "execution_count": 19,
     "metadata": {},
     "output_type": "execute_result"
    }
   ],
   "source": [
    "time2.year"
   ]
  },
  {
   "cell_type": "code",
   "execution_count": 22,
   "metadata": {},
   "outputs": [],
   "source": [
    "string_time2 = \"July 04 1776\""
   ]
  },
  {
   "cell_type": "code",
   "execution_count": 29,
   "metadata": {},
   "outputs": [],
   "source": [
    "time3 = dt.datetime.strptime(string_time2, \"%B %d %Y\")"
   ]
  },
  {
   "cell_type": "code",
   "execution_count": 26,
   "metadata": {},
   "outputs": [
    {
     "data": {
      "text/plain": [
       "4"
      ]
     },
     "execution_count": 26,
     "metadata": {},
     "output_type": "execute_result"
    }
   ],
   "source": [
    "time3.day"
   ]
  },
  {
   "cell_type": "code",
   "execution_count": 30,
   "metadata": {},
   "outputs": [],
   "source": [
    "url = \"https://github.com/mwaugh0328/data_bootcamp_spring_2019/raw/master/time_series/VIXCLSD.csv\"\n"
   ]
  },
  {
   "cell_type": "code",
   "execution_count": 39,
   "metadata": {},
   "outputs": [],
   "source": [
    "vix_df = pd.read_csv(url, na_values = '.')"
   ]
  },
  {
   "cell_type": "code",
   "execution_count": 40,
   "metadata": {},
   "outputs": [
    {
     "data": {
      "text/html": [
       "<div>\n",
       "<style scoped>\n",
       "    .dataframe tbody tr th:only-of-type {\n",
       "        vertical-align: middle;\n",
       "    }\n",
       "\n",
       "    .dataframe tbody tr th {\n",
       "        vertical-align: top;\n",
       "    }\n",
       "\n",
       "    .dataframe thead th {\n",
       "        text-align: right;\n",
       "    }\n",
       "</style>\n",
       "<table border=\"1\" class=\"dataframe\">\n",
       "  <thead>\n",
       "    <tr style=\"text-align: right;\">\n",
       "      <th></th>\n",
       "      <th>DATE</th>\n",
       "      <th>VIXCLS</th>\n",
       "    </tr>\n",
       "  </thead>\n",
       "  <tbody>\n",
       "    <tr>\n",
       "      <th>0</th>\n",
       "      <td>1/2/1990</td>\n",
       "      <td>17.24</td>\n",
       "    </tr>\n",
       "    <tr>\n",
       "      <th>1</th>\n",
       "      <td>1/3/1990</td>\n",
       "      <td>18.19</td>\n",
       "    </tr>\n",
       "    <tr>\n",
       "      <th>2</th>\n",
       "      <td>1/4/1990</td>\n",
       "      <td>19.22</td>\n",
       "    </tr>\n",
       "    <tr>\n",
       "      <th>3</th>\n",
       "      <td>1/5/1990</td>\n",
       "      <td>20.11</td>\n",
       "    </tr>\n",
       "    <tr>\n",
       "      <th>4</th>\n",
       "      <td>1/8/1990</td>\n",
       "      <td>20.26</td>\n",
       "    </tr>\n",
       "  </tbody>\n",
       "</table>\n",
       "</div>"
      ],
      "text/plain": [
       "       DATE  VIXCLS\n",
       "0  1/2/1990   17.24\n",
       "1  1/3/1990   18.19\n",
       "2  1/4/1990   19.22\n",
       "3  1/5/1990   20.11\n",
       "4  1/8/1990   20.26"
      ]
     },
     "execution_count": 40,
     "metadata": {},
     "output_type": "execute_result"
    }
   ],
   "source": [
    "vix_df.head()"
   ]
  },
  {
   "cell_type": "code",
   "execution_count": 54,
   "metadata": {},
   "outputs": [],
   "source": [
    "vix_df[\"DATE2\"] = pd.to_datetime(vix_df[\"DATE\"], format = \"%m/%d/%Y\")"
   ]
  },
  {
   "cell_type": "code",
   "execution_count": 57,
   "metadata": {},
   "outputs": [
    {
     "data": {
      "text/plain": [
       "DATE              object\n",
       "VIXCLS           float64\n",
       "DATE1     datetime64[ns]\n",
       "DATE2     datetime64[ns]\n",
       "dtype: object"
      ]
     },
     "execution_count": 57,
     "metadata": {},
     "output_type": "execute_result"
    }
   ],
   "source": [
    "vix_df.dtypes\n"
   ]
  },
  {
   "cell_type": "code",
   "execution_count": 51,
   "metadata": {},
   "outputs": [],
   "source": [
    "pd.to_datetime?"
   ]
  },
  {
   "cell_type": "code",
   "execution_count": 58,
   "metadata": {},
   "outputs": [],
   "source": [
    "vix_df.set_index(\"DATE1\", inplace = True)"
   ]
  },
  {
   "cell_type": "code",
   "execution_count": 59,
   "metadata": {},
   "outputs": [
    {
     "data": {
      "text/plain": [
       "DatetimeIndex(['1990-01-02', '1990-01-03', '1990-01-04', '1990-01-05',\n",
       "               '1990-01-08', '1990-01-09', '1990-01-10', '1990-01-11',\n",
       "               '1990-01-12', '1990-01-15',\n",
       "               ...\n",
       "               '2018-09-20', '2018-09-21', '2018-09-24', '2018-09-25',\n",
       "               '2018-09-26', '2018-09-27', '2018-09-28', '2018-10-01',\n",
       "               '2018-10-02', '2018-10-03'],\n",
       "              dtype='datetime64[ns]', name='DATE1', length=7502, freq=None)"
      ]
     },
     "execution_count": 59,
     "metadata": {},
     "output_type": "execute_result"
    }
   ],
   "source": [
    "vix_df.index"
   ]
  },
  {
   "cell_type": "code",
   "execution_count": 65,
   "metadata": {},
   "outputs": [
    {
     "data": {
      "text/html": [
       "<div>\n",
       "<style scoped>\n",
       "    .dataframe tbody tr th:only-of-type {\n",
       "        vertical-align: middle;\n",
       "    }\n",
       "\n",
       "    .dataframe tbody tr th {\n",
       "        vertical-align: top;\n",
       "    }\n",
       "\n",
       "    .dataframe thead th {\n",
       "        text-align: right;\n",
       "    }\n",
       "</style>\n",
       "<table border=\"1\" class=\"dataframe\">\n",
       "  <thead>\n",
       "    <tr style=\"text-align: right;\">\n",
       "      <th></th>\n",
       "      <th>DATE</th>\n",
       "      <th>VIXCLS</th>\n",
       "      <th>DATE2</th>\n",
       "    </tr>\n",
       "    <tr>\n",
       "      <th>DATE1</th>\n",
       "      <th></th>\n",
       "      <th></th>\n",
       "      <th></th>\n",
       "    </tr>\n",
       "  </thead>\n",
       "  <tbody>\n",
       "    <tr>\n",
       "      <th>1996-07-01</th>\n",
       "      <td>7/1/1996</td>\n",
       "      <td>13.78</td>\n",
       "      <td>1996-07-01</td>\n",
       "    </tr>\n",
       "    <tr>\n",
       "      <th>1996-07-02</th>\n",
       "      <td>7/2/1996</td>\n",
       "      <td>14.19</td>\n",
       "      <td>1996-07-02</td>\n",
       "    </tr>\n",
       "    <tr>\n",
       "      <th>1996-07-03</th>\n",
       "      <td>7/3/1996</td>\n",
       "      <td>14.21</td>\n",
       "      <td>1996-07-03</td>\n",
       "    </tr>\n",
       "    <tr>\n",
       "      <th>1996-07-04</th>\n",
       "      <td>7/4/1996</td>\n",
       "      <td>NaN</td>\n",
       "      <td>1996-07-04</td>\n",
       "    </tr>\n",
       "    <tr>\n",
       "      <th>1996-07-05</th>\n",
       "      <td>7/5/1996</td>\n",
       "      <td>16.09</td>\n",
       "      <td>1996-07-05</td>\n",
       "    </tr>\n",
       "    <tr>\n",
       "      <th>1996-07-08</th>\n",
       "      <td>7/8/1996</td>\n",
       "      <td>16.42</td>\n",
       "      <td>1996-07-08</td>\n",
       "    </tr>\n",
       "    <tr>\n",
       "      <th>1996-07-09</th>\n",
       "      <td>7/9/1996</td>\n",
       "      <td>15.49</td>\n",
       "      <td>1996-07-09</td>\n",
       "    </tr>\n",
       "    <tr>\n",
       "      <th>1996-07-10</th>\n",
       "      <td>7/10/1996</td>\n",
       "      <td>15.51</td>\n",
       "      <td>1996-07-10</td>\n",
       "    </tr>\n",
       "    <tr>\n",
       "      <th>1996-07-11</th>\n",
       "      <td>7/11/1996</td>\n",
       "      <td>17.81</td>\n",
       "      <td>1996-07-11</td>\n",
       "    </tr>\n",
       "    <tr>\n",
       "      <th>1996-07-12</th>\n",
       "      <td>7/12/1996</td>\n",
       "      <td>17.09</td>\n",
       "      <td>1996-07-12</td>\n",
       "    </tr>\n",
       "    <tr>\n",
       "      <th>1996-07-15</th>\n",
       "      <td>7/15/1996</td>\n",
       "      <td>20.11</td>\n",
       "      <td>1996-07-15</td>\n",
       "    </tr>\n",
       "    <tr>\n",
       "      <th>1996-07-16</th>\n",
       "      <td>7/16/1996</td>\n",
       "      <td>20.10</td>\n",
       "      <td>1996-07-16</td>\n",
       "    </tr>\n",
       "    <tr>\n",
       "      <th>1996-07-17</th>\n",
       "      <td>7/17/1996</td>\n",
       "      <td>19.22</td>\n",
       "      <td>1996-07-17</td>\n",
       "    </tr>\n",
       "    <tr>\n",
       "      <th>1996-07-18</th>\n",
       "      <td>7/18/1996</td>\n",
       "      <td>17.93</td>\n",
       "      <td>1996-07-18</td>\n",
       "    </tr>\n",
       "    <tr>\n",
       "      <th>1996-07-19</th>\n",
       "      <td>7/19/1996</td>\n",
       "      <td>17.26</td>\n",
       "      <td>1996-07-19</td>\n",
       "    </tr>\n",
       "    <tr>\n",
       "      <th>1996-07-22</th>\n",
       "      <td>7/22/1996</td>\n",
       "      <td>20.41</td>\n",
       "      <td>1996-07-22</td>\n",
       "    </tr>\n",
       "    <tr>\n",
       "      <th>1996-07-23</th>\n",
       "      <td>7/23/1996</td>\n",
       "      <td>21.55</td>\n",
       "      <td>1996-07-23</td>\n",
       "    </tr>\n",
       "    <tr>\n",
       "      <th>1996-07-24</th>\n",
       "      <td>7/24/1996</td>\n",
       "      <td>21.44</td>\n",
       "      <td>1996-07-24</td>\n",
       "    </tr>\n",
       "    <tr>\n",
       "      <th>1996-07-25</th>\n",
       "      <td>7/25/1996</td>\n",
       "      <td>19.39</td>\n",
       "      <td>1996-07-25</td>\n",
       "    </tr>\n",
       "    <tr>\n",
       "      <th>1996-07-26</th>\n",
       "      <td>7/26/1996</td>\n",
       "      <td>17.45</td>\n",
       "      <td>1996-07-26</td>\n",
       "    </tr>\n",
       "    <tr>\n",
       "      <th>1996-07-29</th>\n",
       "      <td>7/29/1996</td>\n",
       "      <td>20.09</td>\n",
       "      <td>1996-07-29</td>\n",
       "    </tr>\n",
       "    <tr>\n",
       "      <th>1996-07-30</th>\n",
       "      <td>7/30/1996</td>\n",
       "      <td>20.53</td>\n",
       "      <td>1996-07-30</td>\n",
       "    </tr>\n",
       "    <tr>\n",
       "      <th>1996-07-31</th>\n",
       "      <td>7/31/1996</td>\n",
       "      <td>19.46</td>\n",
       "      <td>1996-07-31</td>\n",
       "    </tr>\n",
       "  </tbody>\n",
       "</table>\n",
       "</div>"
      ],
      "text/plain": [
       "                 DATE  VIXCLS      DATE2\n",
       "DATE1                                   \n",
       "1996-07-01   7/1/1996   13.78 1996-07-01\n",
       "1996-07-02   7/2/1996   14.19 1996-07-02\n",
       "1996-07-03   7/3/1996   14.21 1996-07-03\n",
       "1996-07-04   7/4/1996     NaN 1996-07-04\n",
       "1996-07-05   7/5/1996   16.09 1996-07-05\n",
       "1996-07-08   7/8/1996   16.42 1996-07-08\n",
       "1996-07-09   7/9/1996   15.49 1996-07-09\n",
       "1996-07-10  7/10/1996   15.51 1996-07-10\n",
       "1996-07-11  7/11/1996   17.81 1996-07-11\n",
       "1996-07-12  7/12/1996   17.09 1996-07-12\n",
       "1996-07-15  7/15/1996   20.11 1996-07-15\n",
       "1996-07-16  7/16/1996   20.10 1996-07-16\n",
       "1996-07-17  7/17/1996   19.22 1996-07-17\n",
       "1996-07-18  7/18/1996   17.93 1996-07-18\n",
       "1996-07-19  7/19/1996   17.26 1996-07-19\n",
       "1996-07-22  7/22/1996   20.41 1996-07-22\n",
       "1996-07-23  7/23/1996   21.55 1996-07-23\n",
       "1996-07-24  7/24/1996   21.44 1996-07-24\n",
       "1996-07-25  7/25/1996   19.39 1996-07-25\n",
       "1996-07-26  7/26/1996   17.45 1996-07-26\n",
       "1996-07-29  7/29/1996   20.09 1996-07-29\n",
       "1996-07-30  7/30/1996   20.53 1996-07-30\n",
       "1996-07-31  7/31/1996   19.46 1996-07-31"
      ]
     },
     "execution_count": 65,
     "metadata": {},
     "output_type": "execute_result"
    }
   ],
   "source": [
    "vix_df.loc[\"July 1996\"]"
   ]
  },
  {
   "cell_type": "code",
   "execution_count": 92,
   "metadata": {},
   "outputs": [
    {
     "data": {
      "image/png": "[encoded data removed]",
      "text/plain": [
       "<Figure size 432x288 with 1 Axes>"
      ]
     },
     "metadata": {
      "needs_background": "light"
     },
     "output_type": "display_data"
    }
   ],
   "source": [
    "fig, ax = plt.subplots()\n",
    "\n",
    "#ax.plot(vix_df.index, vix_df[\"VIXCLS\"])\n",
    "\n",
    "ax.plot(vix_m.loc[\"2008-01-01\":])\n",
    "\n",
    "ax.plot(vix_y.loc[\"2007-01-01\":])\n",
    "\n",
    "ax.vlines(dt.datetime(2008,9,15),5,75, linestyle = '--')\n",
    "\n",
    "plt.show()"
   ]
  },
  {
   "cell_type": "code",
   "execution_count": 101,
   "metadata": {},
   "outputs": [],
   "source": [
    "vix_y = vix_df[\"VIXCLS\"].resample(\"H\").pad()"
   ]
  },
  {
   "cell_type": "code",
   "execution_count": 104,
   "metadata": {},
   "outputs": [
    {
     "data": {
      "text/plain": [
       "DATE1\n",
       "1990-01-02 00:00:00    17.24\n",
       "1990-01-02 01:00:00    17.24\n",
       "1990-01-02 02:00:00    17.24\n",
       "1990-01-02 03:00:00    17.24\n",
       "1990-01-02 04:00:00    17.24\n",
       "1990-01-02 05:00:00    17.24\n",
       "1990-01-02 06:00:00    17.24\n",
       "1990-01-02 07:00:00    17.24\n",
       "1990-01-02 08:00:00    17.24\n",
       "1990-01-02 09:00:00    17.24\n",
       "1990-01-02 10:00:00    17.24\n",
       "1990-01-02 11:00:00    17.24\n",
       "1990-01-02 12:00:00    17.24\n",
       "1990-01-02 13:00:00    17.24\n",
       "1990-01-02 14:00:00    17.24\n",
       "1990-01-02 15:00:00    17.24\n",
       "1990-01-02 16:00:00    17.24\n",
       "1990-01-02 17:00:00    17.24\n",
       "1990-01-02 18:00:00    17.24\n",
       "1990-01-02 19:00:00    17.24\n",
       "1990-01-02 20:00:00    17.24\n",
       "1990-01-02 21:00:00    17.24\n",
       "1990-01-02 22:00:00    17.24\n",
       "1990-01-02 23:00:00    17.24\n",
       "1990-01-03 00:00:00    18.19\n",
       "1990-01-03 01:00:00    18.19\n",
       "Freq: H, Name: VIXCLS, dtype: float64"
      ]
     },
     "execution_count": 104,
     "metadata": {},
     "output_type": "execute_result"
    }
   ],
   "source": [
    "vix_y.head(26)"
   ]
  },
  {
   "cell_type": "code",
   "execution_count": null,
   "metadata": {},
   "outputs": [],
   "source": [
    "vix_m = vix_df[\"VIXCLS\"].resample(\"\").pad()"
   ]
  },
  {
   "cell_type": "code",
   "execution_count": 105,
   "metadata": {},
   "outputs": [],
   "source": [
    "vix_var = pd.DataFrame([])"
   ]
  },
  {
   "cell_type": "code",
   "execution_count": 106,
   "metadata": {},
   "outputs": [],
   "source": [
    "vix_var[\"AVG\"] = vix_df[\"VIXCLS\"].resample(\"m\").mean()"
   ]
  },
  {
   "cell_type": "code",
   "execution_count": 110,
   "metadata": {},
   "outputs": [],
   "source": [
    "vix_var[\"MIN\"] = vix_df[\"VIXCLS\"].resample(\"m\").min()"
   ]
  },
  {
   "cell_type": "code",
   "execution_count": 111,
   "metadata": {},
   "outputs": [],
   "source": [
    "vix_var[\"MAX\"] = vix_df[\"VIXCLS\"].resample(\"m\").max()"
   ]
  },
  {
   "cell_type": "code",
   "execution_count": 112,
   "metadata": {},
   "outputs": [
    {
     "data": {
      "text/html": [
       "<div>\n",
       "<style scoped>\n",
       "    .dataframe tbody tr th:only-of-type {\n",
       "        vertical-align: middle;\n",
       "    }\n",
       "\n",
       "    .dataframe tbody tr th {\n",
       "        vertical-align: top;\n",
       "    }\n",
       "\n",
       "    .dataframe thead th {\n",
       "        text-align: right;\n",
       "    }\n",
       "</style>\n",
       "<table border=\"1\" class=\"dataframe\">\n",
       "  <thead>\n",
       "    <tr style=\"text-align: right;\">\n",
       "      <th></th>\n",
       "      <th>AVG</th>\n",
       "      <th>MIN</th>\n",
       "      <th>MAX</th>\n",
       "    </tr>\n",
       "    <tr>\n",
       "      <th>DATE1</th>\n",
       "      <th></th>\n",
       "      <th></th>\n",
       "      <th></th>\n",
       "    </tr>\n",
       "  </thead>\n",
       "  <tbody>\n",
       "    <tr>\n",
       "      <th>1990-01-31</th>\n",
       "      <td>23.347273</td>\n",
       "      <td>17.24</td>\n",
       "      <td>27.25</td>\n",
       "    </tr>\n",
       "    <tr>\n",
       "      <th>1990-02-28</th>\n",
       "      <td>23.262632</td>\n",
       "      <td>19.71</td>\n",
       "      <td>24.87</td>\n",
       "    </tr>\n",
       "    <tr>\n",
       "      <th>1990-03-31</th>\n",
       "      <td>20.062273</td>\n",
       "      <td>17.62</td>\n",
       "      <td>22.74</td>\n",
       "    </tr>\n",
       "    <tr>\n",
       "      <th>1990-04-30</th>\n",
       "      <td>21.403500</td>\n",
       "      <td>17.73</td>\n",
       "      <td>24.16</td>\n",
       "    </tr>\n",
       "    <tr>\n",
       "      <th>1990-05-31</th>\n",
       "      <td>18.097727</td>\n",
       "      <td>16.72</td>\n",
       "      <td>20.14</td>\n",
       "    </tr>\n",
       "  </tbody>\n",
       "</table>\n",
       "</div>"
      ],
      "text/plain": [
       "                  AVG    MIN    MAX\n",
       "DATE1                              \n",
       "1990-01-31  23.347273  17.24  27.25\n",
       "1990-02-28  23.262632  19.71  24.87\n",
       "1990-03-31  20.062273  17.62  22.74\n",
       "1990-04-30  21.403500  17.73  24.16\n",
       "1990-05-31  18.097727  16.72  20.14"
      ]
     },
     "execution_count": 112,
     "metadata": {},
     "output_type": "execute_result"
    }
   ],
   "source": [
    "vix_var.head()"
   ]
  },
  {
   "cell_type": "code",
   "execution_count": 133,
   "metadata": {},
   "outputs": [
    {
     "data": {
      "text/plain": [
       "(736330.0, 736972.0)"
      ]
     },
     "execution_count": 133,
     "metadata": {},
     "output_type": "execute_result"
    },
    {
     "data": {
      "image/png": "[encoded data removed]",
      "text/plain": [
       "<Figure size 720x504 with 1 Axes>"
      ]
     },
     "metadata": {
      "needs_background": "light"
     },
     "output_type": "display_data"
    }
   ],
   "source": [
    "md = \"2010-06-01\"\n",
    "\n",
    "ed = \"2018-10-1\"\n",
    "\n",
    "fig,ax = plt.subplots(figsize = (10,7))\n",
    "\n",
    "ax.plot(vix_var[\"AVG\"].loc[md:ed].index, vix_var[\"AVG\"].loc[md:ed], color = 'k', linewidth = 4)\n",
    "\n",
    "ax.fill_between(vix_var[\"MIN\"].loc[md:ed].index, \n",
    "                vix_var[\"MIN\"].loc[md:ed], vix_var[\"MAX\"].loc[md:ed], alpha = 0.25)\n",
    "\n",
    "ax.set_xlim(dt.datetime(2017,1,1),dt.datetime(2018,10,5))"
   ]
  },
  {
   "cell_type": "code",
   "execution_count": 121,
   "metadata": {},
   "outputs": [
    {
     "ename": "AttributeError",
     "evalue": "'DatetimeIndex' object has no attribute 'loc'",
     "output_type": "error",
     "traceback": [
      "\u001b[1;31m---------------------------------------------------------------------------\u001b[0m",
      "\u001b[1;31mAttributeError\u001b[0m                            Traceback (most recent call last)",
      "\u001b[1;32m<ipython-input-121-ef64670d9fd0>\u001b[0m in \u001b[0;36m<module>\u001b[1;34m\u001b[0m\n\u001b[1;32m----> 1\u001b[1;33m \u001b[0mvix_var\u001b[0m\u001b[1;33m.\u001b[0m\u001b[0mindex\u001b[0m\u001b[1;33m.\u001b[0m\u001b[0mloc\u001b[0m\u001b[1;33m[\u001b[0m\u001b[0mmd\u001b[0m\u001b[1;33m:\u001b[0m\u001b[1;33m]\u001b[0m\u001b[1;33m\u001b[0m\u001b[1;33m\u001b[0m\u001b[0m\n\u001b[0m",
      "\u001b[1;31mAttributeError\u001b[0m: 'DatetimeIndex' object has no attribute 'loc'"
     ]
    }
   ],
   "source": [
    "vix_var.indexloc[md:]"
   ]
  },
  {
   "cell_type": "code",
   "execution_count": 122,
   "metadata": {},
   "outputs": [
    {
     "data": {
      "text/plain": [
       "DatetimeIndex(['2000-01-31', '2000-02-29', '2000-03-31', '2000-04-30',\n",
       "               '2000-05-31', '2000-06-30', '2000-07-31', '2000-08-31',\n",
       "               '2000-09-30', '2000-10-31',\n",
       "               ...\n",
       "               '2018-01-31', '2018-02-28', '2018-03-31', '2018-04-30',\n",
       "               '2018-05-31', '2018-06-30', '2018-07-31', '2018-08-31',\n",
       "               '2018-09-30', '2018-10-31'],\n",
       "              dtype='datetime64[ns]', name='DATE1', length=226, freq='M')"
      ]
     },
     "execution_count": 122,
     "metadata": {},
     "output_type": "execute_result"
    }
   ],
   "source": [
    "vix_var[\"MIN\"].loc[md:].index"
   ]
  },
  {
   "cell_type": "code",
   "execution_count": null,
   "metadata": {},
   "outputs": [],
   "source": [
    "def my_fun(df1, df2, brand):\n",
    "    \n",
    "    "
   ]
  }
 ],
 "metadata": {
  "kernelspec": {
   "display_name": "Python 3",
   "language": "python",
   "name": "python3"
  },
  "language_info": {
   "codemirror_mode": {
    "name": "ipython",
    "version": 3
   },
   "file_extension": ".py",
   "mimetype": "text/x-python",
   "name": "python",
   "nbconvert_exporter": "python",
   "pygments_lexer": "ipython3",
   "version": "3.7.1"
  }
 },
 "nbformat": 4,
 "nbformat_minor": 2
}
