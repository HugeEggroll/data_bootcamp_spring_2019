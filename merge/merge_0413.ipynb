{
 "cells": [
  {
   "cell_type": "code",
   "execution_count": 1,
   "metadata": {},
   "outputs": [],
   "source": [
    "import pandas as pd             # data package\n",
    "import matplotlib.pyplot as plt # graphics \n",
    "\n",
    "# these are new \n",
    "import requests, io             # internet and input tools  \n",
    "import zipfile as zf            # zip file tools \n",
    "import shutil                   # file management tools \n",
    "import os                       # operating system tools (check files)"
   ]
  },
  {
   "cell_type": "code",
   "execution_count": 8,
   "metadata": {},
   "outputs": [],
   "source": [
    "url = 'http://files.grouplens.org/datasets/movielens/ml-latest-small.zip'"
   ]
  },
  {
   "cell_type": "code",
   "execution_count": 9,
   "metadata": {},
   "outputs": [],
   "source": [
    "r = requests.get(url)"
   ]
  },
  {
   "cell_type": "code",
   "execution_count": 14,
   "metadata": {},
   "outputs": [
    {
     "data": {
      "text/plain": [
       "{'Date': 'Thu, 11 Apr 2019 18:21:54 GMT', 'Server': 'Apache/2.4.18 (Ubuntu)', 'Last-Modified': 'Wed, 26 Sep 2018 20:59:04 GMT', 'ETag': '\"eed1a-576cc7e19499e\"', 'Accept-Ranges': 'bytes', 'Content-Length': '978202', 'Keep-Alive': 'timeout=5, max=100', 'Connection': 'Keep-Alive', 'Content-Type': 'application/zip'}"
      ]
     },
     "execution_count": 14,
     "metadata": {},
     "output_type": "execute_result"
    }
   ],
   "source": [
    "r.headers"
   ]
  },
  {
   "cell_type": "code",
   "execution_count": 16,
   "metadata": {},
   "outputs": [
    {
     "data": {
      "text/plain": [
       "bytes"
      ]
     },
     "execution_count": 16,
     "metadata": {},
     "output_type": "execute_result"
    }
   ],
   "source": [
    "type(r.content)"
   ]
  },
  {
   "cell_type": "code",
   "execution_count": 20,
   "metadata": {},
   "outputs": [],
   "source": [
    "mlz = zf.ZipFile(io.BytesIO(r.content))"
   ]
  },
  {
   "cell_type": "code",
   "execution_count": 21,
   "metadata": {},
   "outputs": [
    {
     "data": {
      "text/plain": [
       "zipfile.ZipFile"
      ]
     },
     "execution_count": 21,
     "metadata": {},
     "output_type": "execute_result"
    }
   ],
   "source": [
    "type(mlz)"
   ]
  },
  {
   "cell_type": "code",
   "execution_count": 22,
   "metadata": {},
   "outputs": [
    {
     "data": {
      "text/plain": [
       "['ml-latest-small/',\n",
       " 'ml-latest-small/links.csv',\n",
       " 'ml-latest-small/tags.csv',\n",
       " 'ml-latest-small/ratings.csv',\n",
       " 'ml-latest-small/README.txt',\n",
       " 'ml-latest-small/movies.csv']"
      ]
     },
     "execution_count": 22,
     "metadata": {},
     "output_type": "execute_result"
    }
   ],
   "source": [
    "mlz.namelist()"
   ]
  },
  {
   "cell_type": "code",
   "execution_count": 23,
   "metadata": {},
   "outputs": [],
   "source": [
    "dfmovies = pd.read_csv(mlz.open(mlz.namelist()[5]))"
   ]
  },
  {
   "cell_type": "code",
   "execution_count": 28,
   "metadata": {},
   "outputs": [
    {
     "data": {
      "text/plain": [
       "Index(['movieId', 'title', 'genres'], dtype='object')"
      ]
     },
     "execution_count": 28,
     "metadata": {},
     "output_type": "execute_result"
    }
   ],
   "source": [
    "dfmovies.columns"
   ]
  },
  {
   "cell_type": "code",
   "execution_count": 29,
   "metadata": {},
   "outputs": [
    {
     "data": {
      "text/plain": [
       "(9742,)"
      ]
     },
     "execution_count": 29,
     "metadata": {},
     "output_type": "execute_result"
    }
   ],
   "source": [
    "dfmovies.movieId.unique().shape"
   ]
  },
  {
   "cell_type": "code",
   "execution_count": 30,
   "metadata": {},
   "outputs": [
    {
     "data": {
      "text/plain": [
       "(9742, 3)"
      ]
     },
     "execution_count": 30,
     "metadata": {},
     "output_type": "execute_result"
    }
   ],
   "source": [
    "dfmovies.shape"
   ]
  },
  {
   "cell_type": "code",
   "execution_count": 31,
   "metadata": {},
   "outputs": [],
   "source": [
    "dfratings = pd.read_csv(mlz.open(mlz.namelist()[3]))"
   ]
  },
  {
   "cell_type": "code",
   "execution_count": 33,
   "metadata": {},
   "outputs": [
    {
     "data": {
      "text/html": [
       "<div>\n",
       "<style scoped>\n",
       "    .dataframe tbody tr th:only-of-type {\n",
       "        vertical-align: middle;\n",
       "    }\n",
       "\n",
       "    .dataframe tbody tr th {\n",
       "        vertical-align: top;\n",
       "    }\n",
       "\n",
       "    .dataframe thead th {\n",
       "        text-align: right;\n",
       "    }\n",
       "</style>\n",
       "<table border=\"1\" class=\"dataframe\">\n",
       "  <thead>\n",
       "    <tr style=\"text-align: right;\">\n",
       "      <th></th>\n",
       "      <th>userId</th>\n",
       "      <th>movieId</th>\n",
       "      <th>rating</th>\n",
       "      <th>timestamp</th>\n",
       "    </tr>\n",
       "  </thead>\n",
       "  <tbody>\n",
       "    <tr>\n",
       "      <th>0</th>\n",
       "      <td>1</td>\n",
       "      <td>1</td>\n",
       "      <td>4.0</td>\n",
       "      <td>964982703</td>\n",
       "    </tr>\n",
       "    <tr>\n",
       "      <th>1</th>\n",
       "      <td>1</td>\n",
       "      <td>3</td>\n",
       "      <td>4.0</td>\n",
       "      <td>964981247</td>\n",
       "    </tr>\n",
       "    <tr>\n",
       "      <th>2</th>\n",
       "      <td>1</td>\n",
       "      <td>6</td>\n",
       "      <td>4.0</td>\n",
       "      <td>964982224</td>\n",
       "    </tr>\n",
       "    <tr>\n",
       "      <th>3</th>\n",
       "      <td>1</td>\n",
       "      <td>47</td>\n",
       "      <td>5.0</td>\n",
       "      <td>964983815</td>\n",
       "    </tr>\n",
       "    <tr>\n",
       "      <th>4</th>\n",
       "      <td>1</td>\n",
       "      <td>50</td>\n",
       "      <td>5.0</td>\n",
       "      <td>964982931</td>\n",
       "    </tr>\n",
       "    <tr>\n",
       "      <th>5</th>\n",
       "      <td>1</td>\n",
       "      <td>70</td>\n",
       "      <td>3.0</td>\n",
       "      <td>964982400</td>\n",
       "    </tr>\n",
       "    <tr>\n",
       "      <th>6</th>\n",
       "      <td>1</td>\n",
       "      <td>101</td>\n",
       "      <td>5.0</td>\n",
       "      <td>964980868</td>\n",
       "    </tr>\n",
       "    <tr>\n",
       "      <th>7</th>\n",
       "      <td>1</td>\n",
       "      <td>110</td>\n",
       "      <td>4.0</td>\n",
       "      <td>964982176</td>\n",
       "    </tr>\n",
       "    <tr>\n",
       "      <th>8</th>\n",
       "      <td>1</td>\n",
       "      <td>151</td>\n",
       "      <td>5.0</td>\n",
       "      <td>964984041</td>\n",
       "    </tr>\n",
       "    <tr>\n",
       "      <th>9</th>\n",
       "      <td>1</td>\n",
       "      <td>157</td>\n",
       "      <td>5.0</td>\n",
       "      <td>964984100</td>\n",
       "    </tr>\n",
       "    <tr>\n",
       "      <th>10</th>\n",
       "      <td>1</td>\n",
       "      <td>163</td>\n",
       "      <td>5.0</td>\n",
       "      <td>964983650</td>\n",
       "    </tr>\n",
       "    <tr>\n",
       "      <th>11</th>\n",
       "      <td>1</td>\n",
       "      <td>216</td>\n",
       "      <td>5.0</td>\n",
       "      <td>964981208</td>\n",
       "    </tr>\n",
       "    <tr>\n",
       "      <th>12</th>\n",
       "      <td>1</td>\n",
       "      <td>223</td>\n",
       "      <td>3.0</td>\n",
       "      <td>964980985</td>\n",
       "    </tr>\n",
       "    <tr>\n",
       "      <th>13</th>\n",
       "      <td>1</td>\n",
       "      <td>231</td>\n",
       "      <td>5.0</td>\n",
       "      <td>964981179</td>\n",
       "    </tr>\n",
       "    <tr>\n",
       "      <th>14</th>\n",
       "      <td>1</td>\n",
       "      <td>235</td>\n",
       "      <td>4.0</td>\n",
       "      <td>964980908</td>\n",
       "    </tr>\n",
       "  </tbody>\n",
       "</table>\n",
       "</div>"
      ],
      "text/plain": [
       "    userId  movieId  rating  timestamp\n",
       "0        1        1     4.0  964982703\n",
       "1        1        3     4.0  964981247\n",
       "2        1        6     4.0  964982224\n",
       "3        1       47     5.0  964983815\n",
       "4        1       50     5.0  964982931\n",
       "5        1       70     3.0  964982400\n",
       "6        1      101     5.0  964980868\n",
       "7        1      110     4.0  964982176\n",
       "8        1      151     5.0  964984041\n",
       "9        1      157     5.0  964984100\n",
       "10       1      163     5.0  964983650\n",
       "11       1      216     5.0  964981208\n",
       "12       1      223     3.0  964980985\n",
       "13       1      231     5.0  964981179\n",
       "14       1      235     4.0  964980908"
      ]
     },
     "execution_count": 33,
     "metadata": {},
     "output_type": "execute_result"
    }
   ],
   "source": [
    "dfratings.head(15)"
   ]
  },
  {
   "cell_type": "code",
   "execution_count": 36,
   "metadata": {},
   "outputs": [
    {
     "data": {
      "text/plain": [
       "(100836, 4)"
      ]
     },
     "execution_count": 36,
     "metadata": {},
     "output_type": "execute_result"
    }
   ],
   "source": [
    "dfratings.shape"
   ]
  },
  {
   "cell_type": "code",
   "execution_count": 37,
   "metadata": {},
   "outputs": [
    {
     "data": {
      "text/plain": [
       "(9724,)"
      ]
     },
     "execution_count": 37,
     "metadata": {},
     "output_type": "execute_result"
    }
   ],
   "source": [
    "dfratings.movieId.unique().shape"
   ]
  },
  {
   "cell_type": "code",
   "execution_count": 51,
   "metadata": {},
   "outputs": [],
   "source": [
    "combo = pd.merge(dfmovies, dfratings, on = \"movieId\",\n",
    "                how = \"inner\", indicator = True)"
   ]
  },
  {
   "cell_type": "code",
   "execution_count": 52,
   "metadata": {},
   "outputs": [
    {
     "data": {
      "text/plain": [
       "(0, 7)"
      ]
     },
     "execution_count": 52,
     "metadata": {},
     "output_type": "execute_result"
    }
   ],
   "source": [
    "combo[~(combo[\"_merge\"] == \"both\")].shape"
   ]
  },
  {
   "cell_type": "code",
   "execution_count": 53,
   "metadata": {},
   "outputs": [
    {
     "data": {
      "text/plain": [
       "(100836, 7)"
      ]
     },
     "execution_count": 53,
     "metadata": {},
     "output_type": "execute_result"
    }
   ],
   "source": [
    "combo.shape"
   ]
  },
  {
   "cell_type": "code",
   "execution_count": 54,
   "metadata": {},
   "outputs": [
    {
     "data": {
      "text/html": [
       "<div>\n",
       "<style scoped>\n",
       "    .dataframe tbody tr th:only-of-type {\n",
       "        vertical-align: middle;\n",
       "    }\n",
       "\n",
       "    .dataframe tbody tr th {\n",
       "        vertical-align: top;\n",
       "    }\n",
       "\n",
       "    .dataframe thead th {\n",
       "        text-align: right;\n",
       "    }\n",
       "</style>\n",
       "<table border=\"1\" class=\"dataframe\">\n",
       "  <thead>\n",
       "    <tr style=\"text-align: right;\">\n",
       "      <th></th>\n",
       "      <th>movieId</th>\n",
       "      <th>title</th>\n",
       "      <th>genres</th>\n",
       "      <th>userId</th>\n",
       "      <th>rating</th>\n",
       "      <th>timestamp</th>\n",
       "      <th>_merge</th>\n",
       "    </tr>\n",
       "  </thead>\n",
       "  <tbody>\n",
       "    <tr>\n",
       "      <th>0</th>\n",
       "      <td>1</td>\n",
       "      <td>Toy Story (1995)</td>\n",
       "      <td>Adventure|Animation|Children|Comedy|Fantasy</td>\n",
       "      <td>1</td>\n",
       "      <td>4.0</td>\n",
       "      <td>964982703</td>\n",
       "      <td>both</td>\n",
       "    </tr>\n",
       "    <tr>\n",
       "      <th>1</th>\n",
       "      <td>1</td>\n",
       "      <td>Toy Story (1995)</td>\n",
       "      <td>Adventure|Animation|Children|Comedy|Fantasy</td>\n",
       "      <td>5</td>\n",
       "      <td>4.0</td>\n",
       "      <td>847434962</td>\n",
       "      <td>both</td>\n",
       "    </tr>\n",
       "    <tr>\n",
       "      <th>2</th>\n",
       "      <td>1</td>\n",
       "      <td>Toy Story (1995)</td>\n",
       "      <td>Adventure|Animation|Children|Comedy|Fantasy</td>\n",
       "      <td>7</td>\n",
       "      <td>4.5</td>\n",
       "      <td>1106635946</td>\n",
       "      <td>both</td>\n",
       "    </tr>\n",
       "    <tr>\n",
       "      <th>3</th>\n",
       "      <td>1</td>\n",
       "      <td>Toy Story (1995)</td>\n",
       "      <td>Adventure|Animation|Children|Comedy|Fantasy</td>\n",
       "      <td>15</td>\n",
       "      <td>2.5</td>\n",
       "      <td>1510577970</td>\n",
       "      <td>both</td>\n",
       "    </tr>\n",
       "    <tr>\n",
       "      <th>4</th>\n",
       "      <td>1</td>\n",
       "      <td>Toy Story (1995)</td>\n",
       "      <td>Adventure|Animation|Children|Comedy|Fantasy</td>\n",
       "      <td>17</td>\n",
       "      <td>4.5</td>\n",
       "      <td>1305696483</td>\n",
       "      <td>both</td>\n",
       "    </tr>\n",
       "  </tbody>\n",
       "</table>\n",
       "</div>"
      ],
      "text/plain": [
       "   movieId             title                                       genres  \\\n",
       "0        1  Toy Story (1995)  Adventure|Animation|Children|Comedy|Fantasy   \n",
       "1        1  Toy Story (1995)  Adventure|Animation|Children|Comedy|Fantasy   \n",
       "2        1  Toy Story (1995)  Adventure|Animation|Children|Comedy|Fantasy   \n",
       "3        1  Toy Story (1995)  Adventure|Animation|Children|Comedy|Fantasy   \n",
       "4        1  Toy Story (1995)  Adventure|Animation|Children|Comedy|Fantasy   \n",
       "\n",
       "   userId  rating   timestamp _merge  \n",
       "0       1     4.0   964982703   both  \n",
       "1       5     4.0   847434962   both  \n",
       "2       7     4.5  1106635946   both  \n",
       "3      15     2.5  1510577970   both  \n",
       "4      17     4.5  1305696483   both  "
      ]
     },
     "execution_count": 54,
     "metadata": {},
     "output_type": "execute_result"
    }
   ],
   "source": [
    "combo.head()"
   ]
  },
  {
   "cell_type": "code",
   "execution_count": 55,
   "metadata": {},
   "outputs": [
    {
     "data": {
      "text/plain": [
       "3.501556983616962"
      ]
     },
     "execution_count": 55,
     "metadata": {},
     "output_type": "execute_result"
    }
   ],
   "source": [
    "combo.rating.mean()"
   ]
  },
  {
   "cell_type": "code",
   "execution_count": 56,
   "metadata": {},
   "outputs": [
    {
     "data": {
      "text/plain": [
       "count    100836.000000\n",
       "mean          3.501557\n",
       "std           1.042529\n",
       "min           0.500000\n",
       "25%           3.000000\n",
       "50%           3.500000\n",
       "75%           4.000000\n",
       "max           5.000000\n",
       "Name: rating, dtype: float64"
      ]
     },
     "execution_count": 56,
     "metadata": {},
     "output_type": "execute_result"
    }
   ],
   "source": [
    "combo.rating.describe()"
   ]
  },
  {
   "cell_type": "code",
   "execution_count": 59,
   "metadata": {},
   "outputs": [
    {
     "data": {
      "text/html": [
       "<div>\n",
       "<style scoped>\n",
       "    .dataframe tbody tr th:only-of-type {\n",
       "        vertical-align: middle;\n",
       "    }\n",
       "\n",
       "    .dataframe tbody tr th {\n",
       "        vertical-align: top;\n",
       "    }\n",
       "\n",
       "    .dataframe thead th {\n",
       "        text-align: right;\n",
       "    }\n",
       "</style>\n",
       "<table border=\"1\" class=\"dataframe\">\n",
       "  <thead>\n",
       "    <tr style=\"text-align: right;\">\n",
       "      <th></th>\n",
       "      <th>movieId</th>\n",
       "      <th>title</th>\n",
       "      <th>genres</th>\n",
       "      <th>userId</th>\n",
       "      <th>rating</th>\n",
       "      <th>timestamp</th>\n",
       "      <th>_merge</th>\n",
       "    </tr>\n",
       "  </thead>\n",
       "  <tbody>\n",
       "    <tr>\n",
       "      <th>100590</th>\n",
       "      <td>176371</td>\n",
       "      <td>Blade Runner 2049 (2017)</td>\n",
       "      <td>Sci-Fi</td>\n",
       "      <td>567</td>\n",
       "      <td>5.0</td>\n",
       "      <td>1525282063</td>\n",
       "      <td>both</td>\n",
       "    </tr>\n",
       "    <tr>\n",
       "      <th>100601</th>\n",
       "      <td>176601</td>\n",
       "      <td>Black Mirror</td>\n",
       "      <td>(no genres listed)</td>\n",
       "      <td>62</td>\n",
       "      <td>5.0</td>\n",
       "      <td>1525795252</td>\n",
       "      <td>both</td>\n",
       "    </tr>\n",
       "    <tr>\n",
       "      <th>100603</th>\n",
       "      <td>176751</td>\n",
       "      <td>American Made (2017)</td>\n",
       "      <td>Crime|Thriller</td>\n",
       "      <td>339</td>\n",
       "      <td>5.0</td>\n",
       "      <td>1506987433</td>\n",
       "      <td>both</td>\n",
       "    </tr>\n",
       "    <tr>\n",
       "      <th>100610</th>\n",
       "      <td>177593</td>\n",
       "      <td>Three Billboards Outside Ebbing, Missouri (2017)</td>\n",
       "      <td>Crime|Drama</td>\n",
       "      <td>25</td>\n",
       "      <td>5.0</td>\n",
       "      <td>1535470532</td>\n",
       "      <td>both</td>\n",
       "    </tr>\n",
       "    <tr>\n",
       "      <th>100612</th>\n",
       "      <td>177593</td>\n",
       "      <td>Three Billboards Outside Ebbing, Missouri (2017)</td>\n",
       "      <td>Crime|Drama</td>\n",
       "      <td>212</td>\n",
       "      <td>5.0</td>\n",
       "      <td>1527794935</td>\n",
       "      <td>both</td>\n",
       "    </tr>\n",
       "    <tr>\n",
       "      <th>100613</th>\n",
       "      <td>177593</td>\n",
       "      <td>Three Billboards Outside Ebbing, Missouri (2017)</td>\n",
       "      <td>Crime|Drama</td>\n",
       "      <td>233</td>\n",
       "      <td>5.0</td>\n",
       "      <td>1524781384</td>\n",
       "      <td>both</td>\n",
       "    </tr>\n",
       "    <tr>\n",
       "      <th>100615</th>\n",
       "      <td>177593</td>\n",
       "      <td>Three Billboards Outside Ebbing, Missouri (2017)</td>\n",
       "      <td>Crime|Drama</td>\n",
       "      <td>338</td>\n",
       "      <td>5.0</td>\n",
       "      <td>1530148460</td>\n",
       "      <td>both</td>\n",
       "    </tr>\n",
       "    <tr>\n",
       "      <th>100624</th>\n",
       "      <td>177765</td>\n",
       "      <td>Coco (2017)</td>\n",
       "      <td>Adventure|Animation|Children</td>\n",
       "      <td>98</td>\n",
       "      <td>5.0</td>\n",
       "      <td>1532457474</td>\n",
       "      <td>both</td>\n",
       "    </tr>\n",
       "    <tr>\n",
       "      <th>100626</th>\n",
       "      <td>177765</td>\n",
       "      <td>Coco (2017)</td>\n",
       "      <td>Adventure|Animation|Children</td>\n",
       "      <td>210</td>\n",
       "      <td>5.0</td>\n",
       "      <td>1537632257</td>\n",
       "      <td>both</td>\n",
       "    </tr>\n",
       "    <tr>\n",
       "      <th>100628</th>\n",
       "      <td>177765</td>\n",
       "      <td>Coco (2017)</td>\n",
       "      <td>Adventure|Animation|Children</td>\n",
       "      <td>272</td>\n",
       "      <td>5.0</td>\n",
       "      <td>1533490600</td>\n",
       "      <td>both</td>\n",
       "    </tr>\n",
       "    <tr>\n",
       "      <th>100632</th>\n",
       "      <td>177765</td>\n",
       "      <td>Coco (2017)</td>\n",
       "      <td>Adventure|Animation|Children</td>\n",
       "      <td>459</td>\n",
       "      <td>5.0</td>\n",
       "      <td>1520232994</td>\n",
       "      <td>both</td>\n",
       "    </tr>\n",
       "    <tr>\n",
       "      <th>100645</th>\n",
       "      <td>178827</td>\n",
       "      <td>Paddington 2 (2017)</td>\n",
       "      <td>Adventure|Animation|Children|Comedy</td>\n",
       "      <td>184</td>\n",
       "      <td>5.0</td>\n",
       "      <td>1537109847</td>\n",
       "      <td>both</td>\n",
       "    </tr>\n",
       "    <tr>\n",
       "      <th>100650</th>\n",
       "      <td>179133</td>\n",
       "      <td>Loving Vincent (2017)</td>\n",
       "      <td>Animation|Crime|Drama</td>\n",
       "      <td>105</td>\n",
       "      <td>5.0</td>\n",
       "      <td>1526207351</td>\n",
       "      <td>both</td>\n",
       "    </tr>\n",
       "    <tr>\n",
       "      <th>100651</th>\n",
       "      <td>179135</td>\n",
       "      <td>Blue Planet II (2017)</td>\n",
       "      <td>Documentary</td>\n",
       "      <td>318</td>\n",
       "      <td>5.0</td>\n",
       "      <td>1533931830</td>\n",
       "      <td>both</td>\n",
       "    </tr>\n",
       "    <tr>\n",
       "      <th>100680</th>\n",
       "      <td>179819</td>\n",
       "      <td>Star Wars: The Last Jedi (2017)</td>\n",
       "      <td>Action|Adventure|Fantasy|Sci-Fi</td>\n",
       "      <td>586</td>\n",
       "      <td>5.0</td>\n",
       "      <td>1529899531</td>\n",
       "      <td>both</td>\n",
       "    </tr>\n",
       "    <tr>\n",
       "      <th>100693</th>\n",
       "      <td>180095</td>\n",
       "      <td>Wonder (2017)</td>\n",
       "      <td>Drama</td>\n",
       "      <td>25</td>\n",
       "      <td>5.0</td>\n",
       "      <td>1535470476</td>\n",
       "      <td>both</td>\n",
       "    </tr>\n",
       "    <tr>\n",
       "      <th>100740</th>\n",
       "      <td>183897</td>\n",
       "      <td>Isle of Dogs (2018)</td>\n",
       "      <td>Animation|Comedy</td>\n",
       "      <td>212</td>\n",
       "      <td>5.0</td>\n",
       "      <td>1532361617</td>\n",
       "      <td>both</td>\n",
       "    </tr>\n",
       "    <tr>\n",
       "      <th>100750</th>\n",
       "      <td>184245</td>\n",
       "      <td>De platte jungle (1978)</td>\n",
       "      <td>Documentary</td>\n",
       "      <td>318</td>\n",
       "      <td>5.0</td>\n",
       "      <td>1517774414</td>\n",
       "      <td>both</td>\n",
       "    </tr>\n",
       "    <tr>\n",
       "      <th>100773</th>\n",
       "      <td>185135</td>\n",
       "      <td>Sherlock - A Study in Pink (2010)</td>\n",
       "      <td>Crime</td>\n",
       "      <td>62</td>\n",
       "      <td>5.0</td>\n",
       "      <td>1525795293</td>\n",
       "      <td>both</td>\n",
       "    </tr>\n",
       "    <tr>\n",
       "      <th>100785</th>\n",
       "      <td>187593</td>\n",
       "      <td>Deadpool 2 (2018)</td>\n",
       "      <td>Action|Comedy|Sci-Fi</td>\n",
       "      <td>25</td>\n",
       "      <td>5.0</td>\n",
       "      <td>1535470534</td>\n",
       "      <td>both</td>\n",
       "    </tr>\n",
       "    <tr>\n",
       "      <th>100787</th>\n",
       "      <td>187593</td>\n",
       "      <td>Deadpool 2 (2018)</td>\n",
       "      <td>Action|Comedy|Sci-Fi</td>\n",
       "      <td>98</td>\n",
       "      <td>5.0</td>\n",
       "      <td>1532457913</td>\n",
       "      <td>both</td>\n",
       "    </tr>\n",
       "    <tr>\n",
       "      <th>100790</th>\n",
       "      <td>187593</td>\n",
       "      <td>Deadpool 2 (2018)</td>\n",
       "      <td>Action|Comedy|Sci-Fi</td>\n",
       "      <td>249</td>\n",
       "      <td>5.0</td>\n",
       "      <td>1531611534</td>\n",
       "      <td>both</td>\n",
       "    </tr>\n",
       "    <tr>\n",
       "      <th>100791</th>\n",
       "      <td>187593</td>\n",
       "      <td>Deadpool 2 (2018)</td>\n",
       "      <td>Action|Comedy|Sci-Fi</td>\n",
       "      <td>305</td>\n",
       "      <td>5.0</td>\n",
       "      <td>1532877841</td>\n",
       "      <td>both</td>\n",
       "    </tr>\n",
       "    <tr>\n",
       "      <th>100801</th>\n",
       "      <td>187595</td>\n",
       "      <td>Solo: A Star Wars Story (2018)</td>\n",
       "      <td>Action|Adventure|Children|Sci-Fi</td>\n",
       "      <td>586</td>\n",
       "      <td>5.0</td>\n",
       "      <td>1529899556</td>\n",
       "      <td>both</td>\n",
       "    </tr>\n",
       "    <tr>\n",
       "      <th>100802</th>\n",
       "      <td>187717</td>\n",
       "      <td>Won't You Be My Neighbor? (2018)</td>\n",
       "      <td>Documentary</td>\n",
       "      <td>462</td>\n",
       "      <td>5.0</td>\n",
       "      <td>1529413865</td>\n",
       "      <td>both</td>\n",
       "    </tr>\n",
       "  </tbody>\n",
       "</table>\n",
       "</div>"
      ],
      "text/plain": [
       "        movieId                                             title  \\\n",
       "100590   176371                          Blade Runner 2049 (2017)   \n",
       "100601   176601                                      Black Mirror   \n",
       "100603   176751                              American Made (2017)   \n",
       "100610   177593  Three Billboards Outside Ebbing, Missouri (2017)   \n",
       "100612   177593  Three Billboards Outside Ebbing, Missouri (2017)   \n",
       "100613   177593  Three Billboards Outside Ebbing, Missouri (2017)   \n",
       "100615   177593  Three Billboards Outside Ebbing, Missouri (2017)   \n",
       "100624   177765                                       Coco (2017)   \n",
       "100626   177765                                       Coco (2017)   \n",
       "100628   177765                                       Coco (2017)   \n",
       "100632   177765                                       Coco (2017)   \n",
       "100645   178827                               Paddington 2 (2017)   \n",
       "100650   179133                             Loving Vincent (2017)   \n",
       "100651   179135                             Blue Planet II (2017)   \n",
       "100680   179819                   Star Wars: The Last Jedi (2017)   \n",
       "100693   180095                                     Wonder (2017)   \n",
       "100740   183897                               Isle of Dogs (2018)   \n",
       "100750   184245                           De platte jungle (1978)   \n",
       "100773   185135                 Sherlock - A Study in Pink (2010)   \n",
       "100785   187593                                 Deadpool 2 (2018)   \n",
       "100787   187593                                 Deadpool 2 (2018)   \n",
       "100790   187593                                 Deadpool 2 (2018)   \n",
       "100791   187593                                 Deadpool 2 (2018)   \n",
       "100801   187595                    Solo: A Star Wars Story (2018)   \n",
       "100802   187717                  Won't You Be My Neighbor? (2018)   \n",
       "\n",
       "                                     genres  userId  rating   timestamp _merge  \n",
       "100590                               Sci-Fi     567     5.0  1525282063   both  \n",
       "100601                   (no genres listed)      62     5.0  1525795252   both  \n",
       "100603                       Crime|Thriller     339     5.0  1506987433   both  \n",
       "100610                          Crime|Drama      25     5.0  1535470532   both  \n",
       "100612                          Crime|Drama     212     5.0  1527794935   both  \n",
       "100613                          Crime|Drama     233     5.0  1524781384   both  \n",
       "100615                          Crime|Drama     338     5.0  1530148460   both  \n",
       "100624         Adventure|Animation|Children      98     5.0  1532457474   both  \n",
       "100626         Adventure|Animation|Children     210     5.0  1537632257   both  \n",
       "100628         Adventure|Animation|Children     272     5.0  1533490600   both  \n",
       "100632         Adventure|Animation|Children     459     5.0  1520232994   both  \n",
       "100645  Adventure|Animation|Children|Comedy     184     5.0  1537109847   both  \n",
       "100650                Animation|Crime|Drama     105     5.0  1526207351   both  \n",
       "100651                          Documentary     318     5.0  1533931830   both  \n",
       "100680      Action|Adventure|Fantasy|Sci-Fi     586     5.0  1529899531   both  \n",
       "100693                                Drama      25     5.0  1535470476   both  \n",
       "100740                     Animation|Comedy     212     5.0  1532361617   both  \n",
       "100750                          Documentary     318     5.0  1517774414   both  \n",
       "100773                                Crime      62     5.0  1525795293   both  \n",
       "100785                 Action|Comedy|Sci-Fi      25     5.0  1535470534   both  \n",
       "100787                 Action|Comedy|Sci-Fi      98     5.0  1532457913   both  \n",
       "100790                 Action|Comedy|Sci-Fi     249     5.0  1531611534   both  \n",
       "100791                 Action|Comedy|Sci-Fi     305     5.0  1532877841   both  \n",
       "100801     Action|Adventure|Children|Sci-Fi     586     5.0  1529899556   both  \n",
       "100802                          Documentary     462     5.0  1529413865   both  "
      ]
     },
     "execution_count": 59,
     "metadata": {},
     "output_type": "execute_result"
    }
   ],
   "source": [
    "combo[combo.rating == 5.0].tail(25)"
   ]
  },
  {
   "cell_type": "code",
   "execution_count": 66,
   "metadata": {},
   "outputs": [],
   "source": [
    "grp = combo.groupby([\"title\"])"
   ]
  },
  {
   "cell_type": "code",
   "execution_count": 67,
   "metadata": {},
   "outputs": [],
   "source": [
    "grp_ratings = grp.rating.agg([\"count\", \"mean\"])"
   ]
  },
  {
   "cell_type": "code",
   "execution_count": 75,
   "metadata": {},
   "outputs": [
    {
     "data": {
      "text/html": [
       "<div>\n",
       "<style scoped>\n",
       "    .dataframe tbody tr th:only-of-type {\n",
       "        vertical-align: middle;\n",
       "    }\n",
       "\n",
       "    .dataframe tbody tr th {\n",
       "        vertical-align: top;\n",
       "    }\n",
       "\n",
       "    .dataframe thead th {\n",
       "        text-align: right;\n",
       "    }\n",
       "</style>\n",
       "<table border=\"1\" class=\"dataframe\">\n",
       "  <thead>\n",
       "    <tr style=\"text-align: right;\">\n",
       "      <th></th>\n",
       "      <th>count</th>\n",
       "      <th>mean</th>\n",
       "    </tr>\n",
       "    <tr>\n",
       "      <th>title</th>\n",
       "      <th></th>\n",
       "      <th></th>\n",
       "    </tr>\n",
       "  </thead>\n",
       "  <tbody>\n",
       "    <tr>\n",
       "      <th>Forrest Gump (1994)</th>\n",
       "      <td>329</td>\n",
       "      <td>4.164134</td>\n",
       "    </tr>\n",
       "    <tr>\n",
       "      <th>Shawshank Redemption, The (1994)</th>\n",
       "      <td>317</td>\n",
       "      <td>4.429022</td>\n",
       "    </tr>\n",
       "    <tr>\n",
       "      <th>Pulp Fiction (1994)</th>\n",
       "      <td>307</td>\n",
       "      <td>4.197068</td>\n",
       "    </tr>\n",
       "    <tr>\n",
       "      <th>Silence of the Lambs, The (1991)</th>\n",
       "      <td>279</td>\n",
       "      <td>4.161290</td>\n",
       "    </tr>\n",
       "    <tr>\n",
       "      <th>Matrix, The (1999)</th>\n",
       "      <td>278</td>\n",
       "      <td>4.192446</td>\n",
       "    </tr>\n",
       "    <tr>\n",
       "      <th>Star Wars: Episode IV - A New Hope (1977)</th>\n",
       "      <td>251</td>\n",
       "      <td>4.231076</td>\n",
       "    </tr>\n",
       "    <tr>\n",
       "      <th>Jurassic Park (1993)</th>\n",
       "      <td>238</td>\n",
       "      <td>3.750000</td>\n",
       "    </tr>\n",
       "    <tr>\n",
       "      <th>Braveheart (1995)</th>\n",
       "      <td>237</td>\n",
       "      <td>4.031646</td>\n",
       "    </tr>\n",
       "    <tr>\n",
       "      <th>Terminator 2: Judgment Day (1991)</th>\n",
       "      <td>224</td>\n",
       "      <td>3.970982</td>\n",
       "    </tr>\n",
       "    <tr>\n",
       "      <th>Schindler's List (1993)</th>\n",
       "      <td>220</td>\n",
       "      <td>4.225000</td>\n",
       "    </tr>\n",
       "    <tr>\n",
       "      <th>Fight Club (1999)</th>\n",
       "      <td>218</td>\n",
       "      <td>4.272936</td>\n",
       "    </tr>\n",
       "    <tr>\n",
       "      <th>Toy Story (1995)</th>\n",
       "      <td>215</td>\n",
       "      <td>3.920930</td>\n",
       "    </tr>\n",
       "    <tr>\n",
       "      <th>Star Wars: Episode V - The Empire Strikes Back (1980)</th>\n",
       "      <td>211</td>\n",
       "      <td>4.215640</td>\n",
       "    </tr>\n",
       "    <tr>\n",
       "      <th>Usual Suspects, The (1995)</th>\n",
       "      <td>204</td>\n",
       "      <td>4.237745</td>\n",
       "    </tr>\n",
       "    <tr>\n",
       "      <th>American Beauty (1999)</th>\n",
       "      <td>204</td>\n",
       "      <td>4.056373</td>\n",
       "    </tr>\n",
       "    <tr>\n",
       "      <th>Seven (a.k.a. Se7en) (1995)</th>\n",
       "      <td>203</td>\n",
       "      <td>3.975369</td>\n",
       "    </tr>\n",
       "    <tr>\n",
       "      <th>Independence Day (a.k.a. ID4) (1996)</th>\n",
       "      <td>202</td>\n",
       "      <td>3.445545</td>\n",
       "    </tr>\n",
       "    <tr>\n",
       "      <th>Apollo 13 (1995)</th>\n",
       "      <td>201</td>\n",
       "      <td>3.845771</td>\n",
       "    </tr>\n",
       "    <tr>\n",
       "      <th>Raiders of the Lost Ark (Indiana Jones and the Raiders of the Lost Ark) (1981)</th>\n",
       "      <td>200</td>\n",
       "      <td>4.207500</td>\n",
       "    </tr>\n",
       "    <tr>\n",
       "      <th>Lord of the Rings: The Fellowship of the Ring, The (2001)</th>\n",
       "      <td>198</td>\n",
       "      <td>4.106061</td>\n",
       "    </tr>\n",
       "  </tbody>\n",
       "</table>\n",
       "</div>"
      ],
      "text/plain": [
       "                                                    count      mean\n",
       "title                                                              \n",
       "Forrest Gump (1994)                                   329  4.164134\n",
       "Shawshank Redemption, The (1994)                      317  4.429022\n",
       "Pulp Fiction (1994)                                   307  4.197068\n",
       "Silence of the Lambs, The (1991)                      279  4.161290\n",
       "Matrix, The (1999)                                    278  4.192446\n",
       "Star Wars: Episode IV - A New Hope (1977)             251  4.231076\n",
       "Jurassic Park (1993)                                  238  3.750000\n",
       "Braveheart (1995)                                     237  4.031646\n",
       "Terminator 2: Judgment Day (1991)                     224  3.970982\n",
       "Schindler's List (1993)                               220  4.225000\n",
       "Fight Club (1999)                                     218  4.272936\n",
       "Toy Story (1995)                                      215  3.920930\n",
       "Star Wars: Episode V - The Empire Strikes Back ...    211  4.215640\n",
       "Usual Suspects, The (1995)                            204  4.237745\n",
       "American Beauty (1999)                                204  4.056373\n",
       "Seven (a.k.a. Se7en) (1995)                           203  3.975369\n",
       "Independence Day (a.k.a. ID4) (1996)                  202  3.445545\n",
       "Apollo 13 (1995)                                      201  3.845771\n",
       "Raiders of the Lost Ark (Indiana Jones and the ...    200  4.207500\n",
       "Lord of the Rings: The Fellowship of the Ring, ...    198  4.106061"
      ]
     },
     "execution_count": 75,
     "metadata": {},
     "output_type": "execute_result"
    }
   ],
   "source": [
    "grp_ratings.sort_values([\"count\"], ascending=False).head(20)"
   ]
  },
  {
   "cell_type": "code",
   "execution_count": 86,
   "metadata": {},
   "outputs": [
    {
     "data": {
      "image/png": "[encoded data removed]",
      "text/plain": [
       "<Figure size 432x288 with 1 Axes>"
      ]
     },
     "metadata": {
      "needs_background": "light"
     },
     "output_type": "display_data"
    }
   ],
   "source": [
    "threshold = grp_ratings[\"count\"] > 50\n",
    "\n",
    "\n",
    "fig, ax = plt.subplots()\n",
    "\n",
    "ax.scatter(grp_ratings[threshold][\"count\"], grp_ratings[threshold][\"mean\"], alpha = 0.50)\n",
    "\n",
    "plt.show()"
   ]
  },
  {
   "cell_type": "code",
   "execution_count": 84,
   "metadata": {},
   "outputs": [
    {
     "data": {
      "image/png": "[encoded data removed]",
      "text/plain": [
       "<Figure size 432x288 with 1 Axes>"
      ]
     },
     "metadata": {
      "needs_background": "light"
     },
     "output_type": "display_data"
    }
   ],
   "source": [
    "fig, ax = plt.subplots()\n",
    "\n",
    "ax.scatter( grp_ratings[\"mean\"],grp_ratings[\"count\"], alpha = 0.50)\n",
    "\n",
    "plt.show()"
   ]
  },
  {
   "cell_type": "code",
   "execution_count": 95,
   "metadata": {},
   "outputs": [],
   "source": [
    "just_cact = combo.genres.isin([\"Comedy\", \"Action\"])"
   ]
  },
  {
   "cell_type": "code",
   "execution_count": 92,
   "metadata": {},
   "outputs": [
    {
     "data": {
      "text/html": [
       "<div>\n",
       "<style scoped>\n",
       "    .dataframe tbody tr th:only-of-type {\n",
       "        vertical-align: middle;\n",
       "    }\n",
       "\n",
       "    .dataframe tbody tr th {\n",
       "        vertical-align: top;\n",
       "    }\n",
       "\n",
       "    .dataframe thead th {\n",
       "        text-align: right;\n",
       "    }\n",
       "</style>\n",
       "<table border=\"1\" class=\"dataframe\">\n",
       "  <thead>\n",
       "    <tr style=\"text-align: right;\">\n",
       "      <th></th>\n",
       "      <th>movieId</th>\n",
       "      <th>title</th>\n",
       "      <th>genres</th>\n",
       "      <th>userId</th>\n",
       "      <th>rating</th>\n",
       "      <th>timestamp</th>\n",
       "      <th>_merge</th>\n",
       "    </tr>\n",
       "  </thead>\n",
       "  <tbody>\n",
       "    <tr>\n",
       "      <th>0</th>\n",
       "      <td>1</td>\n",
       "      <td>Toy Story (1995)</td>\n",
       "      <td>Adventure|Animation|Children|Comedy|Fantasy</td>\n",
       "      <td>1</td>\n",
       "      <td>4.0</td>\n",
       "      <td>964982703</td>\n",
       "      <td>both</td>\n",
       "    </tr>\n",
       "    <tr>\n",
       "      <th>1</th>\n",
       "      <td>1</td>\n",
       "      <td>Toy Story (1995)</td>\n",
       "      <td>Adventure|Animation|Children|Comedy|Fantasy</td>\n",
       "      <td>5</td>\n",
       "      <td>4.0</td>\n",
       "      <td>847434962</td>\n",
       "      <td>both</td>\n",
       "    </tr>\n",
       "    <tr>\n",
       "      <th>2</th>\n",
       "      <td>1</td>\n",
       "      <td>Toy Story (1995)</td>\n",
       "      <td>Adventure|Animation|Children|Comedy|Fantasy</td>\n",
       "      <td>7</td>\n",
       "      <td>4.5</td>\n",
       "      <td>1106635946</td>\n",
       "      <td>both</td>\n",
       "    </tr>\n",
       "    <tr>\n",
       "      <th>3</th>\n",
       "      <td>1</td>\n",
       "      <td>Toy Story (1995)</td>\n",
       "      <td>Adventure|Animation|Children|Comedy|Fantasy</td>\n",
       "      <td>15</td>\n",
       "      <td>2.5</td>\n",
       "      <td>1510577970</td>\n",
       "      <td>both</td>\n",
       "    </tr>\n",
       "    <tr>\n",
       "      <th>4</th>\n",
       "      <td>1</td>\n",
       "      <td>Toy Story (1995)</td>\n",
       "      <td>Adventure|Animation|Children|Comedy|Fantasy</td>\n",
       "      <td>17</td>\n",
       "      <td>4.5</td>\n",
       "      <td>1305696483</td>\n",
       "      <td>both</td>\n",
       "    </tr>\n",
       "  </tbody>\n",
       "</table>\n",
       "</div>"
      ],
      "text/plain": [
       "   movieId             title                                       genres  \\\n",
       "0        1  Toy Story (1995)  Adventure|Animation|Children|Comedy|Fantasy   \n",
       "1        1  Toy Story (1995)  Adventure|Animation|Children|Comedy|Fantasy   \n",
       "2        1  Toy Story (1995)  Adventure|Animation|Children|Comedy|Fantasy   \n",
       "3        1  Toy Story (1995)  Adventure|Animation|Children|Comedy|Fantasy   \n",
       "4        1  Toy Story (1995)  Adventure|Animation|Children|Comedy|Fantasy   \n",
       "\n",
       "   userId  rating   timestamp _merge  \n",
       "0       1     4.0   964982703   both  \n",
       "1       5     4.0   847434962   both  \n",
       "2       7     4.5  1106635946   both  \n",
       "3      15     2.5  1510577970   both  \n",
       "4      17     4.5  1305696483   both  "
      ]
     },
     "execution_count": 92,
     "metadata": {},
     "output_type": "execute_result"
    }
   ],
   "source": [
    "combo.head("
   ]
  },
  {
   "cell_type": "code",
   "execution_count": 98,
   "metadata": {},
   "outputs": [
    {
     "data": {
      "text/plain": [
       "(7196, 7)"
      ]
     },
     "execution_count": 98,
     "metadata": {},
     "output_type": "execute_result"
    }
   ],
   "source": [
    "combo[just_comedy].shape"
   ]
  },
  {
   "cell_type": "code",
   "execution_count": 101,
   "metadata": {},
   "outputs": [
    {
     "data": {
      "text/plain": [
       "(100836,)"
      ]
     },
     "execution_count": 101,
     "metadata": {},
     "output_type": "execute_result"
    }
   ],
   "source": [
    "just_comedy.shape"
   ]
  },
  {
   "cell_type": "code",
   "execution_count": 97,
   "metadata": {},
   "outputs": [
    {
     "data": {
      "text/plain": [
       "(7382, 7)"
      ]
     },
     "execution_count": 97,
     "metadata": {},
     "output_type": "execute_result"
    }
   ],
   "source": [
    "combo[just_cact].shape"
   ]
  },
  {
   "cell_type": "code",
   "execution_count": 102,
   "metadata": {},
   "outputs": [],
   "source": [
    "def pstring(df, xxx):\n",
    "    print(xxx)"
   ]
  },
  {
   "cell_type": "code",
   "execution_count": 103,
   "metadata": {},
   "outputs": [
    {
     "name": "stdout",
     "output_type": "stream",
     "text": [
      "BUD LIGHT\n"
     ]
    }
   ],
   "source": [
    "pstring(\"BUD LIGHT\")"
   ]
  },
  {
   "cell_type": "code",
   "execution_count": null,
   "metadata": {},
   "outputs": [],
   "source": []
  }
 ],
 "metadata": {
  "kernelspec": {
   "display_name": "Python 3",
   "language": "python",
   "name": "python3"
  },
  "language_info": {
   "codemirror_mode": {
    "name": "ipython",
    "version": 3
   },
   "file_extension": ".py",
   "mimetype": "text/x-python",
   "name": "python",
   "nbconvert_exporter": "python",
   "pygments_lexer": "ipython3",
   "version": "3.7.1"
  }
 },
 "nbformat": 4,
 "nbformat_minor": 2
}
