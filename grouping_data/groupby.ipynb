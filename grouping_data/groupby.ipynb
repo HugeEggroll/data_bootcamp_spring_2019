{
 "cells": [
  {
   "cell_type": "code",
   "execution_count": 1,
   "metadata": {},
   "outputs": [],
   "source": [
    "import numpy as np\n",
    "import pandas as pd\n",
    "import matplotlib.pyplot as plt\n",
    "import datetime\n",
    "plt.style.use(\"ggplot\")\n",
    "\n",
    "%matplotlib inline"
   ]
  },
  {
   "cell_type": "markdown",
   "metadata": {},
   "source": [
    "## Split-Apply-Combine\n",
    "\n",
    "One powerful paradigm for analyzing data is the \"Split-Apply-Combine\" strategy\n",
    "\n",
    "This strategy has three steps:\n",
    "\n",
    "1. `Split`: split the data into groups based on values\n",
    "2. `Apply`: apply a function or routine to each group separately\n",
    "3. `Combine`: combine the output of the apply step into a DataFrame, using the group identifiers as the index\n",
    "\n",
    "We will cover the main components in this lecture, but we encourage you to also study the [official documentation](https://pandas.pydata.org/pandas-docs/stable/groupby.html) to learn more about what is possible"
   ]
  },
  {
   "cell_type": "markdown",
   "metadata": {},
   "source": [
    "To describe the concepts, we will need some data\n",
    "\n",
    "We will begin with a simple made-up dataset to discuss the concepts and then work through extended example and exercises with real data"
   ]
  },
  {
   "cell_type": "code",
   "execution_count": 2,
   "metadata": {},
   "outputs": [
    {
     "name": "stdout",
     "output_type": "stream",
     "text": [
      "<class 'pandas.core.frame.DataFrame'>\n",
      "RangeIndex: 6 entries, 0 to 5\n",
      "Data columns (total 6 columns):\n",
      "Year       6 non-null int64\n",
      "Player     6 non-null object\n",
      "Team       6 non-null object\n",
      "Pts        6 non-null float64\n",
      "Assist     6 non-null float64\n",
      "Rebound    6 non-null float64\n",
      "dtypes: float64(3), int64(1), object(2)\n",
      "memory usage: 368.0+ bytes\n"
     ]
    },
    {
     "data": {
      "text/html": [
       "<div>\n",
       "<style scoped>\n",
       "    .dataframe tbody tr th:only-of-type {\n",
       "        vertical-align: middle;\n",
       "    }\n",
       "\n",
       "    .dataframe tbody tr th {\n",
       "        vertical-align: top;\n",
       "    }\n",
       "\n",
       "    .dataframe thead th {\n",
       "        text-align: right;\n",
       "    }\n",
       "</style>\n",
       "<table border=\"1\" class=\"dataframe\">\n",
       "  <thead>\n",
       "    <tr style=\"text-align: right;\">\n",
       "      <th></th>\n",
       "      <th>Year</th>\n",
       "      <th>Player</th>\n",
       "      <th>Team</th>\n",
       "      <th>Pts</th>\n",
       "      <th>Assist</th>\n",
       "      <th>Rebound</th>\n",
       "    </tr>\n",
       "  </thead>\n",
       "  <tbody>\n",
       "    <tr>\n",
       "      <th>0</th>\n",
       "      <td>2015</td>\n",
       "      <td>Curry</td>\n",
       "      <td>GSW</td>\n",
       "      <td>30.1</td>\n",
       "      <td>6.7</td>\n",
       "      <td>4.5</td>\n",
       "    </tr>\n",
       "    <tr>\n",
       "      <th>1</th>\n",
       "      <td>2016</td>\n",
       "      <td>Curry</td>\n",
       "      <td>GSW</td>\n",
       "      <td>25.3</td>\n",
       "      <td>6.6</td>\n",
       "      <td>3.9</td>\n",
       "    </tr>\n",
       "    <tr>\n",
       "      <th>2</th>\n",
       "      <td>2017</td>\n",
       "      <td>Curry</td>\n",
       "      <td>GSW</td>\n",
       "      <td>27.1</td>\n",
       "      <td>6.4</td>\n",
       "      <td>3.4</td>\n",
       "    </tr>\n",
       "    <tr>\n",
       "      <th>3</th>\n",
       "      <td>2015</td>\n",
       "      <td>Durant</td>\n",
       "      <td>OKC</td>\n",
       "      <td>28.2</td>\n",
       "      <td>5.0</td>\n",
       "      <td>4.4</td>\n",
       "    </tr>\n",
       "    <tr>\n",
       "      <th>4</th>\n",
       "      <td>2016</td>\n",
       "      <td>Durant</td>\n",
       "      <td>GSW</td>\n",
       "      <td>25.1</td>\n",
       "      <td>4.8</td>\n",
       "      <td>6.5</td>\n",
       "    </tr>\n",
       "    <tr>\n",
       "      <th>5</th>\n",
       "      <td>2017</td>\n",
       "      <td>Durant</td>\n",
       "      <td>GSW</td>\n",
       "      <td>25.9</td>\n",
       "      <td>5.3</td>\n",
       "      <td>7.6</td>\n",
       "    </tr>\n",
       "  </tbody>\n",
       "</table>\n",
       "</div>"
      ],
      "text/plain": [
       "   Year  Player Team   Pts  Assist  Rebound\n",
       "0  2015   Curry  GSW  30.1     6.7      4.5\n",
       "1  2016   Curry  GSW  25.3     6.6      3.9\n",
       "2  2017   Curry  GSW  27.1     6.4      3.4\n",
       "3  2015  Durant  OKC  28.2     5.0      4.4\n",
       "4  2016  Durant  GSW  25.1     4.8      6.5\n",
       "5  2017  Durant  GSW  25.9     5.3      7.6"
      ]
     },
     "execution_count": 2,
     "metadata": {},
     "output_type": "execute_result"
    }
   ],
   "source": [
    "bball = pd.DataFrame({\n",
    "    \"Year\": [2015, 2016, 2017]*2,\n",
    "    \"Player\": [\"Curry\"]*3 + [\"Durant\"]*3,\n",
    "    \"Team\": [\"GSW\"]*3 + [\"OKC\"] + [\"GSW\"]*2,\n",
    "    \"Pts\": [30.1, 25.3, 27.1, 28.2, 25.1, 25.9],\n",
    "    \"Assist\": [6.7, 6.6, 6.4, 5.0, 4.8, 5.3],\n",
    "    \"Rebound\": [4.5, 3.9, 3.4, 4.4, 6.5, 7.6]\n",
    "})\n",
    "\n",
    "bball.info()\n",
    "bball"
   ]
  },
  {
   "cell_type": "markdown",
   "metadata": {},
   "source": [
    "### Simple example\n",
    "\n",
    "To perform the **_SPLIT_** step, we call the `groupby` method on our DataFrame\n",
    "\n",
    "The first argument to `groupby` is a description of how we want to construct groups\n",
    "\n",
    "In the most basic version we will pass a string identifying the column name"
   ]
  },
  {
   "cell_type": "code",
   "execution_count": 3,
   "metadata": {},
   "outputs": [],
   "source": [
    "gbA = bball.groupby(\"Team\")"
   ]
  },
  {
   "cell_type": "markdown",
   "metadata": {},
   "source": [
    "The `type` of variable we get back is a `DataFrameGroupBy`, which we will sometimes refer to as GroupBy for short. The command below shows the groups that we have access to."
   ]
  },
  {
   "cell_type": "code",
   "execution_count": 4,
   "metadata": {},
   "outputs": [
    {
     "data": {
      "text/plain": [
       "{'GSW': Int64Index([0, 1, 2, 4, 5], dtype='int64'),\n",
       " 'OKC': Int64Index([3], dtype='int64')}"
      ]
     },
     "execution_count": 4,
     "metadata": {},
     "output_type": "execute_result"
    }
   ],
   "source": [
    "gbA.groups"
   ]
  },
  {
   "cell_type": "markdown",
   "metadata": {},
   "source": [
    "Then this is a way to grab one of the groups..."
   ]
  },
  {
   "cell_type": "code",
   "execution_count": 5,
   "metadata": {},
   "outputs": [
    {
     "data": {
      "text/html": [
       "<div>\n",
       "<style scoped>\n",
       "    .dataframe tbody tr th:only-of-type {\n",
       "        vertical-align: middle;\n",
       "    }\n",
       "\n",
       "    .dataframe tbody tr th {\n",
       "        vertical-align: top;\n",
       "    }\n",
       "\n",
       "    .dataframe thead th {\n",
       "        text-align: right;\n",
       "    }\n",
       "</style>\n",
       "<table border=\"1\" class=\"dataframe\">\n",
       "  <thead>\n",
       "    <tr style=\"text-align: right;\">\n",
       "      <th></th>\n",
       "      <th>Year</th>\n",
       "      <th>Player</th>\n",
       "      <th>Team</th>\n",
       "      <th>Pts</th>\n",
       "      <th>Assist</th>\n",
       "      <th>Rebound</th>\n",
       "    </tr>\n",
       "  </thead>\n",
       "  <tbody>\n",
       "    <tr>\n",
       "      <th>3</th>\n",
       "      <td>2015</td>\n",
       "      <td>Durant</td>\n",
       "      <td>OKC</td>\n",
       "      <td>28.2</td>\n",
       "      <td>5.0</td>\n",
       "      <td>4.4</td>\n",
       "    </tr>\n",
       "  </tbody>\n",
       "</table>\n",
       "</div>"
      ],
      "text/plain": [
       "   Year  Player Team   Pts  Assist  Rebound\n",
       "3  2015  Durant  OKC  28.2     5.0      4.4"
      ]
     },
     "execution_count": 5,
     "metadata": {},
     "output_type": "execute_result"
    }
   ],
   "source": [
    "gbA.get_group(\"OKC\")"
   ]
  },
  {
   "cell_type": "markdown",
   "metadata": {},
   "source": [
    "We can **_APPLY_** some of our favorite reduction functions directly on the `GroupBy` object"
   ]
  },
  {
   "cell_type": "markdown",
   "metadata": {},
   "source": [
    "**Exercise**: With your neighbor, look closely at the output of the cells below\n",
    "\n",
    "How did pandas compute the sum of `gbA`? What happened to the `NaN` entries in column `C`?\n",
    "\n",
    "Hint: try `gbA.count()` or `gbA.mean()` if you can't decide what happened to the `NaN`s"
   ]
  },
  {
   "cell_type": "code",
   "execution_count": 6,
   "metadata": {},
   "outputs": [
    {
     "data": {
      "text/html": [
       "<div>\n",
       "<style scoped>\n",
       "    .dataframe tbody tr th:only-of-type {\n",
       "        vertical-align: middle;\n",
       "    }\n",
       "\n",
       "    .dataframe tbody tr th {\n",
       "        vertical-align: top;\n",
       "    }\n",
       "\n",
       "    .dataframe thead th {\n",
       "        text-align: right;\n",
       "    }\n",
       "</style>\n",
       "<table border=\"1\" class=\"dataframe\">\n",
       "  <thead>\n",
       "    <tr style=\"text-align: right;\">\n",
       "      <th></th>\n",
       "      <th>Year</th>\n",
       "      <th>Pts</th>\n",
       "      <th>Assist</th>\n",
       "      <th>Rebound</th>\n",
       "    </tr>\n",
       "    <tr>\n",
       "      <th>Team</th>\n",
       "      <th></th>\n",
       "      <th></th>\n",
       "      <th></th>\n",
       "      <th></th>\n",
       "    </tr>\n",
       "  </thead>\n",
       "  <tbody>\n",
       "    <tr>\n",
       "      <th>GSW</th>\n",
       "      <td>2016.2</td>\n",
       "      <td>26.7</td>\n",
       "      <td>5.96</td>\n",
       "      <td>5.18</td>\n",
       "    </tr>\n",
       "    <tr>\n",
       "      <th>OKC</th>\n",
       "      <td>2015.0</td>\n",
       "      <td>28.2</td>\n",
       "      <td>5.00</td>\n",
       "      <td>4.40</td>\n",
       "    </tr>\n",
       "  </tbody>\n",
       "</table>\n",
       "</div>"
      ],
      "text/plain": [
       "        Year   Pts  Assist  Rebound\n",
       "Team                               \n",
       "GSW   2016.2  26.7    5.96     5.18\n",
       "OKC   2015.0  28.2    5.00     4.40"
      ]
     },
     "execution_count": 6,
     "metadata": {},
     "output_type": "execute_result"
    }
   ],
   "source": [
    "gbA.mean()"
   ]
  },
  {
   "cell_type": "markdown",
   "metadata": {},
   "source": [
    "**Exercise**: Use (tab completion) to see what other reductions are defined for GroupBy objects\n",
    "\n",
    "Pick three and evaluate them in the cells below\n",
    "\n",
    "Does the output of each of these commands have the same features as the output of `gbA.sum()` from above? If not, what is different?"
   ]
  },
  {
   "cell_type": "markdown",
   "metadata": {},
   "source": [
    "You can also apply on only one column, e.g. we just want the mean of B, by group."
   ]
  },
  {
   "cell_type": "code",
   "execution_count": 7,
   "metadata": {},
   "outputs": [
    {
     "data": {
      "text/plain": [
       "Team\n",
       "GSW    26.7\n",
       "OKC    28.2\n",
       "Name: Pts, dtype: float64"
      ]
     },
     "execution_count": 7,
     "metadata": {},
     "output_type": "execute_result"
    }
   ],
   "source": [
    "gbA[\"Pts\"].mean()"
   ]
  },
  {
   "cell_type": "markdown",
   "metadata": {},
   "source": [
    "One final thing, we can apply an aggregation by column using a dictionary. "
   ]
  },
  {
   "cell_type": "code",
   "execution_count": 8,
   "metadata": {},
   "outputs": [
    {
     "data": {
      "text/html": [
       "<div>\n",
       "<style scoped>\n",
       "    .dataframe tbody tr th:only-of-type {\n",
       "        vertical-align: middle;\n",
       "    }\n",
       "\n",
       "    .dataframe tbody tr th {\n",
       "        vertical-align: top;\n",
       "    }\n",
       "\n",
       "    .dataframe thead th {\n",
       "        text-align: right;\n",
       "    }\n",
       "</style>\n",
       "<table border=\"1\" class=\"dataframe\">\n",
       "  <thead>\n",
       "    <tr style=\"text-align: right;\">\n",
       "      <th></th>\n",
       "      <th>Pts</th>\n",
       "      <th>Year</th>\n",
       "    </tr>\n",
       "    <tr>\n",
       "      <th>Team</th>\n",
       "      <th></th>\n",
       "      <th></th>\n",
       "    </tr>\n",
       "  </thead>\n",
       "  <tbody>\n",
       "    <tr>\n",
       "      <th>GSW</th>\n",
       "      <td>133.5</td>\n",
       "      <td>2015</td>\n",
       "    </tr>\n",
       "    <tr>\n",
       "      <th>OKC</th>\n",
       "      <td>28.2</td>\n",
       "      <td>2015</td>\n",
       "    </tr>\n",
       "  </tbody>\n",
       "</table>\n",
       "</div>"
      ],
      "text/plain": [
       "        Pts  Year\n",
       "Team             \n",
       "GSW   133.5  2015\n",
       "OKC    28.2  2015"
      ]
     },
     "execution_count": 8,
     "metadata": {},
     "output_type": "execute_result"
    }
   ],
   "source": [
    "transform_dict = {\"Pts\": \"sum\", \"Year\": \"first\"}\n",
    "\n",
    "\n",
    "gbA.agg(transform_dict)"
   ]
  },
  {
   "cell_type": "markdown",
   "metadata": {},
   "source": [
    "If we pass a list of strings to `groupby`, it will group based on unique combinations of values from all columns in the list\n",
    "\n",
    "Let's see an example"
   ]
  },
  {
   "cell_type": "code",
   "execution_count": 9,
   "metadata": {},
   "outputs": [
    {
     "data": {
      "text/plain": [
       "pandas.core.groupby.groupby.DataFrameGroupBy"
      ]
     },
     "execution_count": 9,
     "metadata": {},
     "output_type": "execute_result"
    }
   ],
   "source": [
    "gbAB = bball.groupby([\"Team\", \"Player\"])\n",
    "type(gbAB)"
   ]
  },
  {
   "cell_type": "code",
   "execution_count": 10,
   "metadata": {},
   "outputs": [
    {
     "data": {
      "text/plain": [
       "{('GSW', 'Curry'): Int64Index([0, 1, 2], dtype='int64'),\n",
       " ('GSW', 'Durant'): Int64Index([4, 5], dtype='int64'),\n",
       " ('OKC', 'Durant'): Int64Index([3], dtype='int64')}"
      ]
     },
     "execution_count": 10,
     "metadata": {},
     "output_type": "execute_result"
    }
   ],
   "source": [
    "gbAB.groups"
   ]
  },
  {
   "cell_type": "code",
   "execution_count": 11,
   "metadata": {},
   "outputs": [
    {
     "data": {
      "text/plain": [
       "28.2"
      ]
     },
     "execution_count": 11,
     "metadata": {},
     "output_type": "execute_result"
    }
   ],
   "source": [
    "#gbAB.get_group((1,1)).Pts.mean()\n",
    "\n",
    "gbAB.get_group((\"OKC\",\"Durant\")).Pts.mean()"
   ]
  },
  {
   "cell_type": "code",
   "execution_count": 12,
   "metadata": {},
   "outputs": [
    {
     "data": {
      "text/plain": [
       "25.5"
      ]
     },
     "execution_count": 12,
     "metadata": {},
     "output_type": "execute_result"
    }
   ],
   "source": [
    "gbAB.get_group((\"GSW\",\"Durant\")).Pts.mean()"
   ]
  },
  {
   "cell_type": "code",
   "execution_count": 15,
   "metadata": {},
   "outputs": [
    {
     "data": {
      "text/html": [
       "<div>\n",
       "<style scoped>\n",
       "    .dataframe tbody tr th:only-of-type {\n",
       "        vertical-align: middle;\n",
       "    }\n",
       "\n",
       "    .dataframe tbody tr th {\n",
       "        vertical-align: top;\n",
       "    }\n",
       "\n",
       "    .dataframe thead th {\n",
       "        text-align: right;\n",
       "    }\n",
       "</style>\n",
       "<table border=\"1\" class=\"dataframe\">\n",
       "  <thead>\n",
       "    <tr style=\"text-align: right;\">\n",
       "      <th></th>\n",
       "      <th></th>\n",
       "      <th>Year</th>\n",
       "      <th>Pts</th>\n",
       "      <th>Assist</th>\n",
       "      <th>Rebound</th>\n",
       "    </tr>\n",
       "    <tr>\n",
       "      <th>Team</th>\n",
       "      <th>Player</th>\n",
       "      <th></th>\n",
       "      <th></th>\n",
       "      <th></th>\n",
       "      <th></th>\n",
       "    </tr>\n",
       "  </thead>\n",
       "  <tbody>\n",
       "    <tr>\n",
       "      <th rowspan=\"2\" valign=\"top\">GSW</th>\n",
       "      <th>Curry</th>\n",
       "      <td>2016.0</td>\n",
       "      <td>27.5</td>\n",
       "      <td>6.566667</td>\n",
       "      <td>3.933333</td>\n",
       "    </tr>\n",
       "    <tr>\n",
       "      <th>Durant</th>\n",
       "      <td>2016.5</td>\n",
       "      <td>25.5</td>\n",
       "      <td>5.050000</td>\n",
       "      <td>7.050000</td>\n",
       "    </tr>\n",
       "    <tr>\n",
       "      <th>OKC</th>\n",
       "      <th>Durant</th>\n",
       "      <td>2015.0</td>\n",
       "      <td>28.2</td>\n",
       "      <td>5.000000</td>\n",
       "      <td>4.400000</td>\n",
       "    </tr>\n",
       "  </tbody>\n",
       "</table>\n",
       "</div>"
      ],
      "text/plain": [
       "               Year   Pts    Assist   Rebound\n",
       "Team Player                                  \n",
       "GSW  Curry   2016.0  27.5  6.566667  3.933333\n",
       "     Durant  2016.5  25.5  5.050000  7.050000\n",
       "OKC  Durant  2015.0  28.2  5.000000  4.400000"
      ]
     },
     "execution_count": 15,
     "metadata": {},
     "output_type": "execute_result"
    }
   ],
   "source": [
    "gbAB.mean()"
   ]
  },
  {
   "cell_type": "markdown",
   "metadata": {},
   "source": [
    "### Let's apply this on the Chipoltle Data\n",
    "\n",
    "Your boss asks, on average, how much is spent on an order... Let's walk through this together..."
   ]
  },
  {
   "cell_type": "code",
   "execution_count": 18,
   "metadata": {},
   "outputs": [],
   "source": [
    "url = \"https://raw.githubusercontent.com/mwaugh0328/data_bootcamp_spring_2019/master/cleaning_data/clean_chipoltle.csv\""
   ]
  },
  {
   "cell_type": "code",
   "execution_count": 19,
   "metadata": {},
   "outputs": [],
   "source": [
    "chp = pd.read_csv(url)"
   ]
  },
  {
   "cell_type": "code",
   "execution_count": 28,
   "metadata": {},
   "outputs": [
    {
     "data": {
      "text/html": [
       "<div>\n",
       "<style scoped>\n",
       "    .dataframe tbody tr th:only-of-type {\n",
       "        vertical-align: middle;\n",
       "    }\n",
       "\n",
       "    .dataframe tbody tr th {\n",
       "        vertical-align: top;\n",
       "    }\n",
       "\n",
       "    .dataframe thead th {\n",
       "        text-align: right;\n",
       "    }\n",
       "</style>\n",
       "<table border=\"1\" class=\"dataframe\">\n",
       "  <thead>\n",
       "    <tr style=\"text-align: right;\">\n",
       "      <th></th>\n",
       "      <th>Unnamed: 0</th>\n",
       "      <th>order_store_id_1</th>\n",
       "      <th>quantity_2</th>\n",
       "      <th>item_name_3</th>\n",
       "      <th>choice_description_4</th>\n",
       "      <th>item_price_5</th>\n",
       "    </tr>\n",
       "  </thead>\n",
       "  <tbody>\n",
       "    <tr>\n",
       "      <th>0</th>\n",
       "      <td>0</td>\n",
       "      <td>1</td>\n",
       "      <td>1</td>\n",
       "      <td>Chips and Fresh Tomato Salsa</td>\n",
       "      <td>NaN</td>\n",
       "      <td>2.39</td>\n",
       "    </tr>\n",
       "    <tr>\n",
       "      <th>1</th>\n",
       "      <td>1</td>\n",
       "      <td>1</td>\n",
       "      <td>1</td>\n",
       "      <td>Izze</td>\n",
       "      <td>[Clementine]</td>\n",
       "      <td>3.39</td>\n",
       "    </tr>\n",
       "    <tr>\n",
       "      <th>2</th>\n",
       "      <td>2</td>\n",
       "      <td>1</td>\n",
       "      <td>1</td>\n",
       "      <td>Nantucket Nectar</td>\n",
       "      <td>[Apple]</td>\n",
       "      <td>3.39</td>\n",
       "    </tr>\n",
       "    <tr>\n",
       "      <th>3</th>\n",
       "      <td>3</td>\n",
       "      <td>1</td>\n",
       "      <td>1</td>\n",
       "      <td>Chips and Tomatillo-Green Chili Salsa</td>\n",
       "      <td>NaN</td>\n",
       "      <td>2.39</td>\n",
       "    </tr>\n",
       "    <tr>\n",
       "      <th>4</th>\n",
       "      <td>4</td>\n",
       "      <td>2</td>\n",
       "      <td>2</td>\n",
       "      <td>Chicken Bowl</td>\n",
       "      <td>[Tomatillo-Red Chili Salsa (Hot), [Black Beans...</td>\n",
       "      <td>16.98</td>\n",
       "    </tr>\n",
       "  </tbody>\n",
       "</table>\n",
       "</div>"
      ],
      "text/plain": [
       "   Unnamed: 0  order_store_id_1  quantity_2  \\\n",
       "0           0                 1           1   \n",
       "1           1                 1           1   \n",
       "2           2                 1           1   \n",
       "3           3                 1           1   \n",
       "4           4                 2           2   \n",
       "\n",
       "                             item_name_3  \\\n",
       "0          Chips and Fresh Tomato Salsa    \n",
       "1                                   Izze   \n",
       "2                       Nantucket Nectar   \n",
       "3  Chips and Tomatillo-Green Chili Salsa   \n",
       "4                           Chicken Bowl   \n",
       "\n",
       "                                choice_description_4  item_price_5  \n",
       "0                                                NaN          2.39  \n",
       "1                                       [Clementine]          3.39  \n",
       "2                                            [Apple]          3.39  \n",
       "3                                                NaN          2.39  \n",
       "4  [Tomatillo-Red Chili Salsa (Hot), [Black Beans...         16.98  "
      ]
     },
     "execution_count": 28,
     "metadata": {},
     "output_type": "execute_result"
    }
   ],
   "source": [
    "chp.head()"
   ]
  },
  {
   "cell_type": "code",
   "execution_count": 25,
   "metadata": {},
   "outputs": [],
   "source": [
    "chp_orders = chp.groupby(\"order_store_id_1\")"
   ]
  },
  {
   "cell_type": "code",
   "execution_count": 40,
   "metadata": {},
   "outputs": [
    {
     "data": {
      "text/plain": [
       "18.70134678298813"
      ]
     },
     "execution_count": 40,
     "metadata": {},
     "output_type": "execute_result"
    }
   ],
   "source": [
    "chp_orders[\"item_price_5\"].sum().mean()"
   ]
  },
  {
   "cell_type": "code",
   "execution_count": 41,
   "metadata": {},
   "outputs": [
    {
     "data": {
      "text/plain": [
       "2.5059978189749184"
      ]
     },
     "execution_count": 41,
     "metadata": {},
     "output_type": "execute_result"
    }
   ],
   "source": [
    "chp_orders[\"item_price_5\"].count().mean()"
   ]
  },
  {
   "cell_type": "markdown",
   "metadata": {},
   "source": [
    "### \"Not reductions\": the `apply` method\n",
    "\n",
    "We can apply \"not reductions\" to DataFrames. Here is the idea, is we want to grab a subset of the series by group, apply and operation, then recombine everything in a new DataFrame. How is this different than what we were doing above? In the stuff above, the resulting output always had length of the number of groups. So when we grouped by team, the length was two. Now we may want a situation in which the output is not \"reduced\" to the number of groups, but more general.  \n",
    "\n",
    "Lets explore some examples. We can do the same with GroupBy objects using the `.apply` method\n",
    "\n",
    "Let's see an example"
   ]
  },
  {
   "cell_type": "code",
   "execution_count": null,
   "metadata": {},
   "outputs": [],
   "source": []
  },
  {
   "cell_type": "code",
   "execution_count": 16,
   "metadata": {},
   "outputs": [],
   "source": [
    "def best_by_pts(df):\n",
    "    return df.nlargest(2, \"Pts\")"
   ]
  },
  {
   "cell_type": "code",
   "execution_count": 17,
   "metadata": {},
   "outputs": [
    {
     "data": {
      "text/html": [
       "<div>\n",
       "<style scoped>\n",
       "    .dataframe tbody tr th:only-of-type {\n",
       "        vertical-align: middle;\n",
       "    }\n",
       "\n",
       "    .dataframe tbody tr th {\n",
       "        vertical-align: top;\n",
       "    }\n",
       "\n",
       "    .dataframe thead th {\n",
       "        text-align: right;\n",
       "    }\n",
       "</style>\n",
       "<table border=\"1\" class=\"dataframe\">\n",
       "  <thead>\n",
       "    <tr style=\"text-align: right;\">\n",
       "      <th></th>\n",
       "      <th></th>\n",
       "      <th>Year</th>\n",
       "      <th>Player</th>\n",
       "      <th>Team</th>\n",
       "      <th>Pts</th>\n",
       "      <th>Assist</th>\n",
       "      <th>Rebound</th>\n",
       "    </tr>\n",
       "    <tr>\n",
       "      <th>Player</th>\n",
       "      <th></th>\n",
       "      <th></th>\n",
       "      <th></th>\n",
       "      <th></th>\n",
       "      <th></th>\n",
       "      <th></th>\n",
       "      <th></th>\n",
       "    </tr>\n",
       "  </thead>\n",
       "  <tbody>\n",
       "    <tr>\n",
       "      <th rowspan=\"2\" valign=\"top\">Curry</th>\n",
       "      <th>0</th>\n",
       "      <td>2015</td>\n",
       "      <td>Curry</td>\n",
       "      <td>GSW</td>\n",
       "      <td>30.1</td>\n",
       "      <td>6.7</td>\n",
       "      <td>4.5</td>\n",
       "    </tr>\n",
       "    <tr>\n",
       "      <th>2</th>\n",
       "      <td>2017</td>\n",
       "      <td>Curry</td>\n",
       "      <td>GSW</td>\n",
       "      <td>27.1</td>\n",
       "      <td>6.4</td>\n",
       "      <td>3.4</td>\n",
       "    </tr>\n",
       "    <tr>\n",
       "      <th rowspan=\"2\" valign=\"top\">Durant</th>\n",
       "      <th>3</th>\n",
       "      <td>2015</td>\n",
       "      <td>Durant</td>\n",
       "      <td>OKC</td>\n",
       "      <td>28.2</td>\n",
       "      <td>5.0</td>\n",
       "      <td>4.4</td>\n",
       "    </tr>\n",
       "    <tr>\n",
       "      <th>5</th>\n",
       "      <td>2017</td>\n",
       "      <td>Durant</td>\n",
       "      <td>GSW</td>\n",
       "      <td>25.9</td>\n",
       "      <td>5.3</td>\n",
       "      <td>7.6</td>\n",
       "    </tr>\n",
       "  </tbody>\n",
       "</table>\n",
       "</div>"
      ],
      "text/plain": [
       "          Year  Player Team   Pts  Assist  Rebound\n",
       "Player                                            \n",
       "Curry  0  2015   Curry  GSW  30.1     6.7      4.5\n",
       "       2  2017   Curry  GSW  27.1     6.4      3.4\n",
       "Durant 3  2015  Durant  OKC  28.2     5.0      4.4\n",
       "       5  2017  Durant  GSW  25.9     5.3      7.6"
      ]
     },
     "execution_count": 17,
     "metadata": {},
     "output_type": "execute_result"
    }
   ],
   "source": [
    "gbA = bball.groupby(\"Player\")\n",
    "\n",
    "new_df = gbA.apply(best_by_pts)\n",
    "\n",
    "new_df"
   ]
  },
  {
   "cell_type": "markdown",
   "metadata": {},
   "source": [
    "First, talk through what is going on here. First, it split the DataFrame by player. Next, it found the two best years in terms of points (this is the `best_by_pts` function), this is the apply step. **Here is the deal** the output from the apply step is of length 2 (for the two best years) width of however many columns their are. Then it combines the two DataFrames into one larger one. \n",
    "\n",
    "Why you you want to do this? This is telling us something about player specific outcomes by first spliting, then applying and selecting them, and then by combining them we can compare...what was Curry's best year, what team was he on vs Durant's best years and what team was he on. \n",
    "\n",
    "on theInteresting, for both players, 2016 was the relativly weak year. Do you see what is going on here?"
   ]
  },
  {
   "cell_type": "markdown",
   "metadata": {},
   "source": [
    "**Exercise**: This exercise has a few steps:\n",
    "\n",
    "1. Write a function that, given a DataFrame, creates a new column that computes each players points as a deviation from career mean, and then the function returns the entire DataFrame\n",
    "2. Apply the function to `bball`\n",
    "3. With your neighbor describe what happened?"
   ]
  },
  {
   "cell_type": "code",
   "execution_count": 19,
   "metadata": {
    "collapsed": true
   },
   "outputs": [],
   "source": [
    "def mean_dev_by_pts(df):\n",
    "    df[\"mean_dev\"] = df[\"Pts\"] - df[\"Pts\"].mean()\n",
    "    return df"
   ]
  },
  {
   "cell_type": "code",
   "execution_count": 20,
   "metadata": {},
   "outputs": [
    {
     "data": {
      "text/html": [
       "<div>\n",
       "<style scoped>\n",
       "    .dataframe tbody tr th:only-of-type {\n",
       "        vertical-align: middle;\n",
       "    }\n",
       "\n",
       "    .dataframe tbody tr th {\n",
       "        vertical-align: top;\n",
       "    }\n",
       "\n",
       "    .dataframe thead th {\n",
       "        text-align: right;\n",
       "    }\n",
       "</style>\n",
       "<table border=\"1\" class=\"dataframe\">\n",
       "  <thead>\n",
       "    <tr style=\"text-align: right;\">\n",
       "      <th></th>\n",
       "      <th>Assist</th>\n",
       "      <th>Player</th>\n",
       "      <th>Pts</th>\n",
       "      <th>Rebound</th>\n",
       "      <th>Team</th>\n",
       "      <th>Year</th>\n",
       "      <th>mean_dev</th>\n",
       "    </tr>\n",
       "  </thead>\n",
       "  <tbody>\n",
       "    <tr>\n",
       "      <th>0</th>\n",
       "      <td>6.7</td>\n",
       "      <td>Curry</td>\n",
       "      <td>30.1</td>\n",
       "      <td>4.5</td>\n",
       "      <td>GSW</td>\n",
       "      <td>2015</td>\n",
       "      <td>2.6</td>\n",
       "    </tr>\n",
       "    <tr>\n",
       "      <th>1</th>\n",
       "      <td>6.6</td>\n",
       "      <td>Curry</td>\n",
       "      <td>25.3</td>\n",
       "      <td>3.9</td>\n",
       "      <td>GSW</td>\n",
       "      <td>2016</td>\n",
       "      <td>-2.2</td>\n",
       "    </tr>\n",
       "    <tr>\n",
       "      <th>2</th>\n",
       "      <td>6.4</td>\n",
       "      <td>Curry</td>\n",
       "      <td>27.1</td>\n",
       "      <td>3.4</td>\n",
       "      <td>GSW</td>\n",
       "      <td>2017</td>\n",
       "      <td>-0.4</td>\n",
       "    </tr>\n",
       "    <tr>\n",
       "      <th>3</th>\n",
       "      <td>5.0</td>\n",
       "      <td>Durant</td>\n",
       "      <td>28.2</td>\n",
       "      <td>4.4</td>\n",
       "      <td>OKC</td>\n",
       "      <td>2015</td>\n",
       "      <td>1.8</td>\n",
       "    </tr>\n",
       "    <tr>\n",
       "      <th>4</th>\n",
       "      <td>4.8</td>\n",
       "      <td>Durant</td>\n",
       "      <td>25.1</td>\n",
       "      <td>6.5</td>\n",
       "      <td>GSW</td>\n",
       "      <td>2016</td>\n",
       "      <td>-1.3</td>\n",
       "    </tr>\n",
       "    <tr>\n",
       "      <th>5</th>\n",
       "      <td>5.3</td>\n",
       "      <td>Durant</td>\n",
       "      <td>25.9</td>\n",
       "      <td>7.6</td>\n",
       "      <td>GSW</td>\n",
       "      <td>2017</td>\n",
       "      <td>-0.5</td>\n",
       "    </tr>\n",
       "  </tbody>\n",
       "</table>\n",
       "</div>"
      ],
      "text/plain": [
       "   Assist  Player   Pts  Rebound Team  Year  mean_dev\n",
       "0     6.7   Curry  30.1      4.5  GSW  2015       2.6\n",
       "1     6.6   Curry  25.3      3.9  GSW  2016      -2.2\n",
       "2     6.4   Curry  27.1      3.4  GSW  2017      -0.4\n",
       "3     5.0  Durant  28.2      4.4  OKC  2015       1.8\n",
       "4     4.8  Durant  25.1      6.5  GSW  2016      -1.3\n",
       "5     5.3  Durant  25.9      7.6  GSW  2017      -0.5"
      ]
     },
     "execution_count": 20,
     "metadata": {},
     "output_type": "execute_result"
    }
   ],
   "source": [
    "gbA = bball.groupby(\"Player\")\n",
    "\n",
    "gbA.apply(mean_dev_by_pts)"
   ]
  },
  {
   "cell_type": "markdown",
   "metadata": {},
   "source": [
    "Again, think about what is going on here. First, it split the DataFrame by player. Next, for each player it computed the difference in points between **that players career  average** and his season average (this is the `mean_dev_by_pts` function), this is the apply step. **Here is the deal** the output from the apply step is of length 3 (as this is for all the years) width of however many columns their are. Then it combines the two DataFrames into one larger one. \n",
    "\n",
    "In other words, what we did is just added a column, but we computed the column by taking the points relative to the **group specific mean**. This is the key value added of this approach. "
   ]
  },
  {
   "cell_type": "markdown",
   "metadata": {},
   "source": [
    "---\n",
    "\n",
    "### `pd.Grouper`\n",
    "\n",
    "Sometimes in order to construct the groups you want, you need to give pandas more information than just a column name\n",
    "\n",
    "Some examples are:\n",
    "\n",
    "- Grouping by a column and a level of the index\n",
    "- Grouping time series data at a particular frequency\n",
    "\n",
    "Pandas lets you do this through the `pd.Grouper` type. Lets continue to explore this with **more** basketball data...Below is individual player box score data from 2016-2017 season. I found this on Kaggle [here](https://www.kaggle.com/pablote/nba-enhanced-stats/data)"
   ]
  },
  {
   "cell_type": "code",
   "execution_count": 23,
   "metadata": {
    "collapsed": true
   },
   "outputs": [],
   "source": [
    "pgame = pd.read_csv(\"https://github.com/mwaugh0328/data_bootcamp_spring_2018/raw/master/data/2016-17_playerBoxScore.csv\")"
   ]
  },
  {
   "cell_type": "code",
   "execution_count": 38,
   "metadata": {
    "scrolled": false
   },
   "outputs": [
    {
     "data": {
      "text/plain": [
       "0        Away\n",
       "1        Away\n",
       "2        Away\n",
       "3        Away\n",
       "4        Away\n",
       "5        Away\n",
       "6        Away\n",
       "7        Away\n",
       "8        Away\n",
       "9        Away\n",
       "10       Away\n",
       "11       Away\n",
       "12       Away\n",
       "13       Home\n",
       "14       Home\n",
       "15       Home\n",
       "16       Home\n",
       "17       Home\n",
       "18       Home\n",
       "19       Home\n",
       "20       Home\n",
       "21       Home\n",
       "22       Home\n",
       "23       Home\n",
       "24       Home\n",
       "25       Home\n",
       "26       Away\n",
       "27       Away\n",
       "28       Away\n",
       "29       Away\n",
       "         ... \n",
       "26115    Home\n",
       "26116    Home\n",
       "26117    Home\n",
       "26118    Home\n",
       "26119    Home\n",
       "26120    Home\n",
       "26121    Home\n",
       "26122    Home\n",
       "26123    Home\n",
       "26124    Home\n",
       "26125    Home\n",
       "26126    Away\n",
       "26127    Away\n",
       "26128    Away\n",
       "26129    Away\n",
       "26130    Away\n",
       "26131    Away\n",
       "26132    Away\n",
       "26133    Away\n",
       "26134    Away\n",
       "26135    Away\n",
       "26136    Away\n",
       "26137    Home\n",
       "26138    Home\n",
       "26139    Home\n",
       "26140    Home\n",
       "26141    Home\n",
       "26142    Home\n",
       "26143    Home\n",
       "26144    Home\n",
       "Name: teamLoc, Length: 26145, dtype: object"
      ]
     },
     "execution_count": 38,
     "metadata": {},
     "output_type": "execute_result"
    }
   ],
   "source": [
    "pgame.teamLoc"
   ]
  },
  {
   "cell_type": "markdown",
   "metadata": {},
   "source": [
    "Now when we look at `gmDate` column this tells us the date. The issue is that we want (and we can have) pandas recognize it as a date. This will be important as this will allow for abunch of functionality that we would not have other wise. Below we do this..."
   ]
  },
  {
   "cell_type": "code",
   "execution_count": 29,
   "metadata": {},
   "outputs": [],
   "source": [
    "pgame[\"gmDate\"] = pd.to_datetime(pgame[\"gmDate\"], format=\"%Y-%m-%d\")\n",
    "# This last operation converts the gm\n",
    "\n",
    "#pgame.info()"
   ]
  },
  {
   "cell_type": "markdown",
   "metadata": {},
   "source": [
    "Now lets just look at Kevin Durant through the year. Let's also make sure there are not multiple Durant's in the dataset..."
   ]
  },
  {
   "cell_type": "code",
   "execution_count": 36,
   "metadata": {},
   "outputs": [
    {
     "data": {
      "text/plain": [
       "62"
      ]
     },
     "execution_count": 36,
     "metadata": {},
     "output_type": "execute_result"
    }
   ],
   "source": [
    "pgame.playLNm.value_counts()[\"Durant\"]"
   ]
  },
  {
   "cell_type": "code",
   "execution_count": 37,
   "metadata": {
    "collapsed": true,
    "scrolled": false
   },
   "outputs": [],
   "source": [
    "durant_game = pgame[pgame.playLNm == \"Durant\"]"
   ]
  },
  {
   "cell_type": "markdown",
   "metadata": {},
   "source": [
    "**The WANT** is the group by Durant's performance over the year. We could do 2016 vs. 2017...by month, by week, etc. Now how do we do this, well the pd.Grouper helps us group on dates in a very easy way. "
   ]
  },
  {
   "cell_type": "code",
   "execution_count": 44,
   "metadata": {
    "scrolled": false
   },
   "outputs": [
    {
     "data": {
      "text/html": [
       "<div>\n",
       "<style scoped>\n",
       "    .dataframe tbody tr th:only-of-type {\n",
       "        vertical-align: middle;\n",
       "    }\n",
       "\n",
       "    .dataframe tbody tr th {\n",
       "        vertical-align: top;\n",
       "    }\n",
       "\n",
       "    .dataframe thead th {\n",
       "        text-align: right;\n",
       "    }\n",
       "</style>\n",
       "<table border=\"1\" class=\"dataframe\">\n",
       "  <thead>\n",
       "    <tr style=\"text-align: right;\">\n",
       "      <th></th>\n",
       "      <th>gmTime</th>\n",
       "      <th>seasTyp</th>\n",
       "      <th>playLNm</th>\n",
       "      <th>playFNm</th>\n",
       "      <th>teamAbbr</th>\n",
       "      <th>teamConf</th>\n",
       "      <th>teamDiv</th>\n",
       "      <th>teamLoc</th>\n",
       "      <th>teamRslt</th>\n",
       "      <th>teamDayOff</th>\n",
       "      <th>...</th>\n",
       "      <th>playFT%</th>\n",
       "      <th>playORB</th>\n",
       "      <th>playDRB</th>\n",
       "      <th>playTRB</th>\n",
       "      <th>opptAbbr</th>\n",
       "      <th>opptConf</th>\n",
       "      <th>opptDiv</th>\n",
       "      <th>opptLoc</th>\n",
       "      <th>opptRslt</th>\n",
       "      <th>opptDayOff</th>\n",
       "    </tr>\n",
       "    <tr>\n",
       "      <th>gmDate</th>\n",
       "      <th></th>\n",
       "      <th></th>\n",
       "      <th></th>\n",
       "      <th></th>\n",
       "      <th></th>\n",
       "      <th></th>\n",
       "      <th></th>\n",
       "      <th></th>\n",
       "      <th></th>\n",
       "      <th></th>\n",
       "      <th></th>\n",
       "      <th></th>\n",
       "      <th></th>\n",
       "      <th></th>\n",
       "      <th></th>\n",
       "      <th></th>\n",
       "      <th></th>\n",
       "      <th></th>\n",
       "      <th></th>\n",
       "      <th></th>\n",
       "      <th></th>\n",
       "    </tr>\n",
       "  </thead>\n",
       "  <tbody>\n",
       "    <tr>\n",
       "      <th>2016-10-31</th>\n",
       "      <td>3</td>\n",
       "      <td>3</td>\n",
       "      <td>3</td>\n",
       "      <td>3</td>\n",
       "      <td>3</td>\n",
       "      <td>3</td>\n",
       "      <td>3</td>\n",
       "      <td>3</td>\n",
       "      <td>3</td>\n",
       "      <td>3</td>\n",
       "      <td>...</td>\n",
       "      <td>3</td>\n",
       "      <td>3</td>\n",
       "      <td>3</td>\n",
       "      <td>3</td>\n",
       "      <td>3</td>\n",
       "      <td>3</td>\n",
       "      <td>3</td>\n",
       "      <td>3</td>\n",
       "      <td>3</td>\n",
       "      <td>3</td>\n",
       "    </tr>\n",
       "    <tr>\n",
       "      <th>2016-11-30</th>\n",
       "      <td>15</td>\n",
       "      <td>15</td>\n",
       "      <td>15</td>\n",
       "      <td>15</td>\n",
       "      <td>15</td>\n",
       "      <td>15</td>\n",
       "      <td>15</td>\n",
       "      <td>15</td>\n",
       "      <td>15</td>\n",
       "      <td>15</td>\n",
       "      <td>...</td>\n",
       "      <td>15</td>\n",
       "      <td>15</td>\n",
       "      <td>15</td>\n",
       "      <td>15</td>\n",
       "      <td>15</td>\n",
       "      <td>15</td>\n",
       "      <td>15</td>\n",
       "      <td>15</td>\n",
       "      <td>15</td>\n",
       "      <td>15</td>\n",
       "    </tr>\n",
       "    <tr>\n",
       "      <th>2016-12-31</th>\n",
       "      <td>16</td>\n",
       "      <td>16</td>\n",
       "      <td>16</td>\n",
       "      <td>16</td>\n",
       "      <td>16</td>\n",
       "      <td>16</td>\n",
       "      <td>16</td>\n",
       "      <td>16</td>\n",
       "      <td>16</td>\n",
       "      <td>16</td>\n",
       "      <td>...</td>\n",
       "      <td>16</td>\n",
       "      <td>16</td>\n",
       "      <td>16</td>\n",
       "      <td>16</td>\n",
       "      <td>16</td>\n",
       "      <td>16</td>\n",
       "      <td>16</td>\n",
       "      <td>16</td>\n",
       "      <td>16</td>\n",
       "      <td>16</td>\n",
       "    </tr>\n",
       "    <tr>\n",
       "      <th>2017-01-31</th>\n",
       "      <td>14</td>\n",
       "      <td>14</td>\n",
       "      <td>14</td>\n",
       "      <td>14</td>\n",
       "      <td>14</td>\n",
       "      <td>14</td>\n",
       "      <td>14</td>\n",
       "      <td>14</td>\n",
       "      <td>14</td>\n",
       "      <td>14</td>\n",
       "      <td>...</td>\n",
       "      <td>14</td>\n",
       "      <td>14</td>\n",
       "      <td>14</td>\n",
       "      <td>14</td>\n",
       "      <td>14</td>\n",
       "      <td>14</td>\n",
       "      <td>14</td>\n",
       "      <td>14</td>\n",
       "      <td>14</td>\n",
       "      <td>14</td>\n",
       "    </tr>\n",
       "    <tr>\n",
       "      <th>2017-02-28</th>\n",
       "      <td>11</td>\n",
       "      <td>11</td>\n",
       "      <td>11</td>\n",
       "      <td>11</td>\n",
       "      <td>11</td>\n",
       "      <td>11</td>\n",
       "      <td>11</td>\n",
       "      <td>11</td>\n",
       "      <td>11</td>\n",
       "      <td>11</td>\n",
       "      <td>...</td>\n",
       "      <td>11</td>\n",
       "      <td>11</td>\n",
       "      <td>11</td>\n",
       "      <td>11</td>\n",
       "      <td>11</td>\n",
       "      <td>11</td>\n",
       "      <td>11</td>\n",
       "      <td>11</td>\n",
       "      <td>11</td>\n",
       "      <td>11</td>\n",
       "    </tr>\n",
       "    <tr>\n",
       "      <th>2017-03-31</th>\n",
       "      <td>0</td>\n",
       "      <td>0</td>\n",
       "      <td>0</td>\n",
       "      <td>0</td>\n",
       "      <td>0</td>\n",
       "      <td>0</td>\n",
       "      <td>0</td>\n",
       "      <td>0</td>\n",
       "      <td>0</td>\n",
       "      <td>0</td>\n",
       "      <td>...</td>\n",
       "      <td>0</td>\n",
       "      <td>0</td>\n",
       "      <td>0</td>\n",
       "      <td>0</td>\n",
       "      <td>0</td>\n",
       "      <td>0</td>\n",
       "      <td>0</td>\n",
       "      <td>0</td>\n",
       "      <td>0</td>\n",
       "      <td>0</td>\n",
       "    </tr>\n",
       "    <tr>\n",
       "      <th>2017-04-30</th>\n",
       "      <td>3</td>\n",
       "      <td>3</td>\n",
       "      <td>3</td>\n",
       "      <td>3</td>\n",
       "      <td>3</td>\n",
       "      <td>3</td>\n",
       "      <td>3</td>\n",
       "      <td>3</td>\n",
       "      <td>3</td>\n",
       "      <td>3</td>\n",
       "      <td>...</td>\n",
       "      <td>3</td>\n",
       "      <td>3</td>\n",
       "      <td>3</td>\n",
       "      <td>3</td>\n",
       "      <td>3</td>\n",
       "      <td>3</td>\n",
       "      <td>3</td>\n",
       "      <td>3</td>\n",
       "      <td>3</td>\n",
       "      <td>3</td>\n",
       "    </tr>\n",
       "  </tbody>\n",
       "</table>\n",
       "<p>7 rows × 50 columns</p>\n",
       "</div>"
      ],
      "text/plain": [
       "            gmTime  seasTyp  playLNm  playFNm  teamAbbr  teamConf  teamDiv  \\\n",
       "gmDate                                                                       \n",
       "2016-10-31       3        3        3        3         3         3        3   \n",
       "2016-11-30      15       15       15       15        15        15       15   \n",
       "2016-12-31      16       16       16       16        16        16       16   \n",
       "2017-01-31      14       14       14       14        14        14       14   \n",
       "2017-02-28      11       11       11       11        11        11       11   \n",
       "2017-03-31       0        0        0        0         0         0        0   \n",
       "2017-04-30       3        3        3        3         3         3        3   \n",
       "\n",
       "            teamLoc  teamRslt  teamDayOff     ...      playFT%  playORB  \\\n",
       "gmDate                                        ...                         \n",
       "2016-10-31        3         3           3     ...            3        3   \n",
       "2016-11-30       15        15          15     ...           15       15   \n",
       "2016-12-31       16        16          16     ...           16       16   \n",
       "2017-01-31       14        14          14     ...           14       14   \n",
       "2017-02-28       11        11          11     ...           11       11   \n",
       "2017-03-31        0         0           0     ...            0        0   \n",
       "2017-04-30        3         3           3     ...            3        3   \n",
       "\n",
       "            playDRB  playTRB  opptAbbr  opptConf  opptDiv  opptLoc  opptRslt  \\\n",
       "gmDate                                                                         \n",
       "2016-10-31        3        3         3         3        3        3         3   \n",
       "2016-11-30       15       15        15        15       15       15        15   \n",
       "2016-12-31       16       16        16        16       16       16        16   \n",
       "2017-01-31       14       14        14        14       14       14        14   \n",
       "2017-02-28       11       11        11        11       11       11        11   \n",
       "2017-03-31        0        0         0         0        0        0         0   \n",
       "2017-04-30        3        3         3         3        3        3         3   \n",
       "\n",
       "            opptDayOff  \n",
       "gmDate                  \n",
       "2016-10-31           3  \n",
       "2016-11-30          15  \n",
       "2016-12-31          16  \n",
       "2017-01-31          14  \n",
       "2017-02-28          11  \n",
       "2017-03-31           0  \n",
       "2017-04-30           3  \n",
       "\n",
       "[7 rows x 50 columns]"
      ]
     },
     "execution_count": 44,
     "metadata": {},
     "output_type": "execute_result"
    }
   ],
   "source": [
    "durant_game.groupby([pd.Grouper(key=\"gmDate\", freq=\"M\")]).count()"
   ]
  },
  {
   "cell_type": "markdown",
   "metadata": {
    "collapsed": true
   },
   "source": [
    "Lets look at this as home versus away... "
   ]
  },
  {
   "cell_type": "code",
   "execution_count": 46,
   "metadata": {},
   "outputs": [
    {
     "data": {
      "text/html": [
       "<div>\n",
       "<style scoped>\n",
       "    .dataframe tbody tr th:only-of-type {\n",
       "        vertical-align: middle;\n",
       "    }\n",
       "\n",
       "    .dataframe tbody tr th {\n",
       "        vertical-align: top;\n",
       "    }\n",
       "\n",
       "    .dataframe thead th {\n",
       "        text-align: right;\n",
       "    }\n",
       "</style>\n",
       "<table border=\"1\" class=\"dataframe\">\n",
       "  <thead>\n",
       "    <tr style=\"text-align: right;\">\n",
       "      <th></th>\n",
       "      <th></th>\n",
       "      <th>teamDayOff</th>\n",
       "      <th>playMin</th>\n",
       "      <th>playHeight</th>\n",
       "      <th>playWeight</th>\n",
       "      <th>playPTS</th>\n",
       "      <th>playAST</th>\n",
       "      <th>playTO</th>\n",
       "      <th>playSTL</th>\n",
       "      <th>playBLK</th>\n",
       "      <th>playPF</th>\n",
       "      <th>...</th>\n",
       "      <th>play3PA</th>\n",
       "      <th>play3PM</th>\n",
       "      <th>play3P%</th>\n",
       "      <th>playFTA</th>\n",
       "      <th>playFTM</th>\n",
       "      <th>playFT%</th>\n",
       "      <th>playORB</th>\n",
       "      <th>playDRB</th>\n",
       "      <th>playTRB</th>\n",
       "      <th>opptDayOff</th>\n",
       "    </tr>\n",
       "    <tr>\n",
       "      <th>gmDate</th>\n",
       "      <th>teamLoc</th>\n",
       "      <th></th>\n",
       "      <th></th>\n",
       "      <th></th>\n",
       "      <th></th>\n",
       "      <th></th>\n",
       "      <th></th>\n",
       "      <th></th>\n",
       "      <th></th>\n",
       "      <th></th>\n",
       "      <th></th>\n",
       "      <th></th>\n",
       "      <th></th>\n",
       "      <th></th>\n",
       "      <th></th>\n",
       "      <th></th>\n",
       "      <th></th>\n",
       "      <th></th>\n",
       "      <th></th>\n",
       "      <th></th>\n",
       "      <th></th>\n",
       "      <th></th>\n",
       "    </tr>\n",
       "  </thead>\n",
       "  <tbody>\n",
       "    <tr>\n",
       "      <th rowspan=\"2\" valign=\"top\">2016-10-31</th>\n",
       "      <th>Away</th>\n",
       "      <td>1.500000</td>\n",
       "      <td>38.500000</td>\n",
       "      <td>81.0</td>\n",
       "      <td>225.0</td>\n",
       "      <td>33.500000</td>\n",
       "      <td>5.000000</td>\n",
       "      <td>3.000000</td>\n",
       "      <td>3.000000</td>\n",
       "      <td>1.500000</td>\n",
       "      <td>2.000000</td>\n",
       "      <td>...</td>\n",
       "      <td>3.500000</td>\n",
       "      <td>1.000000</td>\n",
       "      <td>0.250000</td>\n",
       "      <td>14.000000</td>\n",
       "      <td>13.500000</td>\n",
       "      <td>0.968750</td>\n",
       "      <td>0.000000</td>\n",
       "      <td>10.500000</td>\n",
       "      <td>10.500000</td>\n",
       "      <td>1.500000</td>\n",
       "    </tr>\n",
       "    <tr>\n",
       "      <th>Home</th>\n",
       "      <td>0.000000</td>\n",
       "      <td>37.000000</td>\n",
       "      <td>81.0</td>\n",
       "      <td>225.0</td>\n",
       "      <td>27.000000</td>\n",
       "      <td>4.000000</td>\n",
       "      <td>0.000000</td>\n",
       "      <td>2.000000</td>\n",
       "      <td>2.000000</td>\n",
       "      <td>2.000000</td>\n",
       "      <td>...</td>\n",
       "      <td>3.000000</td>\n",
       "      <td>1.000000</td>\n",
       "      <td>0.333300</td>\n",
       "      <td>5.000000</td>\n",
       "      <td>4.000000</td>\n",
       "      <td>0.800000</td>\n",
       "      <td>0.000000</td>\n",
       "      <td>10.000000</td>\n",
       "      <td>10.000000</td>\n",
       "      <td>0.000000</td>\n",
       "    </tr>\n",
       "    <tr>\n",
       "      <th rowspan=\"2\" valign=\"top\">2016-11-30</th>\n",
       "      <th>Away</th>\n",
       "      <td>1.500000</td>\n",
       "      <td>32.625000</td>\n",
       "      <td>81.0</td>\n",
       "      <td>225.0</td>\n",
       "      <td>24.250000</td>\n",
       "      <td>5.375000</td>\n",
       "      <td>1.750000</td>\n",
       "      <td>2.000000</td>\n",
       "      <td>1.250000</td>\n",
       "      <td>2.375000</td>\n",
       "      <td>...</td>\n",
       "      <td>4.750000</td>\n",
       "      <td>1.875000</td>\n",
       "      <td>0.343750</td>\n",
       "      <td>5.875000</td>\n",
       "      <td>4.375000</td>\n",
       "      <td>0.752375</td>\n",
       "      <td>1.000000</td>\n",
       "      <td>6.625000</td>\n",
       "      <td>7.625000</td>\n",
       "      <td>1.875000</td>\n",
       "    </tr>\n",
       "    <tr>\n",
       "      <th>Home</th>\n",
       "      <td>2.000000</td>\n",
       "      <td>35.000000</td>\n",
       "      <td>81.0</td>\n",
       "      <td>225.0</td>\n",
       "      <td>28.428571</td>\n",
       "      <td>4.000000</td>\n",
       "      <td>3.000000</td>\n",
       "      <td>0.571429</td>\n",
       "      <td>2.000000</td>\n",
       "      <td>1.857143</td>\n",
       "      <td>...</td>\n",
       "      <td>5.428571</td>\n",
       "      <td>2.857143</td>\n",
       "      <td>0.491586</td>\n",
       "      <td>5.571429</td>\n",
       "      <td>5.000000</td>\n",
       "      <td>0.871429</td>\n",
       "      <td>0.857143</td>\n",
       "      <td>7.571429</td>\n",
       "      <td>8.428571</td>\n",
       "      <td>1.142857</td>\n",
       "    </tr>\n",
       "    <tr>\n",
       "      <th rowspan=\"2\" valign=\"top\">2016-12-31</th>\n",
       "      <th>Away</th>\n",
       "      <td>1.000000</td>\n",
       "      <td>34.625000</td>\n",
       "      <td>81.0</td>\n",
       "      <td>225.0</td>\n",
       "      <td>25.125000</td>\n",
       "      <td>4.125000</td>\n",
       "      <td>1.750000</td>\n",
       "      <td>0.875000</td>\n",
       "      <td>1.000000</td>\n",
       "      <td>2.500000</td>\n",
       "      <td>...</td>\n",
       "      <td>5.000000</td>\n",
       "      <td>1.625000</td>\n",
       "      <td>0.344938</td>\n",
       "      <td>7.125000</td>\n",
       "      <td>6.250000</td>\n",
       "      <td>0.852963</td>\n",
       "      <td>0.125000</td>\n",
       "      <td>8.500000</td>\n",
       "      <td>8.625000</td>\n",
       "      <td>1.750000</td>\n",
       "    </tr>\n",
       "    <tr>\n",
       "      <th>Home</th>\n",
       "      <td>2.375000</td>\n",
       "      <td>33.125000</td>\n",
       "      <td>81.0</td>\n",
       "      <td>225.0</td>\n",
       "      <td>23.875000</td>\n",
       "      <td>5.500000</td>\n",
       "      <td>2.875000</td>\n",
       "      <td>0.625000</td>\n",
       "      <td>2.000000</td>\n",
       "      <td>1.750000</td>\n",
       "      <td>...</td>\n",
       "      <td>4.750000</td>\n",
       "      <td>1.750000</td>\n",
       "      <td>0.390637</td>\n",
       "      <td>6.125000</td>\n",
       "      <td>5.375000</td>\n",
       "      <td>0.727087</td>\n",
       "      <td>0.625000</td>\n",
       "      <td>9.750000</td>\n",
       "      <td>10.375000</td>\n",
       "      <td>1.875000</td>\n",
       "    </tr>\n",
       "    <tr>\n",
       "      <th rowspan=\"2\" valign=\"top\">2017-01-31</th>\n",
       "      <th>Away</th>\n",
       "      <td>1.166667</td>\n",
       "      <td>34.666667</td>\n",
       "      <td>81.0</td>\n",
       "      <td>225.0</td>\n",
       "      <td>28.000000</td>\n",
       "      <td>5.000000</td>\n",
       "      <td>3.000000</td>\n",
       "      <td>1.166667</td>\n",
       "      <td>2.166667</td>\n",
       "      <td>1.833333</td>\n",
       "      <td>...</td>\n",
       "      <td>5.500000</td>\n",
       "      <td>1.333333</td>\n",
       "      <td>0.272817</td>\n",
       "      <td>6.500000</td>\n",
       "      <td>6.000000</td>\n",
       "      <td>0.924333</td>\n",
       "      <td>0.500000</td>\n",
       "      <td>6.500000</td>\n",
       "      <td>7.000000</td>\n",
       "      <td>1.666667</td>\n",
       "    </tr>\n",
       "    <tr>\n",
       "      <th>Home</th>\n",
       "      <td>2.375000</td>\n",
       "      <td>34.375000</td>\n",
       "      <td>81.0</td>\n",
       "      <td>225.0</td>\n",
       "      <td>26.875000</td>\n",
       "      <td>4.375000</td>\n",
       "      <td>2.000000</td>\n",
       "      <td>1.000000</td>\n",
       "      <td>2.000000</td>\n",
       "      <td>1.375000</td>\n",
       "      <td>...</td>\n",
       "      <td>5.750000</td>\n",
       "      <td>2.625000</td>\n",
       "      <td>0.452238</td>\n",
       "      <td>5.750000</td>\n",
       "      <td>5.000000</td>\n",
       "      <td>0.702775</td>\n",
       "      <td>0.875000</td>\n",
       "      <td>6.250000</td>\n",
       "      <td>7.125000</td>\n",
       "      <td>2.500000</td>\n",
       "    </tr>\n",
       "    <tr>\n",
       "      <th rowspan=\"2\" valign=\"top\">2017-02-28</th>\n",
       "      <th>Away</th>\n",
       "      <td>1.285714</td>\n",
       "      <td>29.428571</td>\n",
       "      <td>81.0</td>\n",
       "      <td>225.0</td>\n",
       "      <td>20.857143</td>\n",
       "      <td>4.000000</td>\n",
       "      <td>2.142857</td>\n",
       "      <td>0.571429</td>\n",
       "      <td>1.285714</td>\n",
       "      <td>1.857143</td>\n",
       "      <td>...</td>\n",
       "      <td>4.857143</td>\n",
       "      <td>1.571429</td>\n",
       "      <td>0.276529</td>\n",
       "      <td>7.142857</td>\n",
       "      <td>6.428571</td>\n",
       "      <td>0.793129</td>\n",
       "      <td>0.714286</td>\n",
       "      <td>5.428571</td>\n",
       "      <td>6.142857</td>\n",
       "      <td>1.571429</td>\n",
       "    </tr>\n",
       "    <tr>\n",
       "      <th>Home</th>\n",
       "      <td>4.250000</td>\n",
       "      <td>32.500000</td>\n",
       "      <td>81.0</td>\n",
       "      <td>225.0</td>\n",
       "      <td>21.500000</td>\n",
       "      <td>7.250000</td>\n",
       "      <td>1.500000</td>\n",
       "      <td>1.500000</td>\n",
       "      <td>1.500000</td>\n",
       "      <td>1.250000</td>\n",
       "      <td>...</td>\n",
       "      <td>4.750000</td>\n",
       "      <td>1.750000</td>\n",
       "      <td>0.389900</td>\n",
       "      <td>3.000000</td>\n",
       "      <td>2.750000</td>\n",
       "      <td>0.708325</td>\n",
       "      <td>0.750000</td>\n",
       "      <td>9.250000</td>\n",
       "      <td>10.000000</td>\n",
       "      <td>3.000000</td>\n",
       "    </tr>\n",
       "    <tr>\n",
       "      <th>2017-04-30</th>\n",
       "      <th>Home</th>\n",
       "      <td>2.333333</td>\n",
       "      <td>30.333333</td>\n",
       "      <td>81.0</td>\n",
       "      <td>225.0</td>\n",
       "      <td>20.333333</td>\n",
       "      <td>5.666667</td>\n",
       "      <td>1.666667</td>\n",
       "      <td>0.666667</td>\n",
       "      <td>0.666667</td>\n",
       "      <td>1.666667</td>\n",
       "      <td>...</td>\n",
       "      <td>5.333333</td>\n",
       "      <td>1.666667</td>\n",
       "      <td>0.238100</td>\n",
       "      <td>4.000000</td>\n",
       "      <td>3.333333</td>\n",
       "      <td>0.833333</td>\n",
       "      <td>0.333333</td>\n",
       "      <td>9.000000</td>\n",
       "      <td>9.333333</td>\n",
       "      <td>1.333333</td>\n",
       "    </tr>\n",
       "  </tbody>\n",
       "</table>\n",
       "<p>11 rows × 26 columns</p>\n",
       "</div>"
      ],
      "text/plain": [
       "                    teamDayOff    playMin  playHeight  playWeight    playPTS  \\\n",
       "gmDate     teamLoc                                                             \n",
       "2016-10-31 Away       1.500000  38.500000        81.0       225.0  33.500000   \n",
       "           Home       0.000000  37.000000        81.0       225.0  27.000000   \n",
       "2016-11-30 Away       1.500000  32.625000        81.0       225.0  24.250000   \n",
       "           Home       2.000000  35.000000        81.0       225.0  28.428571   \n",
       "2016-12-31 Away       1.000000  34.625000        81.0       225.0  25.125000   \n",
       "           Home       2.375000  33.125000        81.0       225.0  23.875000   \n",
       "2017-01-31 Away       1.166667  34.666667        81.0       225.0  28.000000   \n",
       "           Home       2.375000  34.375000        81.0       225.0  26.875000   \n",
       "2017-02-28 Away       1.285714  29.428571        81.0       225.0  20.857143   \n",
       "           Home       4.250000  32.500000        81.0       225.0  21.500000   \n",
       "2017-04-30 Home       2.333333  30.333333        81.0       225.0  20.333333   \n",
       "\n",
       "                     playAST    playTO   playSTL   playBLK    playPF  \\\n",
       "gmDate     teamLoc                                                     \n",
       "2016-10-31 Away     5.000000  3.000000  3.000000  1.500000  2.000000   \n",
       "           Home     4.000000  0.000000  2.000000  2.000000  2.000000   \n",
       "2016-11-30 Away     5.375000  1.750000  2.000000  1.250000  2.375000   \n",
       "           Home     4.000000  3.000000  0.571429  2.000000  1.857143   \n",
       "2016-12-31 Away     4.125000  1.750000  0.875000  1.000000  2.500000   \n",
       "           Home     5.500000  2.875000  0.625000  2.000000  1.750000   \n",
       "2017-01-31 Away     5.000000  3.000000  1.166667  2.166667  1.833333   \n",
       "           Home     4.375000  2.000000  1.000000  2.000000  1.375000   \n",
       "2017-02-28 Away     4.000000  2.142857  0.571429  1.285714  1.857143   \n",
       "           Home     7.250000  1.500000  1.500000  1.500000  1.250000   \n",
       "2017-04-30 Home     5.666667  1.666667  0.666667  0.666667  1.666667   \n",
       "\n",
       "                       ...       play3PA   play3PM   play3P%    playFTA  \\\n",
       "gmDate     teamLoc     ...                                                \n",
       "2016-10-31 Away        ...      3.500000  1.000000  0.250000  14.000000   \n",
       "           Home        ...      3.000000  1.000000  0.333300   5.000000   \n",
       "2016-11-30 Away        ...      4.750000  1.875000  0.343750   5.875000   \n",
       "           Home        ...      5.428571  2.857143  0.491586   5.571429   \n",
       "2016-12-31 Away        ...      5.000000  1.625000  0.344938   7.125000   \n",
       "           Home        ...      4.750000  1.750000  0.390637   6.125000   \n",
       "2017-01-31 Away        ...      5.500000  1.333333  0.272817   6.500000   \n",
       "           Home        ...      5.750000  2.625000  0.452238   5.750000   \n",
       "2017-02-28 Away        ...      4.857143  1.571429  0.276529   7.142857   \n",
       "           Home        ...      4.750000  1.750000  0.389900   3.000000   \n",
       "2017-04-30 Home        ...      5.333333  1.666667  0.238100   4.000000   \n",
       "\n",
       "                      playFTM   playFT%   playORB    playDRB    playTRB  \\\n",
       "gmDate     teamLoc                                                        \n",
       "2016-10-31 Away     13.500000  0.968750  0.000000  10.500000  10.500000   \n",
       "           Home      4.000000  0.800000  0.000000  10.000000  10.000000   \n",
       "2016-11-30 Away      4.375000  0.752375  1.000000   6.625000   7.625000   \n",
       "           Home      5.000000  0.871429  0.857143   7.571429   8.428571   \n",
       "2016-12-31 Away      6.250000  0.852963  0.125000   8.500000   8.625000   \n",
       "           Home      5.375000  0.727087  0.625000   9.750000  10.375000   \n",
       "2017-01-31 Away      6.000000  0.924333  0.500000   6.500000   7.000000   \n",
       "           Home      5.000000  0.702775  0.875000   6.250000   7.125000   \n",
       "2017-02-28 Away      6.428571  0.793129  0.714286   5.428571   6.142857   \n",
       "           Home      2.750000  0.708325  0.750000   9.250000  10.000000   \n",
       "2017-04-30 Home      3.333333  0.833333  0.333333   9.000000   9.333333   \n",
       "\n",
       "                    opptDayOff  \n",
       "gmDate     teamLoc              \n",
       "2016-10-31 Away       1.500000  \n",
       "           Home       0.000000  \n",
       "2016-11-30 Away       1.875000  \n",
       "           Home       1.142857  \n",
       "2016-12-31 Away       1.750000  \n",
       "           Home       1.875000  \n",
       "2017-01-31 Away       1.666667  \n",
       "           Home       2.500000  \n",
       "2017-02-28 Away       1.571429  \n",
       "           Home       3.000000  \n",
       "2017-04-30 Home       1.333333  \n",
       "\n",
       "[11 rows x 26 columns]"
      ]
     },
     "execution_count": 46,
     "metadata": {},
     "output_type": "execute_result"
    }
   ],
   "source": [
    "durant_game.groupby([pd.Grouper(key=\"gmDate\", freq=\"M\"), \"teamLoc\"]).mean()"
   ]
  },
  {
   "cell_type": "markdown",
   "metadata": {},
   "source": [
    "Just to practice...lets plot some of this stuff"
   ]
  },
  {
   "cell_type": "code",
   "execution_count": 99,
   "metadata": {},
   "outputs": [
    {
     "data": {
      "image/png": "[encoded data removed]",
      "text/plain": [
       "<matplotlib.figure.Figure at 0xfcc06cdc18>"
      ]
     },
     "metadata": {},
     "output_type": "display_data"
    }
   ],
   "source": [
    "df = durant_game.groupby([pd.Grouper(key=\"gmDate\", freq=\"M\")]).mean()\n",
    "\n",
    "months = [\"Oct\", \"Nov\", \"Dec\", \"Jan\", \"Feb\", \"Mar\", \"Apr\"]\n",
    "\n",
    "fix, ax = plt.subplots()\n",
    "\n",
    "width = 20\n",
    "\n",
    "ax.bar(df.index, df.playPTS, width)\n",
    "\n",
    "ax.set_xticklabels(months)\n",
    "\n",
    "ax.set_ylim(15,35)\n",
    "\n",
    "plt.show()"
   ]
  },
  {
   "cell_type": "code",
   "execution_count": 94,
   "metadata": {},
   "outputs": [
    {
     "data": {
      "image/png": "[encoded data removed]",
      "text/plain": [
       "<matplotlib.figure.Figure at 0xfcbe4ba320>"
      ]
     },
     "metadata": {},
     "output_type": "display_data"
    }
   ],
   "source": [
    "df = durant_game.groupby([\"teamLoc\", pd.Grouper(key=\"gmDate\", freq=\"M\")]).mean()\n",
    "\n",
    "width = 10\n",
    "\n",
    "fix, ax = plt.subplots()\n",
    "\n",
    "ax.bar(df.loc[\"Home\"].index - datetime.timedelta(5), df.loc[\"Home\"].playPTS, width)\n",
    "\n",
    "ax.bar(df.loc[\"Away\"].index + datetime.timedelta(5), df.loc[\"Away\"].playPTS, width)\n",
    "\n",
    "ax.set_xticklabels(months)\n",
    "\n",
    "ax.set_ylim(15,35)\n",
    "\n",
    "plt.show()"
   ]
  },
  {
   "cell_type": "code",
   "execution_count": 85,
   "metadata": {},
   "outputs": [
    {
     "data": {
      "text/plain": [
       "DatetimeIndex(['2016-11-10', '2016-12-10', '2017-01-10', '2017-02-10',\n",
       "               '2017-03-10'],\n",
       "              dtype='datetime64[ns]', name='gmDate', freq=None)"
      ]
     },
     "execution_count": 85,
     "metadata": {},
     "output_type": "execute_result"
    }
   ],
   "source": [
    "df.loc[\"Away\"].index + datetime.timedelta(10)"
   ]
  },
  {
   "cell_type": "code",
   "execution_count": null,
   "metadata": {
    "collapsed": true
   },
   "outputs": [],
   "source": []
  }
 ],
 "metadata": {
  "anaconda-cloud": {},
  "hide_input": false,
  "kernelspec": {
   "display_name": "Python 3",
   "language": "python",
   "name": "python3"
  },
  "language_info": {
   "codemirror_mode": {
    "name": "ipython",
    "version": 3
   },
   "file_extension": ".py",
   "mimetype": "text/x-python",
   "name": "python",
   "nbconvert_exporter": "python",
   "pygments_lexer": "ipython3",
   "version": "3.7.1"
  }
 },
 "nbformat": 4,
 "nbformat_minor": 2
}
