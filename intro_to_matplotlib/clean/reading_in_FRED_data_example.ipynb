{
 "cells": [
  {
   "cell_type": "markdown",
   "metadata": {},
   "source": [
    "### Grabbing the Data from FRED"
   ]
  },
  {
   "cell_type": "code",
   "execution_count": 4,
   "metadata": {},
   "outputs": [],
   "source": [
    "import pandas as pd                 # Our pandas package\n",
    "from pandas_datareader import data  # This is will give us access to FRED\n",
    "import datetime as dt               # This will get us the datatime package\n",
    "import matplotlib.pyplot as plt     # The new package we are learning about Matplotlib\n",
    "                                    # pyplot is just one module of many in this library"
   ]
  },
  {
   "cell_type": "markdown",
   "metadata": {},
   "source": [
    "### Getting the Data and Getting it Ready\n",
    "\n",
    "Now that we have our packages imported, we want to read in the data. We will use FRED to do so. Recall that we need to provide FRED a start date and then the codes for the data series that we want.\n"
   ]
  },
  {
   "cell_type": "code",
   "execution_count": 5,
   "metadata": {},
   "outputs": [],
   "source": [
    "start = dt.datetime(2000,1,1) # Our start date\n",
    "\n",
    "codes = [\"GDPC1\", \"PCECC96\", \"GPDIC1\", \"GCEC1\",\"EXPGSC1\",\"IMPGSC1\"] # Our codes"
   ]
  },
  {
   "cell_type": "markdown",
   "metadata": {},
   "source": [
    "- These codes will give us (quarterly, seasonally adjusted) real gdp, consumption, investment, government expenditures, then net-exports. In other words, we have all the data series that go into the Y = C + I + G + NX identitiy. \n",
    "- Here is a [nice intro to FRED doing a similar excercise.](https://www.stlouisfed.org/~/media/Education/Lessons/pdf/FRED-GDP-Stacking.pdf)"
   ]
  },
  {
   "cell_type": "code",
   "execution_count": 6,
   "metadata": {},
   "outputs": [],
   "source": [
    "usdata = data.DataReader(codes, \"fred\", start)                 # Read  in the data\n",
    "\n",
    "usdata.columns = [\"gdp\", \"cons\",\"invs\", \"gov\", \"exp\", \"imp\"]   # Rename the columns in a simple way\n",
    "\n",
    "usdata[\"nx\"] = usdata.exp - usdata.imp                         # Create the net exports column\n"
   ]
  },
  {
   "cell_type": "markdown",
   "metadata": {},
   "source": [
    "Just a recap...everything we did above should seem familiar. We read in data using the pandas DataReater. We used our pandas knowledge to rename the columns. Then we created a column by performing an operation on two of the data series.\n",
    "\n",
    "##### Checking the data. \n",
    "\n",
    "Before we go anyfurther, I'm going to do a couple of \"sanity checks\" of the data. That is, I want to check, look at the data to see if it is consistent with what I'm expecting it to be. In this case, I'm going to look at (i) the consumption share of GDP and (ii) see if (Y- C+I+G+NX)/Y is close to zero (if you are not following along, why does this make sense?). Then my favorite command is to check out the head."
   ]
  },
  {
   "cell_type": "code",
   "execution_count": 7,
   "metadata": {},
   "outputs": [
    {
     "data": {
      "text/html": [
       "<div>\n",
       "<style scoped>\n",
       "    .dataframe tbody tr th:only-of-type {\n",
       "        vertical-align: middle;\n",
       "    }\n",
       "\n",
       "    .dataframe tbody tr th {\n",
       "        vertical-align: top;\n",
       "    }\n",
       "\n",
       "    .dataframe thead th {\n",
       "        text-align: right;\n",
       "    }\n",
       "</style>\n",
       "<table border=\"1\" class=\"dataframe\">\n",
       "  <thead>\n",
       "    <tr style=\"text-align: right;\">\n",
       "      <th></th>\n",
       "      <th>gdp</th>\n",
       "      <th>cons</th>\n",
       "      <th>invs</th>\n",
       "      <th>gov</th>\n",
       "      <th>exp</th>\n",
       "      <th>imp</th>\n",
       "      <th>nx</th>\n",
       "      <th>cons_share</th>\n",
       "      <th>stat_des</th>\n",
       "    </tr>\n",
       "    <tr>\n",
       "      <th>DATE</th>\n",
       "      <th></th>\n",
       "      <th></th>\n",
       "      <th></th>\n",
       "      <th></th>\n",
       "      <th></th>\n",
       "      <th></th>\n",
       "      <th></th>\n",
       "      <th></th>\n",
       "      <th></th>\n",
       "    </tr>\n",
       "  </thead>\n",
       "  <tbody>\n",
       "    <tr>\n",
       "      <th>2000-01-01</th>\n",
       "      <td>12924.179</td>\n",
       "      <td>8520.710</td>\n",
       "      <td>2257.109</td>\n",
       "      <td>2645.393</td>\n",
       "      <td>1337.203</td>\n",
       "      <td>1853.884</td>\n",
       "      <td>-516.681</td>\n",
       "      <td>0.659284</td>\n",
       "      <td>0.001366</td>\n",
       "    </tr>\n",
       "    <tr>\n",
       "      <th>2000-04-01</th>\n",
       "      <td>13160.842</td>\n",
       "      <td>8603.007</td>\n",
       "      <td>2390.733</td>\n",
       "      <td>2671.254</td>\n",
       "      <td>1375.203</td>\n",
       "      <td>1911.437</td>\n",
       "      <td>-536.234</td>\n",
       "      <td>0.653682</td>\n",
       "      <td>0.002438</td>\n",
       "    </tr>\n",
       "    <tr>\n",
       "      <th>2000-07-01</th>\n",
       "      <td>13178.419</td>\n",
       "      <td>8687.485</td>\n",
       "      <td>2367.274</td>\n",
       "      <td>2659.687</td>\n",
       "      <td>1408.783</td>\n",
       "      <td>1978.137</td>\n",
       "      <td>-569.354</td>\n",
       "      <td>0.659221</td>\n",
       "      <td>0.002529</td>\n",
       "    </tr>\n",
       "    <tr>\n",
       "      <th>2000-10-01</th>\n",
       "      <td>13260.506</td>\n",
       "      <td>8762.205</td>\n",
       "      <td>2371.809</td>\n",
       "      <td>2675.695</td>\n",
       "      <td>1396.844</td>\n",
       "      <td>1977.750</td>\n",
       "      <td>-580.906</td>\n",
       "      <td>0.660775</td>\n",
       "      <td>0.002391</td>\n",
       "    </tr>\n",
       "    <tr>\n",
       "      <th>2001-01-01</th>\n",
       "      <td>13222.690</td>\n",
       "      <td>8797.280</td>\n",
       "      <td>2264.202</td>\n",
       "      <td>2716.773</td>\n",
       "      <td>1376.171</td>\n",
       "      <td>1946.136</td>\n",
       "      <td>-569.965</td>\n",
       "      <td>0.665317</td>\n",
       "      <td>0.001089</td>\n",
       "    </tr>\n",
       "  </tbody>\n",
       "</table>\n",
       "</div>"
      ],
      "text/plain": [
       "                  gdp      cons      invs       gov       exp       imp  \\\n",
       "DATE                                                                      \n",
       "2000-01-01  12924.179  8520.710  2257.109  2645.393  1337.203  1853.884   \n",
       "2000-04-01  13160.842  8603.007  2390.733  2671.254  1375.203  1911.437   \n",
       "2000-07-01  13178.419  8687.485  2367.274  2659.687  1408.783  1978.137   \n",
       "2000-10-01  13260.506  8762.205  2371.809  2675.695  1396.844  1977.750   \n",
       "2001-01-01  13222.690  8797.280  2264.202  2716.773  1376.171  1946.136   \n",
       "\n",
       "                 nx  cons_share  stat_des  \n",
       "DATE                                       \n",
       "2000-01-01 -516.681    0.659284  0.001366  \n",
       "2000-04-01 -536.234    0.653682  0.002438  \n",
       "2000-07-01 -569.354    0.659221  0.002529  \n",
       "2000-10-01 -580.906    0.660775  0.002391  \n",
       "2001-01-01 -569.965    0.665317  0.001089  "
      ]
     },
     "execution_count": 7,
     "metadata": {},
     "output_type": "execute_result"
    }
   ],
   "source": [
    "usdata[\"cons_share\"] = usdata.cons / usdata.gdp # Consumption share \n",
    "usdata[\"stat_des\"] = (usdata.gdp - usdata.cons - usdata.invs - usdata.gov - usdata.nx)/usdata.gdp # Does GDP match up?\n",
    "usdata.head() # Look at it"
   ]
  },
  {
   "cell_type": "markdown",
   "metadata": {},
   "source": [
    "Everything looks good!\n",
    "\n",
    "Now I'm going to set stuff up so it is ready to plot.\n",
    "\n",
    "First, I want to express and plot stuff as growth rates, so I'm going to create a new column with the data sereis in percent changes...note below, the percent change is doing quarter to quarter, to annualize the growth rate, multiply it by four...then times it by 100.\n",
    "\n",
    "Now, to automate things...note what I did: (i) I created a variable list of the things I care about (ii) when through a for loop and created a `new_name` which is simply the varible name with `_growth` added to it then (iii) then compute the annulized percent change and assined it to a new column with the new name."
   ]
  },
  {
   "cell_type": "code",
   "execution_count": null,
   "metadata": {},
   "outputs": [],
   "source": []
  },
  {
   "cell_type": "code",
   "execution_count": null,
   "metadata": {},
   "outputs": [],
   "source": []
  }
 ],
 "metadata": {
  "hide_input": false,
  "kernelspec": {
   "display_name": "Python 3",
   "language": "python",
   "name": "python3"
  },
  "language_info": {
   "codemirror_mode": {
    "name": "ipython",
    "version": 3
   },
   "file_extension": ".py",
   "mimetype": "text/x-python",
   "name": "python",
   "nbconvert_exporter": "python",
   "pygments_lexer": "ipython3",
   "version": "3.6.7"
  }
 },
 "nbformat": 4,
 "nbformat_minor": 2
}
