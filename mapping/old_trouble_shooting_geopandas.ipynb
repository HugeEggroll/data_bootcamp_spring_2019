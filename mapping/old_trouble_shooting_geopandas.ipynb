{
 "cells": [
  {
   "cell_type": "markdown",
   "metadata": {},
   "source": [
    "Trouble Shooting\n",
    "\n",
    "#### FOR MAC USERS \n",
    "The steps below appear to have had success. \n",
    "\n",
    "- **Step 1.** **ONLY IF MAC** Try `pip install geopandas`. If no error messages are kicked back, try to run the preamble below.\n",
    "\n",
    "If this does not work. Then several solutions will be proposed. **DO NOT** follow the Window's path as it may break your environment.\n",
    "\n",
    "#### FOR WINDOWS USERS \n",
    "\n",
    "- **Step 1.** First, in the terminal add \n",
    "```python\n",
    "conda -config --add chanels conda-forge\n",
    "``` \n",
    "which specifies to grab any package (through conda) from the conda-forge chanel/repository. \n",
    "\n",
    "\n",
    "- **Step 2.** Do \n",
    "```python \n",
    "conda install geopandas\n",
    "``` \n",
    "If no error messages are kicked back, try to run the preamble below. If no error is returned, then great. Ignore the next steps. If an error is returned, then do the following.\n",
    "\n",
    "- **Step 3.** Do the following, \n",
    "```python \n",
    "conda update --all\n",
    "```\n",
    "which will update your conda distribution. This may take some time (10-15mins). Then I think everything should work. \n",
    "\n",
    "#### MAC USERS: MY JUPYTER NOTEBOOK IS NO LONGER WORKING...\n",
    "\n",
    "- Sorry, but if you followed my advice in class, due to an issue with anaconda, you probably are in the situation where you can not open up a jupyter notebook. Here is how to fix this. In a terminal type \n",
    "```python\n",
    "conda install tornado=4.5.3\n",
    "``` \n",
    "This should then allow you to open up a jupyter notebook.\n",
    "\n",
    "#### MAC USERS: I KEEP GETTING THIS ERROR\n",
    "Some people are getting an error of this nature. \n",
    " \n",
    "```python\n",
    "ImportError: dlopen(/anaconda3/lib/python3.6/site-packages/fiona/ogrext.cpython-36m-darwin.so, 2): Library not loaded: @rpath/libuuid.1.dylib\n",
    "  Referenced from: /anaconda3/lib/libgdal.20.dylib\n",
    "  Reason: image not found\n",
    "``` \n",
    "Here is an approach that seems to help. First, \n",
    "```python\n",
    "conda uninstall fiona\n",
    "conda uninstall geopandas\n",
    "``` \n",
    "Next verify that they are not installed. Then\n",
    "```python\n",
    "pip install geopandas\n",
    "``` \n",
    "And there has been luck in getting everything to work.\n",
    "\n",
    "---"
   ]
  },
  {
   "cell_type": "code",
   "execution_count": null,
   "metadata": {},
   "outputs": [],
   "source": []
  }
 ],
 "metadata": {
  "kernelspec": {
   "display_name": "Python 3",
   "language": "python",
   "name": "python3"
  },
  "language_info": {
   "codemirror_mode": {
    "name": "ipython",
    "version": 3
   },
   "file_extension": ".py",
   "mimetype": "text/x-python",
   "name": "python",
   "nbconvert_exporter": "python",
   "pygments_lexer": "ipython3",
   "version": "3.6.6"
  }
 },
 "nbformat": 4,
 "nbformat_minor": 2
}
