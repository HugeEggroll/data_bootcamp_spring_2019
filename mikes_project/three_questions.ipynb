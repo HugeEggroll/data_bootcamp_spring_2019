{
 "cells": [
  {
   "cell_type": "markdown",
   "metadata": {},
   "source": [
    "## Three Questions\n",
    "### by Michael Waugh\n",
    "\n",
    "---\n",
    "\n",
    "1. **How have home/apartment sales in New York City changed after the tax changes in 2017?**\n",
    "\n",
    "Basic idea is to track home sales in New York City and see how they change after the changes in the US tax code. The basic idea is that changes in deducations would have affected home sales. See this [article in the Wall Street Journal](https://www.wsj.com/articles/after-tax-overhaul-manhattan-real-estate-sales-seize-up-1518012000). The want that I'm looking for is essentially two graphics. One is a \"heat-like\" map of sales in NYC before and after the change. Another is a line plot showing sales by type and then an indicator showing how they evolved after the change. All the data that is required is on home sales which can be found here [https://www1.nyc.gov/site/finance/taxes/property-rolling-sales-data.page](https://www1.nyc.gov/site/finance/taxes/property-rolling-sales-data.page). This dataset may be merged with census data on demographic information and income at the zip code level.\n",
    "\n",
    "\n",
    "2. **What is the relationship between Chinese tariffs and spending patterns in the United States?**\n",
    "\n",
    "I will use data on auto and home sales at the county level and correlate them with a county's exposure to China's retaliatory tariffs to understand how people respond to these types of shocks. The hardest element is to construct the exposure metric at the county level, but [Chad Bown's](https://piie.com/blogs/trade-investment-policy-watch/trump-trade-war-china-date-guide) data is a first step. I'm looking for several graphs. Three maps: one showing the trade exposure across counties and another showing the change in auto and home sales. A line chart for both home sales and autos showing how the group of counties that are most exposed changes relative to a group of counties that are least exposed.\n",
    "\n",
    "2. **Housing Collapse and Beer Prices** \n",
    "\n",
    "Across the US different localities experienced different changes in their exposure to the housing/finacial criss of 2008. The idea is to use the Zillow home sales data and relate this to the IRI dataset on Beer Prices (other goods may be interesting or an average across goods would be of interest). Again, the idea is to have a map of the change in home sales and beer prices. And then a line chart showing how areas more exposed beer prices changed relative to those that are least exposed. My college in Finance Prof. Stroebel explored this more generally [here](http://pages.stern.nyu.edu/~jstroebe/PDF/SV_RetailPrices.pdf) and see the informal take [here](https://www.citylab.com/equity/2015/01/what-14-cocktails-say-about-neighborhood-housing-prices/384469/)\n",
    "\n"
   ]
  },
  {
   "cell_type": "code",
   "execution_count": null,
   "metadata": {},
   "outputs": [],
   "source": []
  }
 ],
 "metadata": {
  "hide_input": false,
  "kernelspec": {
   "display_name": "Python 3",
   "language": "python",
   "name": "python3"
  },
  "language_info": {
   "codemirror_mode": {
    "name": "ipython",
    "version": 3
   },
   "file_extension": ".py",
   "mimetype": "text/x-python",
   "name": "python",
   "nbconvert_exporter": "python",
   "pygments_lexer": "ipython3",
   "version": "3.7.1"
  }
 },
 "nbformat": 4,
 "nbformat_minor": 2
}
